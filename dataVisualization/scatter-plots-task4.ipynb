{
 "cells": [
  {
   "cell_type": "markdown",
   "id": "322f0015",
   "metadata": {
    "papermill": {
     "duration": 0.035047,
     "end_time": "2022-02-25T09:22:44.529016",
     "exception": false,
     "start_time": "2022-02-25T09:22:44.493969",
     "status": "completed"
    },
    "tags": []
   },
   "source": [
    "**This notebook is an exercise in the [Data Visualization](https://www.kaggle.com/learn/data-visualization) course.  You can reference the tutorial at [this link](https://www.kaggle.com/alexisbcook/scatter-plots).**\n",
    "\n",
    "---\n"
   ]
  },
  {
   "cell_type": "markdown",
   "id": "a0079bca",
   "metadata": {
    "papermill": {
     "duration": 0.03273,
     "end_time": "2022-02-25T09:22:44.595050",
     "exception": false,
     "start_time": "2022-02-25T09:22:44.562320",
     "status": "completed"
    },
    "tags": []
   },
   "source": [
    "In this exercise, you will use your new knowledge to propose a solution to a real-world scenario.  To succeed, you will need to import data into Python, answer questions using the data, and generate **scatter plots** to understand patterns in the data.\n",
    "\n",
    "## Scenario\n",
    "\n",
    "You work for a major candy producer, and your goal is to write a report that your company can use to guide the design of its next product.  Soon after starting your research, you stumble across this [very interesting dataset](https://fivethirtyeight.com/features/the-ultimate-halloween-candy-power-ranking/) containing results from a fun survey to crowdsource favorite candies.\n",
    "\n",
    "## Setup\n",
    "\n",
    "Run the next cell to import and configure the Python libraries that you need to complete the exercise."
   ]
  },
  {
   "cell_type": "code",
   "execution_count": 1,
   "id": "b307db62",
   "metadata": {
    "execution": {
     "iopub.execute_input": "2022-02-25T09:22:44.669387Z",
     "iopub.status.busy": "2022-02-25T09:22:44.668774Z",
     "iopub.status.idle": "2022-02-25T09:22:45.850457Z",
     "shell.execute_reply": "2022-02-25T09:22:45.849776Z",
     "shell.execute_reply.started": "2022-02-25T09:06:12.755546Z"
    },
    "papermill": {
     "duration": 1.222482,
     "end_time": "2022-02-25T09:22:45.850642",
     "exception": false,
     "start_time": "2022-02-25T09:22:44.628160",
     "status": "completed"
    },
    "tags": []
   },
   "outputs": [
    {
     "name": "stdout",
     "output_type": "stream",
     "text": [
      "Setup Complete\n"
     ]
    }
   ],
   "source": [
    "import pandas as pd\n",
    "pd.plotting.register_matplotlib_converters()\n",
    "import matplotlib.pyplot as plt\n",
    "%matplotlib inline\n",
    "import seaborn as sns\n",
    "print(\"Setup Complete\")"
   ]
  },
  {
   "cell_type": "markdown",
   "id": "cba40ca5",
   "metadata": {
    "papermill": {
     "duration": 0.033699,
     "end_time": "2022-02-25T09:22:45.920696",
     "exception": false,
     "start_time": "2022-02-25T09:22:45.886997",
     "status": "completed"
    },
    "tags": []
   },
   "source": [
    "The questions below will give you feedback on your work. Run the following cell to set up our feedback system."
   ]
  },
  {
   "cell_type": "code",
   "execution_count": 2,
   "id": "dede3014",
   "metadata": {
    "execution": {
     "iopub.execute_input": "2022-02-25T09:22:45.993823Z",
     "iopub.status.busy": "2022-02-25T09:22:45.993128Z",
     "iopub.status.idle": "2022-02-25T09:22:46.058092Z",
     "shell.execute_reply": "2022-02-25T09:22:46.058759Z",
     "shell.execute_reply.started": "2022-02-25T09:06:18.776341Z"
    },
    "papermill": {
     "duration": 0.10343,
     "end_time": "2022-02-25T09:22:46.058943",
     "exception": false,
     "start_time": "2022-02-25T09:22:45.955513",
     "status": "completed"
    },
    "tags": []
   },
   "outputs": [
    {
     "name": "stdout",
     "output_type": "stream",
     "text": [
      "Setup Complete\n"
     ]
    }
   ],
   "source": [
    "# Set up code checking\n",
    "import os\n",
    "if not os.path.exists(\"../input/candy.csv\"):\n",
    "    os.symlink(\"../input/data-for-datavis/candy.csv\", \"../input/candy.csv\") \n",
    "from learntools.core import binder\n",
    "binder.bind(globals())\n",
    "from learntools.data_viz_to_coder.ex4 import *\n",
    "print(\"Setup Complete\")"
   ]
  },
  {
   "cell_type": "markdown",
   "id": "6903741b",
   "metadata": {
    "papermill": {
     "duration": 0.036248,
     "end_time": "2022-02-25T09:22:46.129719",
     "exception": false,
     "start_time": "2022-02-25T09:22:46.093471",
     "status": "completed"
    },
    "tags": []
   },
   "source": [
    "## Step 1: Load the Data\n",
    "\n",
    "Read the candy data file into `candy_data`.  Use the `\"id\"` column to label the rows."
   ]
  },
  {
   "cell_type": "code",
   "execution_count": 3,
   "id": "52cb4cd8",
   "metadata": {
    "execution": {
     "iopub.execute_input": "2022-02-25T09:22:46.202321Z",
     "iopub.status.busy": "2022-02-25T09:22:46.201645Z",
     "iopub.status.idle": "2022-02-25T09:22:46.215914Z",
     "shell.execute_reply": "2022-02-25T09:22:46.216512Z",
     "shell.execute_reply.started": "2022-02-25T09:07:34.576779Z"
    },
    "papermill": {
     "duration": 0.051559,
     "end_time": "2022-02-25T09:22:46.216678",
     "exception": false,
     "start_time": "2022-02-25T09:22:46.165119",
     "status": "completed"
    },
    "tags": []
   },
   "outputs": [
    {
     "data": {
      "application/javascript": [
       "parent.postMessage({\"jupyterEvent\": \"custom.exercise_interaction\", \"data\": {\"outcomeType\": 1, \"valueTowardsCompletion\": 0.3333333333333333, \"interactionType\": 1, \"questionType\": 1, \"questionId\": \"1_LoadData\", \"learnToolsVersion\": \"0.3.4\", \"failureMessage\": \"\", \"exceptionClass\": \"\", \"trace\": \"\"}}, \"*\")"
      ],
      "text/plain": [
       "<IPython.core.display.Javascript object>"
      ]
     },
     "metadata": {},
     "output_type": "display_data"
    },
    {
     "data": {
      "text/markdown": [
       "<span style=\"color:#33cc33\">Correct</span>"
      ],
      "text/plain": [
       "Correct"
      ]
     },
     "metadata": {},
     "output_type": "display_data"
    }
   ],
   "source": [
    "# Path of the file to read\n",
    "candy_filepath = \"../input/candy.csv\"\n",
    "\n",
    "# Fill in the line below to read the file into a variable candy_data\n",
    "candy_data = pd.read_csv(candy_filepath, index_col='id')\n",
    "\n",
    "# Run the line below with no changes to check that you've loaded the data correctly\n",
    "step_1.check()"
   ]
  },
  {
   "cell_type": "code",
   "execution_count": 4,
   "id": "341bf0c0",
   "metadata": {
    "execution": {
     "iopub.execute_input": "2022-02-25T09:22:46.290363Z",
     "iopub.status.busy": "2022-02-25T09:22:46.289743Z",
     "iopub.status.idle": "2022-02-25T09:22:46.292571Z",
     "shell.execute_reply": "2022-02-25T09:22:46.293130Z"
    },
    "papermill": {
     "duration": 0.041315,
     "end_time": "2022-02-25T09:22:46.293326",
     "exception": false,
     "start_time": "2022-02-25T09:22:46.252011",
     "status": "completed"
    },
    "tags": []
   },
   "outputs": [],
   "source": [
    "# Lines below will give you a hint or solution code\n",
    "#step_1.hint()\n",
    "#step_1.solution()"
   ]
  },
  {
   "cell_type": "markdown",
   "id": "fdf23b4c",
   "metadata": {
    "papermill": {
     "duration": 0.035947,
     "end_time": "2022-02-25T09:22:46.365442",
     "exception": false,
     "start_time": "2022-02-25T09:22:46.329495",
     "status": "completed"
    },
    "tags": []
   },
   "source": [
    "## Step 2: Review the data\n",
    "\n",
    "Use a Python command to print the first five rows of the data."
   ]
  },
  {
   "cell_type": "code",
   "execution_count": 5,
   "id": "d810258c",
   "metadata": {
    "execution": {
     "iopub.execute_input": "2022-02-25T09:22:46.441480Z",
     "iopub.status.busy": "2022-02-25T09:22:46.440796Z",
     "iopub.status.idle": "2022-02-25T09:22:46.463788Z",
     "shell.execute_reply": "2022-02-25T09:22:46.463242Z",
     "shell.execute_reply.started": "2022-02-25T09:07:55.176739Z"
    },
    "papermill": {
     "duration": 0.062057,
     "end_time": "2022-02-25T09:22:46.463926",
     "exception": false,
     "start_time": "2022-02-25T09:22:46.401869",
     "status": "completed"
    },
    "tags": []
   },
   "outputs": [
    {
     "data": {
      "text/html": [
       "<div>\n",
       "<style scoped>\n",
       "    .dataframe tbody tr th:only-of-type {\n",
       "        vertical-align: middle;\n",
       "    }\n",
       "\n",
       "    .dataframe tbody tr th {\n",
       "        vertical-align: top;\n",
       "    }\n",
       "\n",
       "    .dataframe thead th {\n",
       "        text-align: right;\n",
       "    }\n",
       "</style>\n",
       "<table border=\"1\" class=\"dataframe\">\n",
       "  <thead>\n",
       "    <tr style=\"text-align: right;\">\n",
       "      <th></th>\n",
       "      <th>competitorname</th>\n",
       "      <th>chocolate</th>\n",
       "      <th>fruity</th>\n",
       "      <th>caramel</th>\n",
       "      <th>peanutyalmondy</th>\n",
       "      <th>nougat</th>\n",
       "      <th>crispedricewafer</th>\n",
       "      <th>hard</th>\n",
       "      <th>bar</th>\n",
       "      <th>pluribus</th>\n",
       "      <th>sugarpercent</th>\n",
       "      <th>pricepercent</th>\n",
       "      <th>winpercent</th>\n",
       "    </tr>\n",
       "    <tr>\n",
       "      <th>id</th>\n",
       "      <th></th>\n",
       "      <th></th>\n",
       "      <th></th>\n",
       "      <th></th>\n",
       "      <th></th>\n",
       "      <th></th>\n",
       "      <th></th>\n",
       "      <th></th>\n",
       "      <th></th>\n",
       "      <th></th>\n",
       "      <th></th>\n",
       "      <th></th>\n",
       "      <th></th>\n",
       "    </tr>\n",
       "  </thead>\n",
       "  <tbody>\n",
       "    <tr>\n",
       "      <th>0</th>\n",
       "      <td>100 Grand</td>\n",
       "      <td>Yes</td>\n",
       "      <td>No</td>\n",
       "      <td>Yes</td>\n",
       "      <td>No</td>\n",
       "      <td>No</td>\n",
       "      <td>Yes</td>\n",
       "      <td>No</td>\n",
       "      <td>Yes</td>\n",
       "      <td>No</td>\n",
       "      <td>0.732</td>\n",
       "      <td>0.860</td>\n",
       "      <td>66.971725</td>\n",
       "    </tr>\n",
       "    <tr>\n",
       "      <th>1</th>\n",
       "      <td>3 Musketeers</td>\n",
       "      <td>Yes</td>\n",
       "      <td>No</td>\n",
       "      <td>No</td>\n",
       "      <td>No</td>\n",
       "      <td>Yes</td>\n",
       "      <td>No</td>\n",
       "      <td>No</td>\n",
       "      <td>Yes</td>\n",
       "      <td>No</td>\n",
       "      <td>0.604</td>\n",
       "      <td>0.511</td>\n",
       "      <td>67.602936</td>\n",
       "    </tr>\n",
       "    <tr>\n",
       "      <th>2</th>\n",
       "      <td>Air Heads</td>\n",
       "      <td>No</td>\n",
       "      <td>Yes</td>\n",
       "      <td>No</td>\n",
       "      <td>No</td>\n",
       "      <td>No</td>\n",
       "      <td>No</td>\n",
       "      <td>No</td>\n",
       "      <td>No</td>\n",
       "      <td>No</td>\n",
       "      <td>0.906</td>\n",
       "      <td>0.511</td>\n",
       "      <td>52.341465</td>\n",
       "    </tr>\n",
       "    <tr>\n",
       "      <th>3</th>\n",
       "      <td>Almond Joy</td>\n",
       "      <td>Yes</td>\n",
       "      <td>No</td>\n",
       "      <td>No</td>\n",
       "      <td>Yes</td>\n",
       "      <td>No</td>\n",
       "      <td>No</td>\n",
       "      <td>No</td>\n",
       "      <td>Yes</td>\n",
       "      <td>No</td>\n",
       "      <td>0.465</td>\n",
       "      <td>0.767</td>\n",
       "      <td>50.347546</td>\n",
       "    </tr>\n",
       "    <tr>\n",
       "      <th>4</th>\n",
       "      <td>Baby Ruth</td>\n",
       "      <td>Yes</td>\n",
       "      <td>No</td>\n",
       "      <td>Yes</td>\n",
       "      <td>Yes</td>\n",
       "      <td>Yes</td>\n",
       "      <td>No</td>\n",
       "      <td>No</td>\n",
       "      <td>Yes</td>\n",
       "      <td>No</td>\n",
       "      <td>0.604</td>\n",
       "      <td>0.767</td>\n",
       "      <td>56.914547</td>\n",
       "    </tr>\n",
       "  </tbody>\n",
       "</table>\n",
       "</div>"
      ],
      "text/plain": [
       "   competitorname chocolate fruity caramel peanutyalmondy nougat  \\\n",
       "id                                                                 \n",
       "0       100 Grand       Yes     No     Yes             No     No   \n",
       "1    3 Musketeers       Yes     No      No             No    Yes   \n",
       "2       Air Heads        No    Yes      No             No     No   \n",
       "3      Almond Joy       Yes     No      No            Yes     No   \n",
       "4       Baby Ruth       Yes     No     Yes            Yes    Yes   \n",
       "\n",
       "   crispedricewafer hard  bar pluribus  sugarpercent  pricepercent  winpercent  \n",
       "id                                                                              \n",
       "0               Yes   No  Yes       No         0.732         0.860   66.971725  \n",
       "1                No   No  Yes       No         0.604         0.511   67.602936  \n",
       "2                No   No   No       No         0.906         0.511   52.341465  \n",
       "3                No   No  Yes       No         0.465         0.767   50.347546  \n",
       "4                No   No  Yes       No         0.604         0.767   56.914547  "
      ]
     },
     "execution_count": 5,
     "metadata": {},
     "output_type": "execute_result"
    }
   ],
   "source": [
    "# Print the first five rows of the data\n",
    "candy_data.head() # Your code here"
   ]
  },
  {
   "cell_type": "markdown",
   "id": "e33e2819",
   "metadata": {
    "papermill": {
     "duration": 0.035741,
     "end_time": "2022-02-25T09:22:46.535771",
     "exception": false,
     "start_time": "2022-02-25T09:22:46.500030",
     "status": "completed"
    },
    "tags": []
   },
   "source": [
    "The dataset contains 83 rows, where each corresponds to a different candy bar.  There are 13 columns:\n",
    "- `'competitorname'` contains the name of the candy bar. \n",
    "- the next **9** columns (from `'chocolate'` to `'pluribus'`) describe the candy.  For instance, rows with chocolate candies have `\"Yes\"` in the `'chocolate'` column (and candies without chocolate have `\"No\"` in the same column).\n",
    "- `'sugarpercent'` provides some indication of the amount of sugar, where higher values signify higher sugar content.\n",
    "- `'pricepercent'` shows the price per unit, relative to the other candies in the dataset.\n",
    "- `'winpercent'` is calculated from the survey results; higher values indicate that the candy was more popular with survey respondents.\n",
    "\n",
    "Use the first five rows of the data to answer the questions below."
   ]
  },
  {
   "cell_type": "code",
   "execution_count": 6,
   "id": "4303aed1",
   "metadata": {
    "execution": {
     "iopub.execute_input": "2022-02-25T09:22:46.616815Z",
     "iopub.status.busy": "2022-02-25T09:22:46.615889Z",
     "iopub.status.idle": "2022-02-25T09:22:46.621576Z",
     "shell.execute_reply": "2022-02-25T09:22:46.620996Z",
     "shell.execute_reply.started": "2022-02-25T09:10:48.900891Z"
    },
    "papermill": {
     "duration": 0.048606,
     "end_time": "2022-02-25T09:22:46.621733",
     "exception": false,
     "start_time": "2022-02-25T09:22:46.573127",
     "status": "completed"
    },
    "tags": []
   },
   "outputs": [
    {
     "data": {
      "application/javascript": [
       "parent.postMessage({\"jupyterEvent\": \"custom.exercise_interaction\", \"data\": {\"outcomeType\": 1, \"valueTowardsCompletion\": 0.3333333333333333, \"interactionType\": 1, \"questionType\": 1, \"questionId\": \"2_ReviewData\", \"learnToolsVersion\": \"0.3.4\", \"failureMessage\": \"\", \"exceptionClass\": \"\", \"trace\": \"\"}}, \"*\")"
      ],
      "text/plain": [
       "<IPython.core.display.Javascript object>"
      ]
     },
     "metadata": {},
     "output_type": "display_data"
    },
    {
     "data": {
      "text/markdown": [
       "<span style=\"color:#33cc33\">Correct</span>"
      ],
      "text/plain": [
       "Correct"
      ]
     },
     "metadata": {},
     "output_type": "display_data"
    }
   ],
   "source": [
    "# Fill in the line below: Which candy was more popular with survey respondents:\n",
    "# '3 Musketeers' or 'Almond Joy'?  (Please enclose your answer in single quotes.)\n",
    "more_popular = '3 Musketeers'\n",
    "\n",
    "# Fill in the line below: Which candy has higher sugar content: 'Air Heads'\n",
    "# or 'Baby Ruth'? (Please enclose your answer in single quotes.)\n",
    "more_sugar = 'Air Heads'\n",
    "\n",
    "# Check your answers\n",
    "step_2.check()"
   ]
  },
  {
   "cell_type": "code",
   "execution_count": 7,
   "id": "82b703c2",
   "metadata": {
    "execution": {
     "iopub.execute_input": "2022-02-25T09:22:46.704613Z",
     "iopub.status.busy": "2022-02-25T09:22:46.703403Z",
     "iopub.status.idle": "2022-02-25T09:22:46.707078Z",
     "shell.execute_reply": "2022-02-25T09:22:46.707755Z"
    },
    "papermill": {
     "duration": 0.045431,
     "end_time": "2022-02-25T09:22:46.707945",
     "exception": false,
     "start_time": "2022-02-25T09:22:46.662514",
     "status": "completed"
    },
    "tags": []
   },
   "outputs": [],
   "source": [
    "# Lines below will give you a hint or solution code\n",
    "#step_2.hint()\n",
    "#step_2.solution()"
   ]
  },
  {
   "cell_type": "markdown",
   "id": "86935b18",
   "metadata": {
    "papermill": {
     "duration": 0.037567,
     "end_time": "2022-02-25T09:22:46.783631",
     "exception": false,
     "start_time": "2022-02-25T09:22:46.746064",
     "status": "completed"
    },
    "tags": []
   },
   "source": [
    "## Step 3: The role of sugar\n",
    "\n",
    "Do people tend to prefer candies with higher sugar content?  \n",
    "\n",
    "#### Part A\n",
    "\n",
    "Create a scatter plot that shows the relationship between `'sugarpercent'` (on the horizontal x-axis) and `'winpercent'` (on the vertical y-axis).  _Don't add a regression line just yet -- you'll do that in the next step!_"
   ]
  },
  {
   "cell_type": "code",
   "execution_count": 8,
   "id": "a68dbd86",
   "metadata": {
    "execution": {
     "iopub.execute_input": "2022-02-25T09:22:46.862887Z",
     "iopub.status.busy": "2022-02-25T09:22:46.861763Z",
     "iopub.status.idle": "2022-02-25T09:22:47.116377Z",
     "shell.execute_reply": "2022-02-25T09:22:47.116948Z",
     "shell.execute_reply.started": "2022-02-25T09:13:16.400439Z"
    },
    "papermill": {
     "duration": 0.295999,
     "end_time": "2022-02-25T09:22:47.117124",
     "exception": false,
     "start_time": "2022-02-25T09:22:46.821125",
     "status": "completed"
    },
    "tags": []
   },
   "outputs": [
    {
     "data": {
      "application/javascript": [
       "parent.postMessage({\"jupyterEvent\": \"custom.exercise_interaction\", \"data\": {\"outcomeType\": 1, \"valueTowardsCompletion\": 0.3333333333333333, \"interactionType\": 1, \"questionType\": 2, \"questionId\": \"3.1_PlotBlueScatter\", \"learnToolsVersion\": \"0.3.4\", \"failureMessage\": \"\", \"exceptionClass\": \"\", \"trace\": \"\"}}, \"*\")"
      ],
      "text/plain": [
       "<IPython.core.display.Javascript object>"
      ]
     },
     "metadata": {},
     "output_type": "display_data"
    },
    {
     "data": {
      "text/markdown": [
       "<span style=\"color:#33cc33\">Correct</span>"
      ],
      "text/plain": [
       "Correct"
      ]
     },
     "metadata": {},
     "output_type": "display_data"
    },
    {
     "data": {
      "image/png": "[encoded data removed]",
      "text/plain": [
       "<Figure size 432x288 with 1 Axes>"
      ]
     },
     "metadata": {
      "needs_background": "light"
     },
     "output_type": "display_data"
    }
   ],
   "source": [
    "# Scatter plot showing the relationship between 'sugarpercent' and 'winpercent'\n",
    "sns.scatterplot(x=candy_data['sugarpercent'], y=candy_data['winpercent']) # Your code here\n",
    "\n",
    "# Check your answer\n",
    "step_3.a.check()"
   ]
  },
  {
   "cell_type": "code",
   "execution_count": 9,
   "id": "181e7d84",
   "metadata": {
    "execution": {
     "iopub.execute_input": "2022-02-25T09:22:47.202344Z",
     "iopub.status.busy": "2022-02-25T09:22:47.201033Z",
     "iopub.status.idle": "2022-02-25T09:22:47.203175Z",
     "shell.execute_reply": "2022-02-25T09:22:47.203697Z"
    },
    "papermill": {
     "duration": 0.047225,
     "end_time": "2022-02-25T09:22:47.203869",
     "exception": false,
     "start_time": "2022-02-25T09:22:47.156644",
     "status": "completed"
    },
    "tags": []
   },
   "outputs": [],
   "source": [
    "# Lines below will give you a hint or solution code\n",
    "#step_3.a.hint()\n",
    "#step_3.a.solution_plot()"
   ]
  },
  {
   "cell_type": "markdown",
   "id": "b33e1c13",
   "metadata": {
    "papermill": {
     "duration": 0.039559,
     "end_time": "2022-02-25T09:22:47.284007",
     "exception": false,
     "start_time": "2022-02-25T09:22:47.244448",
     "status": "completed"
    },
    "tags": []
   },
   "source": [
    "#### Part B\n",
    "\n",
    "Does the scatter plot show a **strong** correlation between the two variables?  If so, are candies with more sugar relatively more or less popular with the survey respondents?"
   ]
  },
  {
   "cell_type": "code",
   "execution_count": 10,
   "id": "cf146a5c",
   "metadata": {
    "execution": {
     "iopub.execute_input": "2022-02-25T09:22:47.368784Z",
     "iopub.status.busy": "2022-02-25T09:22:47.367745Z",
     "iopub.status.idle": "2022-02-25T09:22:47.370037Z",
     "shell.execute_reply": "2022-02-25T09:22:47.370535Z"
    },
    "papermill": {
     "duration": 0.046851,
     "end_time": "2022-02-25T09:22:47.370710",
     "exception": false,
     "start_time": "2022-02-25T09:22:47.323859",
     "status": "completed"
    },
    "tags": []
   },
   "outputs": [],
   "source": [
    "#step_3.b.hint()"
   ]
  },
  {
   "cell_type": "code",
   "execution_count": 11,
   "id": "c1b3e331",
   "metadata": {
    "execution": {
     "iopub.execute_input": "2022-02-25T09:22:47.456867Z",
     "iopub.status.busy": "2022-02-25T09:22:47.455820Z",
     "iopub.status.idle": "2022-02-25T09:22:47.461013Z",
     "shell.execute_reply": "2022-02-25T09:22:47.461519Z",
     "shell.execute_reply.started": "2022-02-25T09:13:30.901912Z"
    },
    "papermill": {
     "duration": 0.050544,
     "end_time": "2022-02-25T09:22:47.461701",
     "exception": false,
     "start_time": "2022-02-25T09:22:47.411157",
     "status": "completed"
    },
    "tags": []
   },
   "outputs": [
    {
     "data": {
      "application/javascript": [
       "parent.postMessage({\"jupyterEvent\": \"custom.exercise_interaction\", \"data\": {\"interactionType\": 3, \"questionType\": 4, \"questionId\": \"3.2_ThinkBlueScatter\", \"learnToolsVersion\": \"0.3.4\", \"valueTowardsCompletion\": 0.0, \"failureMessage\": \"\", \"exceptionClass\": \"\", \"trace\": \"\", \"outcomeType\": 4}}, \"*\")"
      ],
      "text/plain": [
       "<IPython.core.display.Javascript object>"
      ]
     },
     "metadata": {},
     "output_type": "display_data"
    },
    {
     "data": {
      "text/markdown": [
       "<span style=\"color:#33cc99\">Solution:</span> The scatter plot does not show a strong correlation between the two variables. Since there is no clear relationship between the two variables, this tells us that sugar content does not play a strong role in candy popularity."
      ],
      "text/plain": [
       "Solution: The scatter plot does not show a strong correlation between the two variables. Since there is no clear relationship between the two variables, this tells us that sugar content does not play a strong role in candy popularity."
      ]
     },
     "metadata": {},
     "output_type": "display_data"
    }
   ],
   "source": [
    "# Check your answer (Run this code cell to receive credit!)\n",
    "step_3.b.solution()"
   ]
  },
  {
   "cell_type": "markdown",
   "id": "acc88758",
   "metadata": {
    "papermill": {
     "duration": 0.0411,
     "end_time": "2022-02-25T09:22:47.543887",
     "exception": false,
     "start_time": "2022-02-25T09:22:47.502787",
     "status": "completed"
    },
    "tags": []
   },
   "source": [
    "## Step 4: Take a closer look\n",
    "\n",
    "#### Part A\n",
    "\n",
    "Create the same scatter plot you created in **Step 3**, but now with a regression line!"
   ]
  },
  {
   "cell_type": "code",
   "execution_count": 12,
   "id": "52a1b697",
   "metadata": {
    "execution": {
     "iopub.execute_input": "2022-02-25T09:22:47.631065Z",
     "iopub.status.busy": "2022-02-25T09:22:47.629935Z",
     "iopub.status.idle": "2022-02-25T09:22:47.963657Z",
     "shell.execute_reply": "2022-02-25T09:22:47.964314Z",
     "shell.execute_reply.started": "2022-02-25T09:15:55.456774Z"
    },
    "papermill": {
     "duration": 0.379093,
     "end_time": "2022-02-25T09:22:47.964497",
     "exception": false,
     "start_time": "2022-02-25T09:22:47.585404",
     "status": "completed"
    },
    "tags": []
   },
   "outputs": [
    {
     "data": {
      "application/javascript": [
       "parent.postMessage({\"jupyterEvent\": \"custom.exercise_interaction\", \"data\": {\"outcomeType\": 1, \"valueTowardsCompletion\": 0.3333333333333333, \"interactionType\": 1, \"questionType\": 2, \"questionId\": \"4.1_PlotBlueReg\", \"learnToolsVersion\": \"0.3.4\", \"failureMessage\": \"\", \"exceptionClass\": \"\", \"trace\": \"\"}}, \"*\")"
      ],
      "text/plain": [
       "<IPython.core.display.Javascript object>"
      ]
     },
     "metadata": {},
     "output_type": "display_data"
    },
    {
     "data": {
      "text/markdown": [
       "<span style=\"color:#33cc33\">Correct</span>"
      ],
      "text/plain": [
       "Correct"
      ]
     },
     "metadata": {},
     "output_type": "display_data"
    },
    {
     "data": {
      "image/png": "[encoded data removed]",
      "text/plain": [
       "<Figure size 432x288 with 1 Axes>"
      ]
     },
     "metadata": {
      "needs_background": "light"
     },
     "output_type": "display_data"
    }
   ],
   "source": [
    "# Scatter plot w/ regression line showing the relationship between 'sugarpercent' and 'winpercent'\n",
    "sns.regplot(x=candy_data['sugarpercent'], y=candy_data['winpercent']) # Your code here\n",
    "\n",
    "# Check your answer\n",
    "step_4.a.check()"
   ]
  },
  {
   "cell_type": "code",
   "execution_count": 13,
   "id": "d5e06ff2",
   "metadata": {
    "execution": {
     "iopub.execute_input": "2022-02-25T09:22:48.057434Z",
     "iopub.status.busy": "2022-02-25T09:22:48.056389Z",
     "iopub.status.idle": "2022-02-25T09:22:48.059800Z",
     "shell.execute_reply": "2022-02-25T09:22:48.060366Z"
    },
    "papermill": {
     "duration": 0.051785,
     "end_time": "2022-02-25T09:22:48.060532",
     "exception": false,
     "start_time": "2022-02-25T09:22:48.008747",
     "status": "completed"
    },
    "tags": []
   },
   "outputs": [],
   "source": [
    "# Lines below will give you a hint or solution code\n",
    "#step_4.a.hint()\n",
    "#step_4.a.solution_plot()"
   ]
  },
  {
   "cell_type": "markdown",
   "id": "7998361a",
   "metadata": {
    "papermill": {
     "duration": 0.043454,
     "end_time": "2022-02-25T09:22:48.147559",
     "exception": false,
     "start_time": "2022-02-25T09:22:48.104105",
     "status": "completed"
    },
    "tags": []
   },
   "source": [
    "#### Part B\n",
    "\n",
    "According to the plot above, is there a **slight** correlation between `'winpercent'` and `'sugarpercent'`?  What does this tell you about the candy that people tend to prefer?"
   ]
  },
  {
   "cell_type": "code",
   "execution_count": 14,
   "id": "5dd583db",
   "metadata": {
    "execution": {
     "iopub.execute_input": "2022-02-25T09:22:48.238859Z",
     "iopub.status.busy": "2022-02-25T09:22:48.237880Z",
     "iopub.status.idle": "2022-02-25T09:22:48.241060Z",
     "shell.execute_reply": "2022-02-25T09:22:48.241685Z"
    },
    "papermill": {
     "duration": 0.050511,
     "end_time": "2022-02-25T09:22:48.241850",
     "exception": false,
     "start_time": "2022-02-25T09:22:48.191339",
     "status": "completed"
    },
    "tags": []
   },
   "outputs": [],
   "source": [
    "#step_4.b.hint()"
   ]
  },
  {
   "cell_type": "code",
   "execution_count": 15,
   "id": "56003fb2",
   "metadata": {
    "execution": {
     "iopub.execute_input": "2022-02-25T09:22:48.333542Z",
     "iopub.status.busy": "2022-02-25T09:22:48.332541Z",
     "iopub.status.idle": "2022-02-25T09:22:48.339622Z",
     "shell.execute_reply": "2022-02-25T09:22:48.340252Z",
     "shell.execute_reply.started": "2022-02-25T09:16:07.761736Z"
    },
    "papermill": {
     "duration": 0.054557,
     "end_time": "2022-02-25T09:22:48.340424",
     "exception": false,
     "start_time": "2022-02-25T09:22:48.285867",
     "status": "completed"
    },
    "tags": []
   },
   "outputs": [
    {
     "data": {
      "application/javascript": [
       "parent.postMessage({\"jupyterEvent\": \"custom.exercise_interaction\", \"data\": {\"interactionType\": 3, \"questionType\": 4, \"questionId\": \"4.2_ThinkBlueReg\", \"learnToolsVersion\": \"0.3.4\", \"valueTowardsCompletion\": 0.0, \"failureMessage\": \"\", \"exceptionClass\": \"\", \"trace\": \"\", \"outcomeType\": 4}}, \"*\")"
      ],
      "text/plain": [
       "<IPython.core.display.Javascript object>"
      ]
     },
     "metadata": {},
     "output_type": "display_data"
    },
    {
     "data": {
      "text/markdown": [
       "<span style=\"color:#33cc99\">Solution:</span> Since the regression line has a slightly positive slope, this tells us that there is a slightly positive correlation between `'winpercent'` and `'sugarpercent'`. Thus, people have a slight preference for candies containing relatively more sugar."
      ],
      "text/plain": [
       "Solution: Since the regression line has a slightly positive slope, this tells us that there is a slightly positive correlation between `'winpercent'` and `'sugarpercent'`. Thus, people have a slight preference for candies containing relatively more sugar."
      ]
     },
     "metadata": {},
     "output_type": "display_data"
    }
   ],
   "source": [
    "# Check your answer (Run this code cell to receive credit!)\n",
    "step_4.b.solution()"
   ]
  },
  {
   "cell_type": "markdown",
   "id": "5b5b205e",
   "metadata": {
    "papermill": {
     "duration": 0.044288,
     "end_time": "2022-02-25T09:22:48.429449",
     "exception": false,
     "start_time": "2022-02-25T09:22:48.385161",
     "status": "completed"
    },
    "tags": []
   },
   "source": [
    "## Step 5: Chocolate!\n",
    "\n",
    "In the code cell below, create a scatter plot to show the relationship between `'pricepercent'` (on the horizontal x-axis) and `'winpercent'` (on the vertical y-axis). Use the `'chocolate'` column to color-code the points.  _Don't add any regression lines just yet -- you'll do that in the next step!_"
   ]
  },
  {
   "cell_type": "code",
   "execution_count": 16,
   "id": "431eb7f9",
   "metadata": {
    "execution": {
     "iopub.execute_input": "2022-02-25T09:22:48.522677Z",
     "iopub.status.busy": "2022-02-25T09:22:48.521672Z",
     "iopub.status.idle": "2022-02-25T09:22:48.788194Z",
     "shell.execute_reply": "2022-02-25T09:22:48.788726Z",
     "shell.execute_reply.started": "2022-02-25T09:18:17.415913Z"
    },
    "papermill": {
     "duration": 0.314819,
     "end_time": "2022-02-25T09:22:48.788905",
     "exception": false,
     "start_time": "2022-02-25T09:22:48.474086",
     "status": "completed"
    },
    "tags": []
   },
   "outputs": [
    {
     "data": {
      "application/javascript": [
       "parent.postMessage({\"jupyterEvent\": \"custom.exercise_interaction\", \"data\": {\"outcomeType\": 1, \"valueTowardsCompletion\": 0.3333333333333333, \"interactionType\": 1, \"questionType\": 2, \"questionId\": \"5_ColorScatter\", \"learnToolsVersion\": \"0.3.4\", \"failureMessage\": \"\", \"exceptionClass\": \"\", \"trace\": \"\"}}, \"*\")"
      ],
      "text/plain": [
       "<IPython.core.display.Javascript object>"
      ]
     },
     "metadata": {},
     "output_type": "display_data"
    },
    {
     "data": {
      "text/markdown": [
       "<span style=\"color:#33cc33\">Correct</span>"
      ],
      "text/plain": [
       "Correct"
      ]
     },
     "metadata": {},
     "output_type": "display_data"
    },
    {
     "data": {
      "image/png": "[encoded data removed]",
      "text/plain": [
       "<Figure size 432x288 with 1 Axes>"
      ]
     },
     "metadata": {
      "needs_background": "light"
     },
     "output_type": "display_data"
    }
   ],
   "source": [
    "# Scatter plot showing the relationship between 'pricepercent', 'winpercent', and 'chocolate'\n",
    "sns.scatterplot(x=candy_data['pricepercent'], y=candy_data['winpercent'], hue=candy_data['chocolate']) # Your code here\n",
    "\n",
    "# Check your answer\n",
    "step_5.check()"
   ]
  },
  {
   "cell_type": "code",
   "execution_count": 17,
   "id": "c4b23738",
   "metadata": {
    "execution": {
     "iopub.execute_input": "2022-02-25T09:22:48.888591Z",
     "iopub.status.busy": "2022-02-25T09:22:48.887879Z",
     "iopub.status.idle": "2022-02-25T09:22:48.890437Z",
     "shell.execute_reply": "2022-02-25T09:22:48.889907Z"
    },
    "papermill": {
     "duration": 0.05441,
     "end_time": "2022-02-25T09:22:48.890584",
     "exception": false,
     "start_time": "2022-02-25T09:22:48.836174",
     "status": "completed"
    },
    "tags": []
   },
   "outputs": [],
   "source": [
    "# Lines below will give you a hint or solution code\n",
    "#step_5.hint()\n",
    "#step_5.solution_plot()"
   ]
  },
  {
   "cell_type": "markdown",
   "id": "98c324ed",
   "metadata": {
    "papermill": {
     "duration": 0.04701,
     "end_time": "2022-02-25T09:22:48.986091",
     "exception": false,
     "start_time": "2022-02-25T09:22:48.939081",
     "status": "completed"
    },
    "tags": []
   },
   "source": [
    "Can you see any interesting patterns in the scatter plot?  We'll investigate this plot further  by adding regression lines in the next step!\n",
    "\n",
    "## Step 6: Investigate chocolate\n",
    "\n",
    "#### Part A\n",
    "\n",
    "Create the same scatter plot you created in **Step 5**, but now with two regression lines, corresponding to (1) chocolate candies and (2) candies without chocolate."
   ]
  },
  {
   "cell_type": "code",
   "execution_count": 18,
   "id": "4cfcef2e",
   "metadata": {
    "execution": {
     "iopub.execute_input": "2022-02-25T09:22:49.085668Z",
     "iopub.status.busy": "2022-02-25T09:22:49.085025Z",
     "iopub.status.idle": "2022-02-25T09:22:49.684657Z",
     "shell.execute_reply": "2022-02-25T09:22:49.683989Z",
     "shell.execute_reply.started": "2022-02-25T09:20:22.521237Z"
    },
    "papermill": {
     "duration": 0.650734,
     "end_time": "2022-02-25T09:22:49.684811",
     "exception": false,
     "start_time": "2022-02-25T09:22:49.034077",
     "status": "completed"
    },
    "tags": []
   },
   "outputs": [
    {
     "data": {
      "application/javascript": [
       "parent.postMessage({\"jupyterEvent\": \"custom.exercise_interaction\", \"data\": {\"outcomeType\": 1, \"valueTowardsCompletion\": 0.3333333333333333, \"interactionType\": 1, \"questionType\": 2, \"questionId\": \"6.1_PlotColorReg\", \"learnToolsVersion\": \"0.3.4\", \"failureMessage\": \"\", \"exceptionClass\": \"\", \"trace\": \"\"}}, \"*\")"
      ],
      "text/plain": [
       "<IPython.core.display.Javascript object>"
      ]
     },
     "metadata": {},
     "output_type": "display_data"
    },
    {
     "data": {
      "text/markdown": [
       "<span style=\"color:#33cc33\">Correct</span>"
      ],
      "text/plain": [
       "Correct"
      ]
     },
     "metadata": {},
     "output_type": "display_data"
    },
    {
     "data": {
      "image/png": "[encoded data removed]",
      "text/plain": [
       "<Figure size 416.375x360 with 1 Axes>"
      ]
     },
     "metadata": {
      "needs_background": "light"
     },
     "output_type": "display_data"
    }
   ],
   "source": [
    "# Color-coded scatter plot w/ regression lines\n",
    "sns.lmplot(x='pricepercent', y='winpercent', hue='chocolate', data=candy_data) # Your code here\n",
    "\n",
    "# Check your answer\n",
    "step_6.a.check()"
   ]
  },
  {
   "cell_type": "code",
   "execution_count": 19,
   "id": "9114a389",
   "metadata": {
    "execution": {
     "iopub.execute_input": "2022-02-25T09:22:49.789888Z",
     "iopub.status.busy": "2022-02-25T09:22:49.788654Z",
     "iopub.status.idle": "2022-02-25T09:22:49.792496Z",
     "shell.execute_reply": "2022-02-25T09:22:49.791843Z"
    },
    "papermill": {
     "duration": 0.057241,
     "end_time": "2022-02-25T09:22:49.792644",
     "exception": false,
     "start_time": "2022-02-25T09:22:49.735403",
     "status": "completed"
    },
    "tags": []
   },
   "outputs": [],
   "source": [
    "# Lines below will give you a hint or solution code\n",
    "#step_6.a.hint()\n",
    "#step_6.a.solution_plot()"
   ]
  },
  {
   "cell_type": "markdown",
   "id": "84a2151e",
   "metadata": {
    "papermill": {
     "duration": 0.049798,
     "end_time": "2022-02-25T09:22:49.892524",
     "exception": false,
     "start_time": "2022-02-25T09:22:49.842726",
     "status": "completed"
    },
    "tags": []
   },
   "source": [
    "#### Part B\n",
    "\n",
    "Using the regression lines, what conclusions can you draw about the effects of chocolate and price on candy popularity?"
   ]
  },
  {
   "cell_type": "code",
   "execution_count": 20,
   "id": "54eb054b",
   "metadata": {
    "execution": {
     "iopub.execute_input": "2022-02-25T09:22:49.998327Z",
     "iopub.status.busy": "2022-02-25T09:22:49.997645Z",
     "iopub.status.idle": "2022-02-25T09:22:50.000916Z",
     "shell.execute_reply": "2022-02-25T09:22:50.000364Z"
    },
    "papermill": {
     "duration": 0.058175,
     "end_time": "2022-02-25T09:22:50.001058",
     "exception": false,
     "start_time": "2022-02-25T09:22:49.942883",
     "status": "completed"
    },
    "tags": []
   },
   "outputs": [],
   "source": [
    "#step_6.b.hint()"
   ]
  },
  {
   "cell_type": "code",
   "execution_count": 21,
   "id": "31601ed8",
   "metadata": {
    "execution": {
     "iopub.execute_input": "2022-02-25T09:22:50.109412Z",
     "iopub.status.busy": "2022-02-25T09:22:50.108706Z",
     "iopub.status.idle": "2022-02-25T09:22:50.114132Z",
     "shell.execute_reply": "2022-02-25T09:22:50.114629Z",
     "shell.execute_reply.started": "2022-02-25T09:20:52.721498Z"
    },
    "papermill": {
     "duration": 0.061748,
     "end_time": "2022-02-25T09:22:50.114809",
     "exception": false,
     "start_time": "2022-02-25T09:22:50.053061",
     "status": "completed"
    },
    "tags": []
   },
   "outputs": [
    {
     "data": {
      "application/javascript": [
       "parent.postMessage({\"jupyterEvent\": \"custom.exercise_interaction\", \"data\": {\"interactionType\": 3, \"questionType\": 4, \"questionId\": \"6.2_ThinkColorReg\", \"learnToolsVersion\": \"0.3.4\", \"valueTowardsCompletion\": 0.0, \"failureMessage\": \"\", \"exceptionClass\": \"\", \"trace\": \"\", \"outcomeType\": 4}}, \"*\")"
      ],
      "text/plain": [
       "<IPython.core.display.Javascript object>"
      ]
     },
     "metadata": {},
     "output_type": "display_data"
    },
    {
     "data": {
      "text/markdown": [
       "<span style=\"color:#33cc99\">Solution:</span> We'll begin with the regression line for chocolate candies. Since this line has a slightly positive slope, we can say that more expensive chocolate candies tend to be more popular (than relatively cheaper chocolate candies).  Likewise, since the regression line for candies without chocolate has a negative slope, we can say that if candies don't contain chocolate, they tend to be more popular when they are cheaper.  One important note, however, is that the dataset is quite small -- so we shouldn't invest too much trust in these patterns!  To inspire more confidence in the results, we should add more candies to the dataset."
      ],
      "text/plain": [
       "Solution: We'll begin with the regression line for chocolate candies. Since this line has a slightly positive slope, we can say that more expensive chocolate candies tend to be more popular (than relatively cheaper chocolate candies).  Likewise, since the regression line for candies without chocolate has a negative slope, we can say that if candies don't contain chocolate, they tend to be more popular when they are cheaper.  One important note, however, is that the dataset is quite small -- so we shouldn't invest too much trust in these patterns!  To inspire more confidence in the results, we should add more candies to the dataset."
      ]
     },
     "metadata": {},
     "output_type": "display_data"
    }
   ],
   "source": [
    "# Check your answer (Run this code cell to receive credit!)\n",
    "step_6.b.solution()"
   ]
  },
  {
   "cell_type": "markdown",
   "id": "7bac7a77",
   "metadata": {
    "papermill": {
     "duration": 0.050808,
     "end_time": "2022-02-25T09:22:50.216921",
     "exception": false,
     "start_time": "2022-02-25T09:22:50.166113",
     "status": "completed"
    },
    "tags": []
   },
   "source": [
    "## Step 7: Everybody loves chocolate.\n",
    "\n",
    "#### Part A\n",
    "\n",
    "Create a categorical scatter plot to highlight the relationship between `'chocolate'` and `'winpercent'`.  Put `'chocolate'` on the (horizontal) x-axis, and `'winpercent'` on the (vertical) y-axis."
   ]
  },
  {
   "cell_type": "code",
   "execution_count": 22,
   "id": "0d714954",
   "metadata": {
    "execution": {
     "iopub.execute_input": "2022-02-25T09:22:50.355817Z",
     "iopub.status.busy": "2022-02-25T09:22:50.347260Z",
     "iopub.status.idle": "2022-02-25T09:22:50.477236Z",
     "shell.execute_reply": "2022-02-25T09:22:50.476680Z",
     "shell.execute_reply.started": "2022-02-25T09:22:10.901207Z"
    },
    "papermill": {
     "duration": 0.2079,
     "end_time": "2022-02-25T09:22:50.477404",
     "exception": false,
     "start_time": "2022-02-25T09:22:50.269504",
     "status": "completed"
    },
    "tags": []
   },
   "outputs": [
    {
     "data": {
      "application/javascript": [
       "parent.postMessage({\"jupyterEvent\": \"custom.exercise_interaction\", \"data\": {\"outcomeType\": 1, \"valueTowardsCompletion\": 0.3333333333333333, \"interactionType\": 1, \"questionType\": 2, \"questionId\": \"7.1_PlotSwarm\", \"learnToolsVersion\": \"0.3.4\", \"failureMessage\": \"\", \"exceptionClass\": \"\", \"trace\": \"\"}}, \"*\")"
      ],
      "text/plain": [
       "<IPython.core.display.Javascript object>"
      ]
     },
     "metadata": {},
     "output_type": "display_data"
    },
    {
     "data": {
      "text/markdown": [
       "<span style=\"color:#33cc33\">Correct</span>"
      ],
      "text/plain": [
       "Correct"
      ]
     },
     "metadata": {},
     "output_type": "display_data"
    },
    {
     "data": {
      "image/png": "[encoded data removed]",
      "text/plain": [
       "<Figure size 432x288 with 1 Axes>"
      ]
     },
     "metadata": {
      "needs_background": "light"
     },
     "output_type": "display_data"
    }
   ],
   "source": [
    "# Scatter plot showing the relationship between 'chocolate' and 'winpercent'\n",
    "sns.swarmplot(x=candy_data['chocolate'], y=candy_data['winpercent']) # Your code here\n",
    "\n",
    "# Check your answer\n",
    "step_7.a.check()"
   ]
  },
  {
   "cell_type": "code",
   "execution_count": 23,
   "id": "fb77d8e8",
   "metadata": {
    "execution": {
     "iopub.execute_input": "2022-02-25T09:22:50.589552Z",
     "iopub.status.busy": "2022-02-25T09:22:50.588882Z",
     "iopub.status.idle": "2022-02-25T09:22:50.592350Z",
     "shell.execute_reply": "2022-02-25T09:22:50.591673Z"
    },
    "papermill": {
     "duration": 0.060638,
     "end_time": "2022-02-25T09:22:50.592487",
     "exception": false,
     "start_time": "2022-02-25T09:22:50.531849",
     "status": "completed"
    },
    "tags": []
   },
   "outputs": [],
   "source": [
    "# Lines below will give you a hint or solution code\n",
    "#step_7.a.hint()\n",
    "#step_7.a.solution_plot()"
   ]
  },
  {
   "cell_type": "markdown",
   "id": "9eb8855a",
   "metadata": {
    "papermill": {
     "duration": 0.053469,
     "end_time": "2022-02-25T09:22:50.699957",
     "exception": false,
     "start_time": "2022-02-25T09:22:50.646488",
     "status": "completed"
    },
    "tags": []
   },
   "source": [
    "#### Part B\n",
    "\n",
    "You decide to dedicate a section of your report to the fact that chocolate candies tend to be more popular than candies without chocolate.  Which plot is more appropriate to tell this story: the plot from **Step 6**, or the plot from **Step 7**?"
   ]
  },
  {
   "cell_type": "code",
   "execution_count": 24,
   "id": "f678cd21",
   "metadata": {
    "execution": {
     "iopub.execute_input": "2022-02-25T09:22:50.811012Z",
     "iopub.status.busy": "2022-02-25T09:22:50.810396Z",
     "iopub.status.idle": "2022-02-25T09:22:50.813873Z",
     "shell.execute_reply": "2022-02-25T09:22:50.814444Z"
    },
    "papermill": {
     "duration": 0.060679,
     "end_time": "2022-02-25T09:22:50.814614",
     "exception": false,
     "start_time": "2022-02-25T09:22:50.753935",
     "status": "completed"
    },
    "tags": []
   },
   "outputs": [],
   "source": [
    "#step_7.b.hint()"
   ]
  },
  {
   "cell_type": "code",
   "execution_count": 25,
   "id": "aa4da77e",
   "metadata": {
    "execution": {
     "iopub.execute_input": "2022-02-25T09:22:50.925402Z",
     "iopub.status.busy": "2022-02-25T09:22:50.924759Z",
     "iopub.status.idle": "2022-02-25T09:22:50.930891Z",
     "shell.execute_reply": "2022-02-25T09:22:50.931489Z",
     "shell.execute_reply.started": "2022-02-25T09:22:19.621174Z"
    },
    "papermill": {
     "duration": 0.063085,
     "end_time": "2022-02-25T09:22:50.931655",
     "exception": false,
     "start_time": "2022-02-25T09:22:50.868570",
     "status": "completed"
    },
    "tags": []
   },
   "outputs": [
    {
     "data": {
      "application/javascript": [
       "parent.postMessage({\"jupyterEvent\": \"custom.exercise_interaction\", \"data\": {\"interactionType\": 3, \"questionType\": 4, \"questionId\": \"7.2_ThinkSwarm\", \"learnToolsVersion\": \"0.3.4\", \"valueTowardsCompletion\": 0.0, \"failureMessage\": \"\", \"exceptionClass\": \"\", \"trace\": \"\", \"outcomeType\": 4}}, \"*\")"
      ],
      "text/plain": [
       "<IPython.core.display.Javascript object>"
      ]
     },
     "metadata": {},
     "output_type": "display_data"
    },
    {
     "data": {
      "text/markdown": [
       "<span style=\"color:#33cc99\">Solution:</span> In this case, the categorical scatter plot from **Step 7** is the more appropriate plot. While both plots tell the desired story, the plot from **Step 6** conveys far more information that could distract from the main point."
      ],
      "text/plain": [
       "Solution: In this case, the categorical scatter plot from **Step 7** is the more appropriate plot. While both plots tell the desired story, the plot from **Step 6** conveys far more information that could distract from the main point."
      ]
     },
     "metadata": {},
     "output_type": "display_data"
    }
   ],
   "source": [
    "# Check your answer (Run this code cell to receive credit!)\n",
    "step_7.b.solution()"
   ]
  },
  {
   "cell_type": "markdown",
   "id": "c5d1ecea",
   "metadata": {
    "papermill": {
     "duration": 0.054587,
     "end_time": "2022-02-25T09:22:51.040962",
     "exception": false,
     "start_time": "2022-02-25T09:22:50.986375",
     "status": "completed"
    },
    "tags": []
   },
   "source": [
    "## Keep going\n",
    "\n",
    "Explore **[histograms and density plots](https://www.kaggle.com/alexisbcook/distributions)**."
   ]
  },
  {
   "cell_type": "markdown",
   "id": "cf7be824",
   "metadata": {
    "papermill": {
     "duration": 0.054728,
     "end_time": "2022-02-25T09:22:51.151787",
     "exception": false,
     "start_time": "2022-02-25T09:22:51.097059",
     "status": "completed"
    },
    "tags": []
   },
   "source": [
    "---\n",
    "\n",
    "\n",
    "\n",
    "\n",
    "*Have questions or comments? Visit the [course discussion forum](https://www.kaggle.com/learn/data-visualization/discussion) to chat with other learners.*"
   ]
  }
 ],
 "metadata": {
  "kernelspec": {
   "display_name": "Python 3",
   "language": "python",
   "name": "python3"
  },
  "language_info": {
   "codemirror_mode": {
    "name": "ipython",
    "version": 3
   },
   "file_extension": ".py",
   "mimetype": "text/x-python",
   "name": "python",
   "nbconvert_exporter": "python",
   "pygments_lexer": "ipython3",
   "version": "3.7.12"
  },
  "papermill": {
   "default_parameters": {},
   "duration": 17.674601,
   "end_time": "2022-02-25T09:22:51.917042",
   "environment_variables": {},
   "exception": null,
   "input_path": "__notebook__.ipynb",
   "output_path": "__notebook__.ipynb",
   "parameters": {},
   "start_time": "2022-02-25T09:22:34.242441",
   "version": "2.3.3"
  }
 },
 "nbformat": 4,
 "nbformat_minor": 5
}
