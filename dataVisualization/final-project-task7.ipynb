{
 "cells": [
  {
   "cell_type": "markdown",
   "id": "3696954d",
   "metadata": {
    "papermill": {
     "duration": 0.018449,
     "end_time": "2022-02-25T10:50:07.121109",
     "exception": false,
     "start_time": "2022-02-25T10:50:07.102660",
     "status": "completed"
    },
    "tags": []
   },
   "source": [
    "**This notebook is an exercise in the [Data Visualization](https://www.kaggle.com/learn/data-visualization) course.  You can reference the tutorial at [this link](https://www.kaggle.com/alexisbcook/final-project).**\n",
    "\n",
    "---\n"
   ]
  },
  {
   "cell_type": "markdown",
   "id": "9e9d362f",
   "metadata": {
    "papermill": {
     "duration": 0.015611,
     "end_time": "2022-02-25T10:50:07.152564",
     "exception": false,
     "start_time": "2022-02-25T10:50:07.136953",
     "status": "completed"
    },
    "tags": []
   },
   "source": [
    "Now it's time for you to demonstrate your new skills with a project of your own!\n",
    "\n",
    "In this exercise, you will work with a dataset of your choosing.  Once you've selected a dataset, you'll design and create your own plot to tell interesting stories behind the data!\n",
    "\n",
    "## Setup\n",
    "\n",
    "Run the next cell to import and configure the Python libraries that you need to complete the exercise."
   ]
  },
  {
   "cell_type": "code",
   "execution_count": 1,
   "id": "fdc8273c",
   "metadata": {
    "execution": {
     "iopub.execute_input": "2022-02-25T10:50:07.191606Z",
     "iopub.status.busy": "2022-02-25T10:50:07.190972Z",
     "iopub.status.idle": "2022-02-25T10:50:08.211632Z",
     "shell.execute_reply": "2022-02-25T10:50:08.212184Z",
     "shell.execute_reply.started": "2022-02-25T10:34:13.194398Z"
    },
    "papermill": {
     "duration": 1.045049,
     "end_time": "2022-02-25T10:50:08.212492",
     "exception": false,
     "start_time": "2022-02-25T10:50:07.167443",
     "status": "completed"
    },
    "tags": []
   },
   "outputs": [
    {
     "name": "stdout",
     "output_type": "stream",
     "text": [
      "Setup Complete\n"
     ]
    }
   ],
   "source": [
    "import pandas as pd\n",
    "pd.plotting.register_matplotlib_converters()\n",
    "import matplotlib.pyplot as plt\n",
    "%matplotlib inline\n",
    "import seaborn as sns\n",
    "print(\"Setup Complete\")"
   ]
  },
  {
   "cell_type": "markdown",
   "id": "489445f6",
   "metadata": {
    "papermill": {
     "duration": 0.015174,
     "end_time": "2022-02-25T10:50:08.243545",
     "exception": false,
     "start_time": "2022-02-25T10:50:08.228371",
     "status": "completed"
    },
    "tags": []
   },
   "source": [
    "The questions below will give you feedback on your work. Run the following cell to set up the feedback system."
   ]
  },
  {
   "cell_type": "code",
   "execution_count": 2,
   "id": "3cfdb7a2",
   "metadata": {
    "execution": {
     "iopub.execute_input": "2022-02-25T10:50:08.280767Z",
     "iopub.status.busy": "2022-02-25T10:50:08.280108Z",
     "iopub.status.idle": "2022-02-25T10:50:08.313097Z",
     "shell.execute_reply": "2022-02-25T10:50:08.313577Z",
     "shell.execute_reply.started": "2022-02-25T10:34:19.627554Z"
    },
    "papermill": {
     "duration": 0.054215,
     "end_time": "2022-02-25T10:50:08.313764",
     "exception": false,
     "start_time": "2022-02-25T10:50:08.259549",
     "status": "completed"
    },
    "tags": []
   },
   "outputs": [
    {
     "name": "stdout",
     "output_type": "stream",
     "text": [
      "Setup Complete\n"
     ]
    }
   ],
   "source": [
    "# Set up code checking\n",
    "from learntools.core import binder\n",
    "binder.bind(globals())\n",
    "from learntools.data_viz_to_coder.ex7 import *\n",
    "print(\"Setup Complete\")"
   ]
  },
  {
   "cell_type": "markdown",
   "id": "fbab5424",
   "metadata": {
    "papermill": {
     "duration": 0.015482,
     "end_time": "2022-02-25T10:50:08.345461",
     "exception": false,
     "start_time": "2022-02-25T10:50:08.329979",
     "status": "completed"
    },
    "tags": []
   },
   "source": [
    "## Step 1: Attach a dataset to the notebook\n",
    "\n",
    "Begin by selecting a CSV dataset from [Kaggle Datasets](https://www.kaggle.com/datasets).  If you're unsure how to do this, please revisit the instructions in the previous tutorial.\n",
    "\n",
    "Once you have selected a dataset, click on the **[+ Add data]** option in the top right corner.  This will generate a pop-up window that you can use to search for your chosen dataset.  \n",
    "\n",
    "![ex6_search_dataset](https://i.imgur.com/cIIWPUS.png)\n",
    "\n",
    "Once you have found the dataset, click on the **[Add]** button to attach it to the notebook.  You can check that it was successful by looking at the **Data** dropdown menu to the right of the notebook -- look for an **input** folder containing a subfolder that matches the name of the dataset.\n",
    "\n",
    "<center>\n",
    "<img src=\"https://i.imgur.com/nMYc1Nu.png\" width=30%><br/>\n",
    "</center>\n",
    "\n",
    "You can click on the carat to the left of the name of the dataset to double-check that it contains a CSV file.  For instance, the image below shows that the example dataset contains two CSV files: (1) **dc-wikia-data.csv**, and (2) **marvel-wikia-data.csv**.\n",
    "\n",
    "<center>\n",
    "<img src=\"https://i.imgur.com/B4sJkVA.png\" width=30%><br/>\n",
    "</center>\n",
    "\n",
    "Once you've uploaded a dataset with a CSV file, run the code cell below **without changes** to receive credit for your work!"
   ]
  },
  {
   "cell_type": "code",
   "execution_count": 3,
   "id": "2e68271b",
   "metadata": {
    "execution": {
     "iopub.execute_input": "2022-02-25T10:50:08.380413Z",
     "iopub.status.busy": "2022-02-25T10:50:08.379789Z",
     "iopub.status.idle": "2022-02-25T10:50:08.399923Z",
     "shell.execute_reply": "2022-02-25T10:50:08.400413Z",
     "shell.execute_reply.started": "2022-02-25T10:39:07.015386Z"
    },
    "papermill": {
     "duration": 0.039223,
     "end_time": "2022-02-25T10:50:08.400592",
     "exception": false,
     "start_time": "2022-02-25T10:50:08.361369",
     "status": "completed"
    },
    "tags": []
   },
   "outputs": [
    {
     "data": {
      "application/javascript": [
       "parent.postMessage({\"jupyterEvent\": \"custom.exercise_interaction\", \"data\": {\"outcomeType\": 1, \"valueTowardsCompletion\": 0.25, \"interactionType\": 1, \"questionType\": 2, \"questionId\": \"1_AttachData\", \"learnToolsVersion\": \"0.3.4\", \"failureMessage\": \"\", \"exceptionClass\": \"\", \"trace\": \"\"}}, \"*\")"
      ],
      "text/plain": [
       "<IPython.core.display.Javascript object>"
      ]
     },
     "metadata": {},
     "output_type": "display_data"
    },
    {
     "data": {
      "text/markdown": [
       "<span style=\"color:#33cc33\">Correct:</span> \n",
       "\n"
      ],
      "text/plain": [
       "Correct: \n"
      ]
     },
     "metadata": {},
     "output_type": "display_data"
    }
   ],
   "source": [
    "# Check for a dataset with a CSV file\n",
    "step_1.check()"
   ]
  },
  {
   "cell_type": "markdown",
   "id": "08e591b9",
   "metadata": {
    "papermill": {
     "duration": 0.016911,
     "end_time": "2022-02-25T10:50:08.434655",
     "exception": false,
     "start_time": "2022-02-25T10:50:08.417744",
     "status": "completed"
    },
    "tags": []
   },
   "source": [
    "## Step 2: Specify the filepath\n",
    "\n",
    "Now that the dataset is attached to the notebook, you can find its filepath.  To do this, begin by clicking on the CSV file you'd like to use.  This will open the CSV file in a tab below the notebook.  You can find the filepath towards the top of this new tab.  \n",
    "\n",
    "![ex6_filepath](https://i.imgur.com/fgXQV47.png)\n",
    "\n",
    "After you find the filepath corresponding to your dataset, fill it in as the value for `my_filepath` in the code cell below, and run the code cell to check that you've provided a valid filepath.  For instance, in the case of this example dataset, we would set\n",
    "```\n",
    "my_filepath = \"../input/fivethirtyeight-comic-characters-dataset/dc-wikia-data.csv\"\n",
    "```  \n",
    "Note that **you must enclose the filepath in quotation marks**; otherwise, the code will return an error.\n",
    "\n",
    "Once you've entered the filepath, you can close the tab below the notebook by clicking on the **[X]** at the top of the tab."
   ]
  },
  {
   "cell_type": "code",
   "execution_count": 4,
   "id": "2f471e47",
   "metadata": {
    "execution": {
     "iopub.execute_input": "2022-02-25T10:50:08.472048Z",
     "iopub.status.busy": "2022-02-25T10:50:08.471434Z",
     "iopub.status.idle": "2022-02-25T10:50:08.477681Z",
     "shell.execute_reply": "2022-02-25T10:50:08.478275Z",
     "shell.execute_reply.started": "2022-02-25T10:40:33.216186Z"
    },
    "papermill": {
     "duration": 0.026725,
     "end_time": "2022-02-25T10:50:08.478443",
     "exception": false,
     "start_time": "2022-02-25T10:50:08.451718",
     "status": "completed"
    },
    "tags": []
   },
   "outputs": [
    {
     "data": {
      "application/javascript": [
       "parent.postMessage({\"jupyterEvent\": \"custom.exercise_interaction\", \"data\": {\"outcomeType\": 1, \"valueTowardsCompletion\": 0.25, \"interactionType\": 1, \"questionType\": 2, \"questionId\": \"2_Filepath\", \"learnToolsVersion\": \"0.3.4\", \"failureMessage\": \"\", \"exceptionClass\": \"\", \"trace\": \"\"}}, \"*\")"
      ],
      "text/plain": [
       "<IPython.core.display.Javascript object>"
      ]
     },
     "metadata": {},
     "output_type": "display_data"
    },
    {
     "data": {
      "text/markdown": [
       "<span style=\"color:#33cc33\">Correct:</span> \n",
       "\n"
      ],
      "text/plain": [
       "Correct: \n"
      ]
     },
     "metadata": {},
     "output_type": "display_data"
    }
   ],
   "source": [
    "# Fill in the line below: Specify the path of the CSV file to read\n",
    "my_filepath = \"../input/worldwide-omicron-dataset/omicron.csv\"\n",
    "\n",
    "# Check for a valid filepath to a CSV file in a dataset\n",
    "step_2.check()"
   ]
  },
  {
   "cell_type": "markdown",
   "id": "5e5d0fcc",
   "metadata": {
    "papermill": {
     "duration": 0.017838,
     "end_time": "2022-02-25T10:50:08.514565",
     "exception": false,
     "start_time": "2022-02-25T10:50:08.496727",
     "status": "completed"
    },
    "tags": []
   },
   "source": [
    "## Step 3: Load the data\n",
    "\n",
    "Use the next code cell to load your data file into `my_data`.  Use the filepath that you specified in the previous step."
   ]
  },
  {
   "cell_type": "code",
   "execution_count": 5,
   "id": "ee6be6d4",
   "metadata": {
    "execution": {
     "iopub.execute_input": "2022-02-25T10:50:08.554195Z",
     "iopub.status.busy": "2022-02-25T10:50:08.553504Z",
     "iopub.status.idle": "2022-02-25T10:50:08.575748Z",
     "shell.execute_reply": "2022-02-25T10:50:08.575228Z",
     "shell.execute_reply.started": "2022-02-25T10:40:58.310362Z"
    },
    "papermill": {
     "duration": 0.043178,
     "end_time": "2022-02-25T10:50:08.575920",
     "exception": false,
     "start_time": "2022-02-25T10:50:08.532742",
     "status": "completed"
    },
    "tags": []
   },
   "outputs": [
    {
     "data": {
      "application/javascript": [
       "parent.postMessage({\"jupyterEvent\": \"custom.exercise_interaction\", \"data\": {\"outcomeType\": 1, \"valueTowardsCompletion\": 0.25, \"interactionType\": 1, \"questionType\": 2, \"questionId\": \"3_LoadData\", \"learnToolsVersion\": \"0.3.4\", \"failureMessage\": \"\", \"exceptionClass\": \"\", \"trace\": \"\"}}, \"*\")"
      ],
      "text/plain": [
       "<IPython.core.display.Javascript object>"
      ]
     },
     "metadata": {},
     "output_type": "display_data"
    },
    {
     "data": {
      "text/markdown": [
       "<span style=\"color:#33cc33\">Correct:</span> \n",
       "\n"
      ],
      "text/plain": [
       "Correct: \n"
      ]
     },
     "metadata": {},
     "output_type": "display_data"
    }
   ],
   "source": [
    "# Fill in the line below: Read the file into a variable my_data\n",
    "my_data = pd.read_csv(my_filepath)\n",
    "\n",
    "# Check that a dataset has been uploaded into my_data\n",
    "step_3.check()"
   ]
  },
  {
   "cell_type": "markdown",
   "id": "1acb63ca",
   "metadata": {
    "papermill": {
     "duration": 0.019392,
     "end_time": "2022-02-25T10:50:08.615012",
     "exception": false,
     "start_time": "2022-02-25T10:50:08.595620",
     "status": "completed"
    },
    "tags": []
   },
   "source": [
    "**_After the code cell above is marked correct_**, run the code cell below without changes to view the first five rows of the data."
   ]
  },
  {
   "cell_type": "code",
   "execution_count": 6,
   "id": "164b0f5f",
   "metadata": {
    "execution": {
     "iopub.execute_input": "2022-02-25T10:50:08.661784Z",
     "iopub.status.busy": "2022-02-25T10:50:08.661189Z",
     "iopub.status.idle": "2022-02-25T10:50:08.671959Z",
     "shell.execute_reply": "2022-02-25T10:50:08.672479Z",
     "shell.execute_reply.started": "2022-02-25T10:41:06.775430Z"
    },
    "papermill": {
     "duration": 0.038524,
     "end_time": "2022-02-25T10:50:08.672660",
     "exception": false,
     "start_time": "2022-02-25T10:50:08.634136",
     "status": "completed"
    },
    "tags": []
   },
   "outputs": [
    {
     "data": {
      "text/html": [
       "<div>\n",
       "<style scoped>\n",
       "    .dataframe tbody tr th:only-of-type {\n",
       "        vertical-align: middle;\n",
       "    }\n",
       "\n",
       "    .dataframe tbody tr th {\n",
       "        vertical-align: top;\n",
       "    }\n",
       "\n",
       "    .dataframe thead th {\n",
       "        text-align: right;\n",
       "    }\n",
       "</style>\n",
       "<table border=\"1\" class=\"dataframe\">\n",
       "  <thead>\n",
       "    <tr style=\"text-align: right;\">\n",
       "      <th></th>\n",
       "      <th>Country</th>\n",
       "      <th>Date</th>\n",
       "      <th>Percentage of Omicron</th>\n",
       "    </tr>\n",
       "  </thead>\n",
       "  <tbody>\n",
       "    <tr>\n",
       "      <th>0</th>\n",
       "      <td>Angola</td>\n",
       "      <td>9/20/2021</td>\n",
       "      <td>0.0</td>\n",
       "    </tr>\n",
       "    <tr>\n",
       "      <th>1</th>\n",
       "      <td>Angola</td>\n",
       "      <td>10/4/2021</td>\n",
       "      <td>0.0</td>\n",
       "    </tr>\n",
       "    <tr>\n",
       "      <th>2</th>\n",
       "      <td>Argentina</td>\n",
       "      <td>9/20/2021</td>\n",
       "      <td>0.0</td>\n",
       "    </tr>\n",
       "    <tr>\n",
       "      <th>3</th>\n",
       "      <td>Argentina</td>\n",
       "      <td>10/4/2021</td>\n",
       "      <td>0.0</td>\n",
       "    </tr>\n",
       "    <tr>\n",
       "      <th>4</th>\n",
       "      <td>Argentina</td>\n",
       "      <td>10/18/2021</td>\n",
       "      <td>0.0</td>\n",
       "    </tr>\n",
       "  </tbody>\n",
       "</table>\n",
       "</div>"
      ],
      "text/plain": [
       "     Country        Date  Percentage of Omicron\n",
       "0     Angola   9/20/2021                    0.0\n",
       "1     Angola   10/4/2021                    0.0\n",
       "2  Argentina   9/20/2021                    0.0\n",
       "3  Argentina   10/4/2021                    0.0\n",
       "4  Argentina  10/18/2021                    0.0"
      ]
     },
     "execution_count": 6,
     "metadata": {},
     "output_type": "execute_result"
    }
   ],
   "source": [
    "# Print the first five rows of the data\n",
    "my_data.head()"
   ]
  },
  {
   "cell_type": "markdown",
   "id": "1a2fa8c5",
   "metadata": {
    "papermill": {
     "duration": 0.020009,
     "end_time": "2022-02-25T10:50:08.712966",
     "exception": false,
     "start_time": "2022-02-25T10:50:08.692957",
     "status": "completed"
    },
    "tags": []
   },
   "source": [
    "## Step 4: Visualize the data\n",
    "\n",
    "Use the next code cell to create a figure that tells a story behind your dataset.  You can use any chart type (_line chart, bar chart, heatmap, etc_) of your choosing!"
   ]
  },
  {
   "cell_type": "code",
   "execution_count": 7,
   "id": "f3521d71",
   "metadata": {
    "execution": {
     "iopub.execute_input": "2022-02-25T10:50:08.756655Z",
     "iopub.status.busy": "2022-02-25T10:50:08.755996Z",
     "iopub.status.idle": "2022-02-25T10:50:09.104255Z",
     "shell.execute_reply": "2022-02-25T10:50:09.103631Z",
     "shell.execute_reply.started": "2022-02-25T10:45:21.494710Z"
    },
    "papermill": {
     "duration": 0.371193,
     "end_time": "2022-02-25T10:50:09.104405",
     "exception": false,
     "start_time": "2022-02-25T10:50:08.733212",
     "status": "completed"
    },
    "tags": []
   },
   "outputs": [
    {
     "data": {
      "application/javascript": [
       "parent.postMessage({\"jupyterEvent\": \"custom.exercise_interaction\", \"data\": {\"outcomeType\": 1, \"valueTowardsCompletion\": 0.25, \"interactionType\": 1, \"questionType\": 2, \"questionId\": \"4_CreatePlot\", \"learnToolsVersion\": \"0.3.4\", \"failureMessage\": \"\", \"exceptionClass\": \"\", \"trace\": \"\"}}, \"*\")"
      ],
      "text/plain": [
       "<IPython.core.display.Javascript object>"
      ]
     },
     "metadata": {},
     "output_type": "display_data"
    },
    {
     "data": {
      "text/markdown": [
       "<span style=\"color:#33cc33\">Correct:</span> \n",
       "\n"
      ],
      "text/plain": [
       "Correct: \n"
      ]
     },
     "metadata": {},
     "output_type": "display_data"
    },
    {
     "data": {
      "image/png": "[encoded data removed]",
      "text/plain": [
       "<Figure size 432x288 with 1 Axes>"
      ]
     },
     "metadata": {},
     "output_type": "display_data"
    }
   ],
   "source": [
    "# Create a plot\n",
    "sns.set_style(\"dark\")\n",
    "\n",
    "sns.lineplot(data=my_data) # Your code here\n",
    "\n",
    "# Check that a figure appears below\n",
    "step_4.check()"
   ]
  },
  {
   "cell_type": "code",
   "execution_count": 8,
   "id": "ac5e29ff",
   "metadata": {
    "execution": {
     "iopub.execute_input": "2022-02-25T10:50:09.153307Z",
     "iopub.status.busy": "2022-02-25T10:50:09.152523Z",
     "iopub.status.idle": "2022-02-25T10:50:12.312866Z",
     "shell.execute_reply": "2022-02-25T10:50:12.311769Z",
     "shell.execute_reply.started": "2022-02-25T10:49:36.135997Z"
    },
    "papermill": {
     "duration": 3.185997,
     "end_time": "2022-02-25T10:50:12.313027",
     "exception": false,
     "start_time": "2022-02-25T10:50:09.127030",
     "status": "completed"
    },
    "tags": []
   },
   "outputs": [
    {
     "data": {
      "application/javascript": [
       "parent.postMessage({\"jupyterEvent\": \"custom.exercise_interaction\", \"data\": {\"outcomeType\": 1, \"valueTowardsCompletion\": 0.25, \"interactionType\": 1, \"questionType\": 2, \"questionId\": \"4_CreatePlot\", \"learnToolsVersion\": \"0.3.4\", \"failureMessage\": \"\", \"exceptionClass\": \"\", \"trace\": \"\"}}, \"*\")"
      ],
      "text/plain": [
       "<IPython.core.display.Javascript object>"
      ]
     },
     "metadata": {},
     "output_type": "display_data"
    },
    {
     "data": {
      "text/markdown": [
       "<span style=\"color:#33cc33\">Correct:</span> \n",
       "\n"
      ],
      "text/plain": [
       "Correct: \n"
      ]
     },
     "metadata": {},
     "output_type": "display_data"
    },
    {
     "data": {
      "image/png": "[encoded data removed]",
      "text/plain": [
       "<Figure size 432x288 with 1 Axes>"
      ]
     },
     "metadata": {},
     "output_type": "display_data"
    }
   ],
   "source": [
    "sns.scatterplot(x=my_data['Country'], y=my_data['Date'], hue=my_data['Percentage of Omicron'])\n",
    "step_4.check()"
   ]
  },
  {
   "cell_type": "markdown",
   "id": "20931938",
   "metadata": {
    "papermill": {
     "duration": 0.027275,
     "end_time": "2022-02-25T10:50:12.366727",
     "exception": false,
     "start_time": "2022-02-25T10:50:12.339452",
     "status": "completed"
    },
    "tags": []
   },
   "source": [
    "## Keep going\n",
    "\n",
    "Learn how to use your skills after completing the micro-course to create data visualizations in a **[final tutorial](https://www.kaggle.com/alexisbcook/creating-your-own-notebooks)**."
   ]
  },
  {
   "cell_type": "markdown",
   "id": "027b705b",
   "metadata": {
    "papermill": {
     "duration": 0.025598,
     "end_time": "2022-02-25T10:50:12.418209",
     "exception": false,
     "start_time": "2022-02-25T10:50:12.392611",
     "status": "completed"
    },
    "tags": []
   },
   "source": [
    "---\n",
    "\n",
    "\n",
    "\n",
    "\n",
    "*Have questions or comments? Visit the [course discussion forum](https://www.kaggle.com/learn/data-visualization/discussion) to chat with other learners.*"
   ]
  }
 ],
 "metadata": {
  "kernelspec": {
   "display_name": "Python 3",
   "language": "python",
   "name": "python3"
  },
  "language_info": {
   "codemirror_mode": {
    "name": "ipython",
    "version": 3
   },
   "file_extension": ".py",
   "mimetype": "text/x-python",
   "name": "python",
   "nbconvert_exporter": "python",
   "pygments_lexer": "ipython3",
   "version": "3.7.12"
  },
  "papermill": {
   "default_parameters": {},
   "duration": 15.568081,
   "end_time": "2022-02-25T10:50:13.153993",
   "environment_variables": {},
   "exception": null,
   "input_path": "__notebook__.ipynb",
   "output_path": "__notebook__.ipynb",
   "parameters": {},
   "start_time": "2022-02-25T10:49:57.585912",
   "version": "2.3.3"
  }
 },
 "nbformat": 4,
 "nbformat_minor": 5
}
