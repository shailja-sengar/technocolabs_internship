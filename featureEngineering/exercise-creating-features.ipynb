{
 "cells": [
  {
   "cell_type": "markdown",
   "id": "fac1efbc",
   "metadata": {
    "papermill": {
     "duration": 0.019323,
     "end_time": "2022-02-28T16:35:42.327754",
     "exception": false,
     "start_time": "2022-02-28T16:35:42.308431",
     "status": "completed"
    },
    "tags": []
   },
   "source": [
    "**This notebook is an exercise in the [Feature Engineering](https://www.kaggle.com/learn/feature-engineering) course.  You can reference the tutorial at [this link](https://www.kaggle.com/ryanholbrook/creating-features).**\n",
    "\n",
    "---\n"
   ]
  },
  {
   "cell_type": "markdown",
   "id": "53c85092",
   "metadata": {
    "papermill": {
     "duration": 0.018551,
     "end_time": "2022-02-28T16:35:42.365572",
     "exception": false,
     "start_time": "2022-02-28T16:35:42.347021",
     "status": "completed"
    },
    "tags": []
   },
   "source": [
    "# Introduction #\n",
    "\n",
    "In this exercise you'll start developing the features you identified in Exercise 2 as having the most potential. As you work through this exercise, you might take a moment to look at the data documentation again and consider whether the features we're creating make sense from a real-world perspective, and whether there are any useful combinations that stand out to you.\n",
    "\n",
    "Run this cell to set everything up!"
   ]
  },
  {
   "cell_type": "code",
   "execution_count": 1,
   "id": "ff7f6234",
   "metadata": {
    "execution": {
     "iopub.execute_input": "2022-02-28T16:35:42.410064Z",
     "iopub.status.busy": "2022-02-28T16:35:42.408284Z",
     "iopub.status.idle": "2022-02-28T16:35:43.670535Z",
     "shell.execute_reply": "2022-02-28T16:35:43.669760Z",
     "shell.execute_reply.started": "2022-02-28T16:31:39.905870Z"
    },
    "papermill": {
     "duration": 1.286601,
     "end_time": "2022-02-28T16:35:43.670706",
     "exception": false,
     "start_time": "2022-02-28T16:35:42.384105",
     "status": "completed"
    },
    "tags": []
   },
   "outputs": [],
   "source": [
    "# Setup feedback system\n",
    "from learntools.core import binder\n",
    "binder.bind(globals())\n",
    "from learntools.feature_engineering_new.ex3 import *\n",
    "\n",
    "import numpy as np\n",
    "import pandas as pd\n",
    "from sklearn.model_selection import cross_val_score\n",
    "from xgboost import XGBRegressor\n",
    "\n",
    "\n",
    "def score_dataset(X, y, model=XGBRegressor()):\n",
    "    # Label encoding for categoricals\n",
    "    for colname in X.select_dtypes([\"category\", \"object\"]):\n",
    "        X[colname], _ = X[colname].factorize()\n",
    "    # Metric for Housing competition is RMSLE (Root Mean Squared Log Error)\n",
    "    score = cross_val_score(\n",
    "        model, X, y, cv=5, scoring=\"neg_mean_squared_log_error\",\n",
    "    )\n",
    "    score = -1 * score.mean()\n",
    "    score = np.sqrt(score)\n",
    "    return score\n",
    "\n",
    "\n",
    "# Prepare data\n",
    "df = pd.read_csv(\"../input/fe-course-data/ames.csv\")\n",
    "X = df.copy()\n",
    "y = X.pop(\"SalePrice\")"
   ]
  },
  {
   "cell_type": "markdown",
   "id": "aed03732",
   "metadata": {
    "papermill": {
     "duration": 0.018894,
     "end_time": "2022-02-28T16:35:43.710037",
     "exception": false,
     "start_time": "2022-02-28T16:35:43.691143",
     "status": "completed"
    },
    "tags": []
   },
   "source": [
    "-------------------------------------------------------------------------------\n",
    "\n",
    "Let's start with a few mathematical combinations. We'll focus on features describing areas -- having the same units (square-feet) makes it easy to combine them in sensible ways. Since we're using XGBoost (a tree-based model), we'll focus on ratios and sums.\n",
    "\n",
    "# 1) Create Mathematical Transforms\n",
    "\n",
    "Create the following features:\n",
    "\n",
    "- `LivLotRatio`: the ratio of `GrLivArea` to `LotArea`\n",
    "- `Spaciousness`: the sum of `FirstFlrSF` and `SecondFlrSF` divided by `TotRmsAbvGrd`\n",
    "- `TotalOutsideSF`: the sum of `WoodDeckSF`, `OpenPorchSF`, `EnclosedPorch`, `Threeseasonporch`, and `ScreenPorch`"
   ]
  },
  {
   "cell_type": "code",
   "execution_count": 2,
   "id": "cedd9c2e",
   "metadata": {
    "execution": {
     "iopub.execute_input": "2022-02-28T16:35:43.760296Z",
     "iopub.status.busy": "2022-02-28T16:35:43.759709Z",
     "iopub.status.idle": "2022-02-28T16:35:43.771724Z",
     "shell.execute_reply": "2022-02-28T16:35:43.772200Z",
     "shell.execute_reply.started": "2022-02-28T16:32:23.346813Z"
    },
    "lines_to_next_cell": 0,
    "papermill": {
     "duration": 0.043316,
     "end_time": "2022-02-28T16:35:43.772355",
     "exception": false,
     "start_time": "2022-02-28T16:35:43.729039",
     "status": "completed"
    },
    "tags": []
   },
   "outputs": [
    {
     "data": {
      "application/javascript": [
       "parent.postMessage({\"jupyterEvent\": \"custom.exercise_interaction\", \"data\": {\"outcomeType\": 1, \"valueTowardsCompletion\": 0.2, \"interactionType\": 1, \"questionType\": 2, \"questionId\": \"1_Q1\", \"learnToolsVersion\": \"0.3.4\", \"failureMessage\": \"\", \"exceptionClass\": \"\", \"trace\": \"\"}}, \"*\")"
      ],
      "text/plain": [
       "<IPython.core.display.Javascript object>"
      ]
     },
     "metadata": {},
     "output_type": "display_data"
    },
    {
     "data": {
      "text/markdown": [
       "<span style=\"color:#33cc33\">Correct</span>"
      ],
      "text/plain": [
       "Correct"
      ]
     },
     "metadata": {},
     "output_type": "display_data"
    }
   ],
   "source": [
    "# YOUR CODE HERE\n",
    "X_1 = pd.DataFrame()  # dataframe to hold new features\n",
    "\n",
    "X_1[\"LivLotRatio\"] = df.GrLivArea / df.LotArea\n",
    "X_1[\"Spaciousness\"] = (df.FirstFlrSF + df.SecondFlrSF) / df.TotRmsAbvGrd\n",
    "X_1[\"TotalOutsideSF\"] = df.WoodDeckSF + df.OpenPorchSF + df.EnclosedPorch + df.Threeseasonporch + df.ScreenPorch\n",
    "\n",
    "\n",
    "# Check your answer\n",
    "q_1.check()"
   ]
  },
  {
   "cell_type": "code",
   "execution_count": 3,
   "id": "a2e7fa9e",
   "metadata": {
    "execution": {
     "iopub.execute_input": "2022-02-28T16:35:43.816814Z",
     "iopub.status.busy": "2022-02-28T16:35:43.815219Z",
     "iopub.status.idle": "2022-02-28T16:35:43.818491Z",
     "shell.execute_reply": "2022-02-28T16:35:43.819098Z",
     "shell.execute_reply.started": "2022-02-28T16:32:38.667971Z"
    },
    "lines_to_next_cell": 0,
    "papermill": {
     "duration": 0.026101,
     "end_time": "2022-02-28T16:35:43.819298",
     "exception": false,
     "start_time": "2022-02-28T16:35:43.793197",
     "status": "completed"
    },
    "tags": []
   },
   "outputs": [],
   "source": [
    "# Lines below will give you a hint or solution code\n",
    "#q_1.hint()\n",
    "#q_1.solution()"
   ]
  },
  {
   "cell_type": "markdown",
   "id": "9b73188a",
   "metadata": {
    "papermill": {
     "duration": 0.019718,
     "end_time": "2022-02-28T16:35:43.859538",
     "exception": false,
     "start_time": "2022-02-28T16:35:43.839820",
     "status": "completed"
    },
    "tags": []
   },
   "source": [
    "-------------------------------------------------------------------------------\n",
    "\n",
    "If you've discovered an interaction effect between a numeric feature and a categorical feature, you might want to model it explicitly using a one-hot encoding, like so:\n",
    "\n",
    "```\n",
    "# One-hot encode Categorical feature, adding a column prefix \"Cat\"\n",
    "X_new = pd.get_dummies(df.Categorical, prefix=\"Cat\")\n",
    "\n",
    "# Multiply row-by-row\n",
    "X_new = X_new.mul(df.Continuous, axis=0)\n",
    "\n",
    "# Join the new features to the feature set\n",
    "X = X.join(X_new)\n",
    "```\n",
    "\n",
    "# 2) Interaction with a Categorical\n",
    "\n",
    "We discovered an interaction between `BldgType` and `GrLivArea` in Exercise 2. Now create their interaction features."
   ]
  },
  {
   "cell_type": "code",
   "execution_count": 4,
   "id": "3128feda",
   "metadata": {
    "execution": {
     "iopub.execute_input": "2022-02-28T16:35:43.902964Z",
     "iopub.status.busy": "2022-02-28T16:35:43.902073Z",
     "iopub.status.idle": "2022-02-28T16:35:43.915797Z",
     "shell.execute_reply": "2022-02-28T16:35:43.916253Z",
     "shell.execute_reply.started": "2022-02-28T16:33:14.986063Z"
    },
    "lines_to_next_cell": 0,
    "papermill": {
     "duration": 0.03661,
     "end_time": "2022-02-28T16:35:43.916415",
     "exception": false,
     "start_time": "2022-02-28T16:35:43.879805",
     "status": "completed"
    },
    "tags": []
   },
   "outputs": [
    {
     "data": {
      "application/javascript": [
       "parent.postMessage({\"jupyterEvent\": \"custom.exercise_interaction\", \"data\": {\"outcomeType\": 1, \"valueTowardsCompletion\": 0.2, \"interactionType\": 1, \"questionType\": 2, \"questionId\": \"2_Q2\", \"learnToolsVersion\": \"0.3.4\", \"failureMessage\": \"\", \"exceptionClass\": \"\", \"trace\": \"\"}}, \"*\")"
      ],
      "text/plain": [
       "<IPython.core.display.Javascript object>"
      ]
     },
     "metadata": {},
     "output_type": "display_data"
    },
    {
     "data": {
      "text/markdown": [
       "<span style=\"color:#33cc33\">Correct</span>"
      ],
      "text/plain": [
       "Correct"
      ]
     },
     "metadata": {},
     "output_type": "display_data"
    }
   ],
   "source": [
    "# YOUR CODE HERE\n",
    "# One-hot encode BldgType. Use `prefix=\"Bldg\"` in `get_dummies`\n",
    "X_2 =  pd.get_dummies(df.BldgType, prefix=\"Bldg\")\n",
    "# Multiply\n",
    "X_2 = X_2.mul(df.GrLivArea, axis=0)\n",
    "\n",
    "\n",
    "# Check your answer\n",
    "q_2.check()"
   ]
  },
  {
   "cell_type": "code",
   "execution_count": 5,
   "id": "7888ab7a",
   "metadata": {
    "execution": {
     "iopub.execute_input": "2022-02-28T16:35:43.961324Z",
     "iopub.status.busy": "2022-02-28T16:35:43.960331Z",
     "iopub.status.idle": "2022-02-28T16:35:43.963963Z",
     "shell.execute_reply": "2022-02-28T16:35:43.963344Z",
     "shell.execute_reply.started": "2022-02-28T16:33:22.986471Z"
    },
    "lines_to_next_cell": 0,
    "papermill": {
     "duration": 0.027226,
     "end_time": "2022-02-28T16:35:43.964085",
     "exception": false,
     "start_time": "2022-02-28T16:35:43.936859",
     "status": "completed"
    },
    "tags": []
   },
   "outputs": [],
   "source": [
    "# Lines below will give you a hint or solution code\n",
    "#q_2.hint()\n",
    "#q_2.solution()"
   ]
  },
  {
   "cell_type": "markdown",
   "id": "e417f581",
   "metadata": {
    "lines_to_next_cell": 0,
    "papermill": {
     "duration": 0.021278,
     "end_time": "2022-02-28T16:35:44.006272",
     "exception": false,
     "start_time": "2022-02-28T16:35:43.984994",
     "status": "completed"
    },
    "tags": []
   },
   "source": [
    "# 3) Count Feature\n",
    "\n",
    "Let's try creating a feature that describes how many kinds of outdoor areas a dwelling has. Create a feature `PorchTypes` that counts how many of the following are greater than 0.0:\n",
    "\n",
    "```\n",
    "WoodDeckSF\n",
    "OpenPorchSF\n",
    "EnclosedPorch\n",
    "Threeseasonporch\n",
    "ScreenPorch\n",
    "```"
   ]
  },
  {
   "cell_type": "code",
   "execution_count": 6,
   "id": "bee0113d",
   "metadata": {
    "execution": {
     "iopub.execute_input": "2022-02-28T16:35:44.060876Z",
     "iopub.status.busy": "2022-02-28T16:35:44.059829Z",
     "iopub.status.idle": "2022-02-28T16:35:44.070814Z",
     "shell.execute_reply": "2022-02-28T16:35:44.071293Z",
     "shell.execute_reply.started": "2022-02-28T16:34:00.563140Z"
    },
    "lines_to_next_cell": 0,
    "papermill": {
     "duration": 0.043651,
     "end_time": "2022-02-28T16:35:44.071449",
     "exception": false,
     "start_time": "2022-02-28T16:35:44.027798",
     "status": "completed"
    },
    "tags": []
   },
   "outputs": [
    {
     "data": {
      "application/javascript": [
       "parent.postMessage({\"jupyterEvent\": \"custom.exercise_interaction\", \"data\": {\"outcomeType\": 1, \"valueTowardsCompletion\": 0.2, \"interactionType\": 1, \"questionType\": 2, \"questionId\": \"3_Q3\", \"learnToolsVersion\": \"0.3.4\", \"failureMessage\": \"\", \"exceptionClass\": \"\", \"trace\": \"\"}}, \"*\")"
      ],
      "text/plain": [
       "<IPython.core.display.Javascript object>"
      ]
     },
     "metadata": {},
     "output_type": "display_data"
    },
    {
     "data": {
      "text/markdown": [
       "<span style=\"color:#33cc33\">Correct</span>"
      ],
      "text/plain": [
       "Correct"
      ]
     },
     "metadata": {},
     "output_type": "display_data"
    }
   ],
   "source": [
    "X_3 = pd.DataFrame()\n",
    "\n",
    "# YOUR CODE HERE\n",
    "X_3[\"PorchTypes\"] = df[[\n",
    "    \"WoodDeckSF\",\n",
    "    \"OpenPorchSF\",\n",
    "    \"EnclosedPorch\",\n",
    "    \"Threeseasonporch\",\n",
    "    \"ScreenPorch\",\n",
    "]].gt(0.0).sum(axis=1)\n",
    "\n",
    "\n",
    "# Check your answer\n",
    "q_3.check()"
   ]
  },
  {
   "cell_type": "code",
   "execution_count": 7,
   "id": "5a5856ad",
   "metadata": {
    "execution": {
     "iopub.execute_input": "2022-02-28T16:35:44.119675Z",
     "iopub.status.busy": "2022-02-28T16:35:44.118617Z",
     "iopub.status.idle": "2022-02-28T16:35:44.122226Z",
     "shell.execute_reply": "2022-02-28T16:35:44.121709Z",
     "shell.execute_reply.started": "2022-02-28T16:34:08.523122Z"
    },
    "lines_to_next_cell": 0,
    "papermill": {
     "duration": 0.028685,
     "end_time": "2022-02-28T16:35:44.122365",
     "exception": false,
     "start_time": "2022-02-28T16:35:44.093680",
     "status": "completed"
    },
    "tags": []
   },
   "outputs": [],
   "source": [
    "# Lines below will give you a hint or solution code\n",
    "#q_3.hint()\n",
    "#q_3.solution()"
   ]
  },
  {
   "cell_type": "markdown",
   "id": "b1f40f88",
   "metadata": {
    "papermill": {
     "duration": 0.021939,
     "end_time": "2022-02-28T16:35:44.166527",
     "exception": false,
     "start_time": "2022-02-28T16:35:44.144588",
     "status": "completed"
    },
    "tags": []
   },
   "source": [
    "# 4) Break Down a Categorical Feature\n",
    "\n",
    "`MSSubClass` describes the type of a dwelling:"
   ]
  },
  {
   "cell_type": "code",
   "execution_count": 8,
   "id": "eed1e791",
   "metadata": {
    "execution": {
     "iopub.execute_input": "2022-02-28T16:35:44.218121Z",
     "iopub.status.busy": "2022-02-28T16:35:44.217476Z",
     "iopub.status.idle": "2022-02-28T16:35:44.219943Z",
     "shell.execute_reply": "2022-02-28T16:35:44.220376Z",
     "shell.execute_reply.started": "2022-02-28T16:34:11.482273Z"
    },
    "papermill": {
     "duration": 0.031671,
     "end_time": "2022-02-28T16:35:44.220547",
     "exception": false,
     "start_time": "2022-02-28T16:35:44.188876",
     "status": "completed"
    },
    "tags": []
   },
   "outputs": [
    {
     "data": {
      "text/plain": [
       "array(['One_Story_1946_and_Newer_All_Styles', 'Two_Story_1946_and_Newer',\n",
       "       'One_Story_PUD_1946_and_Newer',\n",
       "       'One_and_Half_Story_Finished_All_Ages', 'Split_Foyer',\n",
       "       'Two_Story_PUD_1946_and_Newer', 'Split_or_Multilevel',\n",
       "       'One_Story_1945_and_Older', 'Duplex_All_Styles_and_Ages',\n",
       "       'Two_Family_conversion_All_Styles_and_Ages',\n",
       "       'One_and_Half_Story_Unfinished_All_Ages',\n",
       "       'Two_Story_1945_and_Older', 'Two_and_Half_Story_All_Ages',\n",
       "       'One_Story_with_Finished_Attic_All_Ages',\n",
       "       'PUD_Multilevel_Split_Level_Foyer',\n",
       "       'One_and_Half_Story_PUD_All_Ages'], dtype=object)"
      ]
     },
     "execution_count": 8,
     "metadata": {},
     "output_type": "execute_result"
    }
   ],
   "source": [
    "df.MSSubClass.unique()"
   ]
  },
  {
   "cell_type": "markdown",
   "id": "79464290",
   "metadata": {
    "papermill": {
     "duration": 0.021933,
     "end_time": "2022-02-28T16:35:44.265680",
     "exception": false,
     "start_time": "2022-02-28T16:35:44.243747",
     "status": "completed"
    },
    "tags": []
   },
   "source": [
    "You can see that there is a more general categorization described (roughly) by the first word of each category. Create a feature containing only these first words by splitting `MSSubClass` at the first underscore `_`. (Hint: In the `split` method use an argument `n=1`.)"
   ]
  },
  {
   "cell_type": "code",
   "execution_count": 9,
   "id": "d06de15b",
   "metadata": {
    "execution": {
     "iopub.execute_input": "2022-02-28T16:35:44.312096Z",
     "iopub.status.busy": "2022-02-28T16:35:44.311531Z",
     "iopub.status.idle": "2022-02-28T16:35:44.333523Z",
     "shell.execute_reply": "2022-02-28T16:35:44.334087Z",
     "shell.execute_reply.started": "2022-02-28T16:34:32.947484Z"
    },
    "lines_to_next_cell": 0,
    "papermill": {
     "duration": 0.046954,
     "end_time": "2022-02-28T16:35:44.334248",
     "exception": false,
     "start_time": "2022-02-28T16:35:44.287294",
     "status": "completed"
    },
    "tags": []
   },
   "outputs": [
    {
     "data": {
      "application/javascript": [
       "parent.postMessage({\"jupyterEvent\": \"custom.exercise_interaction\", \"data\": {\"outcomeType\": 1, \"valueTowardsCompletion\": 0.2, \"interactionType\": 1, \"questionType\": 2, \"questionId\": \"4_Q4\", \"learnToolsVersion\": \"0.3.4\", \"failureMessage\": \"\", \"exceptionClass\": \"\", \"trace\": \"\"}}, \"*\")"
      ],
      "text/plain": [
       "<IPython.core.display.Javascript object>"
      ]
     },
     "metadata": {},
     "output_type": "display_data"
    },
    {
     "data": {
      "text/markdown": [
       "<span style=\"color:#33cc33\">Correct</span>"
      ],
      "text/plain": [
       "Correct"
      ]
     },
     "metadata": {},
     "output_type": "display_data"
    }
   ],
   "source": [
    "X_4 = pd.DataFrame()\n",
    "\n",
    "# YOUR CODE HERE\n",
    "X_4[\"MSClass\"] = df.MSSubClass.str.split(\"_\", n=1, expand=True)[0]\n",
    "\n",
    "# Check your answer\n",
    "q_4.check()"
   ]
  },
  {
   "cell_type": "code",
   "execution_count": 10,
   "id": "d0439e3b",
   "metadata": {
    "execution": {
     "iopub.execute_input": "2022-02-28T16:35:44.385576Z",
     "iopub.status.busy": "2022-02-28T16:35:44.384973Z",
     "iopub.status.idle": "2022-02-28T16:35:44.387625Z",
     "shell.execute_reply": "2022-02-28T16:35:44.388242Z",
     "shell.execute_reply.started": "2022-02-28T16:34:38.422254Z"
    },
    "lines_to_next_cell": 0,
    "papermill": {
     "duration": 0.030156,
     "end_time": "2022-02-28T16:35:44.388414",
     "exception": false,
     "start_time": "2022-02-28T16:35:44.358258",
     "status": "completed"
    },
    "tags": []
   },
   "outputs": [],
   "source": [
    "# Lines below will give you a hint or solution code\n",
    "#q_4.hint()\n",
    "#q_4.solution()"
   ]
  },
  {
   "cell_type": "markdown",
   "id": "da311b29",
   "metadata": {
    "papermill": {
     "duration": 0.023846,
     "end_time": "2022-02-28T16:35:44.437143",
     "exception": false,
     "start_time": "2022-02-28T16:35:44.413297",
     "status": "completed"
    },
    "tags": []
   },
   "source": [
    "# 5) Use a Grouped Transform\n",
    "\n",
    "The value of a home often depends on how it compares to typical homes in its neighborhood. Create a feature `MedNhbdArea` that describes the *median* of `GrLivArea` grouped on `Neighborhood`."
   ]
  },
  {
   "cell_type": "code",
   "execution_count": 11,
   "id": "02aba4f1",
   "metadata": {
    "execution": {
     "iopub.execute_input": "2022-02-28T16:35:44.488255Z",
     "iopub.status.busy": "2022-02-28T16:35:44.487626Z",
     "iopub.status.idle": "2022-02-28T16:35:44.504795Z",
     "shell.execute_reply": "2022-02-28T16:35:44.505283Z",
     "shell.execute_reply.started": "2022-02-28T16:34:59.181978Z"
    },
    "lines_to_next_cell": 0,
    "papermill": {
     "duration": 0.044113,
     "end_time": "2022-02-28T16:35:44.505459",
     "exception": false,
     "start_time": "2022-02-28T16:35:44.461346",
     "status": "completed"
    },
    "tags": []
   },
   "outputs": [
    {
     "data": {
      "application/javascript": [
       "parent.postMessage({\"jupyterEvent\": \"custom.exercise_interaction\", \"data\": {\"outcomeType\": 1, \"valueTowardsCompletion\": 0.2, \"interactionType\": 1, \"questionType\": 2, \"questionId\": \"5_Q5\", \"learnToolsVersion\": \"0.3.4\", \"failureMessage\": \"\", \"exceptionClass\": \"\", \"trace\": \"\"}}, \"*\")"
      ],
      "text/plain": [
       "<IPython.core.display.Javascript object>"
      ]
     },
     "metadata": {},
     "output_type": "display_data"
    },
    {
     "data": {
      "text/markdown": [
       "<span style=\"color:#33cc33\">Correct</span>"
      ],
      "text/plain": [
       "Correct"
      ]
     },
     "metadata": {},
     "output_type": "display_data"
    }
   ],
   "source": [
    "X_5 = pd.DataFrame()\n",
    "\n",
    "# YOUR CODE HERE\n",
    "X_5[\"MedNhbdArea\"] = df.groupby(\"Neighborhood\")[\"GrLivArea\"].transform(\"median\")\n",
    "\n",
    "# Check your answer\n",
    "q_5.check()"
   ]
  },
  {
   "cell_type": "code",
   "execution_count": 12,
   "id": "3a3614d1",
   "metadata": {
    "execution": {
     "iopub.execute_input": "2022-02-28T16:35:44.561411Z",
     "iopub.status.busy": "2022-02-28T16:35:44.560709Z",
     "iopub.status.idle": "2022-02-28T16:35:44.562258Z",
     "shell.execute_reply": "2022-02-28T16:35:44.562726Z",
     "shell.execute_reply.started": "2022-02-28T16:35:05.223110Z"
    },
    "lines_to_next_cell": 0,
    "papermill": {
     "duration": 0.03171,
     "end_time": "2022-02-28T16:35:44.562934",
     "exception": false,
     "start_time": "2022-02-28T16:35:44.531224",
     "status": "completed"
    },
    "tags": []
   },
   "outputs": [],
   "source": [
    "# Lines below will give you a hint or solution code\n",
    "#q_5.hint()\n",
    "#q_5.solution()"
   ]
  },
  {
   "cell_type": "markdown",
   "id": "14a3696e",
   "metadata": {
    "papermill": {
     "duration": 0.025398,
     "end_time": "2022-02-28T16:35:44.614697",
     "exception": false,
     "start_time": "2022-02-28T16:35:44.589299",
     "status": "completed"
    },
    "tags": []
   },
   "source": [
    "Now you've made your first new feature set! If you like, you can run the cell below to score the model with all of your new features added:"
   ]
  },
  {
   "cell_type": "code",
   "execution_count": 13,
   "id": "853ffa8d",
   "metadata": {
    "execution": {
     "iopub.execute_input": "2022-02-28T16:35:44.668749Z",
     "iopub.status.busy": "2022-02-28T16:35:44.668075Z",
     "iopub.status.idle": "2022-02-28T16:35:49.280953Z",
     "shell.execute_reply": "2022-02-28T16:35:49.281421Z",
     "shell.execute_reply.started": "2022-02-28T16:35:13.386273Z"
    },
    "papermill": {
     "duration": 4.64121,
     "end_time": "2022-02-28T16:35:49.281604",
     "exception": false,
     "start_time": "2022-02-28T16:35:44.640394",
     "status": "completed"
    },
    "tags": []
   },
   "outputs": [
    {
     "data": {
      "text/plain": [
       "0.13847331710099203"
      ]
     },
     "execution_count": 13,
     "metadata": {},
     "output_type": "execute_result"
    }
   ],
   "source": [
    "X_new = X.join([X_1, X_2, X_3, X_4, X_5])\n",
    "score_dataset(X_new, y)"
   ]
  },
  {
   "cell_type": "markdown",
   "id": "53aa778d",
   "metadata": {
    "papermill": {
     "duration": 0.024959,
     "end_time": "2022-02-28T16:35:49.332581",
     "exception": false,
     "start_time": "2022-02-28T16:35:49.307622",
     "status": "completed"
    },
    "tags": []
   },
   "source": [
    "# Keep Going #\n",
    "\n",
    "[**Untangle spatial relationships**](https://www.kaggle.com/ryanholbrook/clustering-with-k-means) by adding cluster labels to your dataset."
   ]
  }
 ],
 "metadata": {
  "kernelspec": {
   "display_name": "Python 3",
   "language": "python",
   "name": "python3"
  },
  "language_info": {
   "codemirror_mode": {
    "name": "ipython",
    "version": 3
   },
   "file_extension": ".py",
   "mimetype": "text/x-python",
   "name": "python",
   "nbconvert_exporter": "python",
   "pygments_lexer": "ipython3",
   "version": "3.7.12"
  },
  "papermill": {
   "default_parameters": {},
   "duration": 16.937096,
   "end_time": "2022-02-28T16:35:50.067291",
   "environment_variables": {},
   "exception": null,
   "input_path": "__notebook__.ipynb",
   "output_path": "__notebook__.ipynb",
   "parameters": {},
   "start_time": "2022-02-28T16:35:33.130195",
   "version": "2.3.3"
  }
 },
 "nbformat": 4,
 "nbformat_minor": 5
}
