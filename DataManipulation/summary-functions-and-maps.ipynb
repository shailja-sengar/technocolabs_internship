{
 "cells": [
  {
   "cell_type": "markdown",
   "id": "4fa30414",
   "metadata": {
    "papermill": {
     "duration": 0.030768,
     "end_time": "2022-02-25T17:47:50.885055",
     "exception": false,
     "start_time": "2022-02-25T17:47:50.854287",
     "status": "completed"
    },
    "tags": []
   },
   "source": [
    "**This notebook is an exercise in the [Pandas](https://www.kaggle.com/learn/pandas) course.  You can reference the tutorial at [this link](https://www.kaggle.com/residentmario/summary-functions-and-maps).**\n",
    "\n",
    "---\n"
   ]
  },
  {
   "cell_type": "markdown",
   "id": "2909de17",
   "metadata": {
    "papermill": {
     "duration": 0.024793,
     "end_time": "2022-02-25T17:47:50.940875",
     "exception": false,
     "start_time": "2022-02-25T17:47:50.916082",
     "status": "completed"
    },
    "tags": []
   },
   "source": [
    "# Introduction\n",
    "\n",
    "Now you are ready to get a deeper understanding of your data.\n",
    "\n",
    "Run the following cell to load your data and some utility functions (including code to check your answers)."
   ]
  },
  {
   "cell_type": "code",
   "execution_count": 1,
   "id": "b492efde",
   "metadata": {
    "execution": {
     "iopub.execute_input": "2022-02-25T17:47:51.000489Z",
     "iopub.status.busy": "2022-02-25T17:47:50.999814Z",
     "iopub.status.idle": "2022-02-25T17:47:58.957802Z",
     "shell.execute_reply": "2022-02-25T17:47:58.958563Z",
     "shell.execute_reply.started": "2022-02-25T17:35:41.282119Z"
    },
    "papermill": {
     "duration": 7.992556,
     "end_time": "2022-02-25T17:47:58.959114",
     "exception": false,
     "start_time": "2022-02-25T17:47:50.966558",
     "status": "completed"
    },
    "tags": []
   },
   "outputs": [
    {
     "name": "stdout",
     "output_type": "stream",
     "text": [
      "Setup complete.\n"
     ]
    },
    {
     "data": {
      "text/html": [
       "<div>\n",
       "<style scoped>\n",
       "    .dataframe tbody tr th:only-of-type {\n",
       "        vertical-align: middle;\n",
       "    }\n",
       "\n",
       "    .dataframe tbody tr th {\n",
       "        vertical-align: top;\n",
       "    }\n",
       "\n",
       "    .dataframe thead th {\n",
       "        text-align: right;\n",
       "    }\n",
       "</style>\n",
       "<table border=\"1\" class=\"dataframe\">\n",
       "  <thead>\n",
       "    <tr style=\"text-align: right;\">\n",
       "      <th></th>\n",
       "      <th>country</th>\n",
       "      <th>description</th>\n",
       "      <th>designation</th>\n",
       "      <th>points</th>\n",
       "      <th>price</th>\n",
       "      <th>province</th>\n",
       "      <th>region_1</th>\n",
       "      <th>region_2</th>\n",
       "      <th>taster_name</th>\n",
       "      <th>taster_twitter_handle</th>\n",
       "      <th>title</th>\n",
       "      <th>variety</th>\n",
       "      <th>winery</th>\n",
       "    </tr>\n",
       "  </thead>\n",
       "  <tbody>\n",
       "    <tr>\n",
       "      <th>0</th>\n",
       "      <td>Italy</td>\n",
       "      <td>Aromas include tropical fruit, broom, brimston...</td>\n",
       "      <td>Vulkà Bianco</td>\n",
       "      <td>87</td>\n",
       "      <td>NaN</td>\n",
       "      <td>Sicily &amp; Sardinia</td>\n",
       "      <td>Etna</td>\n",
       "      <td>NaN</td>\n",
       "      <td>Kerin O’Keefe</td>\n",
       "      <td>@kerinokeefe</td>\n",
       "      <td>Nicosia 2013 Vulkà Bianco  (Etna)</td>\n",
       "      <td>White Blend</td>\n",
       "      <td>Nicosia</td>\n",
       "    </tr>\n",
       "    <tr>\n",
       "      <th>1</th>\n",
       "      <td>Portugal</td>\n",
       "      <td>This is ripe and fruity, a wine that is smooth...</td>\n",
       "      <td>Avidagos</td>\n",
       "      <td>87</td>\n",
       "      <td>15.0</td>\n",
       "      <td>Douro</td>\n",
       "      <td>NaN</td>\n",
       "      <td>NaN</td>\n",
       "      <td>Roger Voss</td>\n",
       "      <td>@vossroger</td>\n",
       "      <td>Quinta dos Avidagos 2011 Avidagos Red (Douro)</td>\n",
       "      <td>Portuguese Red</td>\n",
       "      <td>Quinta dos Avidagos</td>\n",
       "    </tr>\n",
       "    <tr>\n",
       "      <th>2</th>\n",
       "      <td>US</td>\n",
       "      <td>Tart and snappy, the flavors of lime flesh and...</td>\n",
       "      <td>NaN</td>\n",
       "      <td>87</td>\n",
       "      <td>14.0</td>\n",
       "      <td>Oregon</td>\n",
       "      <td>Willamette Valley</td>\n",
       "      <td>Willamette Valley</td>\n",
       "      <td>Paul Gregutt</td>\n",
       "      <td>@paulgwine</td>\n",
       "      <td>Rainstorm 2013 Pinot Gris (Willamette Valley)</td>\n",
       "      <td>Pinot Gris</td>\n",
       "      <td>Rainstorm</td>\n",
       "    </tr>\n",
       "    <tr>\n",
       "      <th>3</th>\n",
       "      <td>US</td>\n",
       "      <td>Pineapple rind, lemon pith and orange blossom ...</td>\n",
       "      <td>Reserve Late Harvest</td>\n",
       "      <td>87</td>\n",
       "      <td>13.0</td>\n",
       "      <td>Michigan</td>\n",
       "      <td>Lake Michigan Shore</td>\n",
       "      <td>NaN</td>\n",
       "      <td>Alexander Peartree</td>\n",
       "      <td>NaN</td>\n",
       "      <td>St. Julian 2013 Reserve Late Harvest Riesling ...</td>\n",
       "      <td>Riesling</td>\n",
       "      <td>St. Julian</td>\n",
       "    </tr>\n",
       "    <tr>\n",
       "      <th>4</th>\n",
       "      <td>US</td>\n",
       "      <td>Much like the regular bottling from 2012, this...</td>\n",
       "      <td>Vintner's Reserve Wild Child Block</td>\n",
       "      <td>87</td>\n",
       "      <td>65.0</td>\n",
       "      <td>Oregon</td>\n",
       "      <td>Willamette Valley</td>\n",
       "      <td>Willamette Valley</td>\n",
       "      <td>Paul Gregutt</td>\n",
       "      <td>@paulgwine</td>\n",
       "      <td>Sweet Cheeks 2012 Vintner's Reserve Wild Child...</td>\n",
       "      <td>Pinot Noir</td>\n",
       "      <td>Sweet Cheeks</td>\n",
       "    </tr>\n",
       "  </tbody>\n",
       "</table>\n",
       "</div>"
      ],
      "text/plain": [
       "    country                                        description  \\\n",
       "0     Italy  Aromas include tropical fruit, broom, brimston...   \n",
       "1  Portugal  This is ripe and fruity, a wine that is smooth...   \n",
       "2        US  Tart and snappy, the flavors of lime flesh and...   \n",
       "3        US  Pineapple rind, lemon pith and orange blossom ...   \n",
       "4        US  Much like the regular bottling from 2012, this...   \n",
       "\n",
       "                          designation  points  price           province  \\\n",
       "0                        Vulkà Bianco      87    NaN  Sicily & Sardinia   \n",
       "1                            Avidagos      87   15.0              Douro   \n",
       "2                                 NaN      87   14.0             Oregon   \n",
       "3                Reserve Late Harvest      87   13.0           Michigan   \n",
       "4  Vintner's Reserve Wild Child Block      87   65.0             Oregon   \n",
       "\n",
       "              region_1           region_2         taster_name  \\\n",
       "0                 Etna                NaN       Kerin O’Keefe   \n",
       "1                  NaN                NaN          Roger Voss   \n",
       "2    Willamette Valley  Willamette Valley        Paul Gregutt   \n",
       "3  Lake Michigan Shore                NaN  Alexander Peartree   \n",
       "4    Willamette Valley  Willamette Valley        Paul Gregutt   \n",
       "\n",
       "  taster_twitter_handle                                              title  \\\n",
       "0          @kerinokeefe                  Nicosia 2013 Vulkà Bianco  (Etna)   \n",
       "1            @vossroger      Quinta dos Avidagos 2011 Avidagos Red (Douro)   \n",
       "2           @paulgwine       Rainstorm 2013 Pinot Gris (Willamette Valley)   \n",
       "3                   NaN  St. Julian 2013 Reserve Late Harvest Riesling ...   \n",
       "4           @paulgwine   Sweet Cheeks 2012 Vintner's Reserve Wild Child...   \n",
       "\n",
       "          variety               winery  \n",
       "0     White Blend              Nicosia  \n",
       "1  Portuguese Red  Quinta dos Avidagos  \n",
       "2      Pinot Gris            Rainstorm  \n",
       "3        Riesling           St. Julian  \n",
       "4      Pinot Noir         Sweet Cheeks  "
      ]
     },
     "execution_count": 1,
     "metadata": {},
     "output_type": "execute_result"
    }
   ],
   "source": [
    "import pandas as pd\n",
    "pd.set_option(\"display.max_rows\", 5)\n",
    "reviews = pd.read_csv(\"../input/wine-reviews/winemag-data-130k-v2.csv\", index_col=0)\n",
    "\n",
    "from learntools.core import binder; binder.bind(globals())\n",
    "from learntools.pandas.summary_functions_and_maps import *\n",
    "print(\"Setup complete.\")\n",
    "\n",
    "reviews.head()"
   ]
  },
  {
   "cell_type": "markdown",
   "id": "1dacb5a8",
   "metadata": {
    "papermill": {
     "duration": 0.023308,
     "end_time": "2022-02-25T17:47:59.007682",
     "exception": false,
     "start_time": "2022-02-25T17:47:58.984374",
     "status": "completed"
    },
    "tags": []
   },
   "source": [
    "# Exercises"
   ]
  },
  {
   "cell_type": "markdown",
   "id": "7b0b6064",
   "metadata": {
    "papermill": {
     "duration": 0.023263,
     "end_time": "2022-02-25T17:47:59.054648",
     "exception": false,
     "start_time": "2022-02-25T17:47:59.031385",
     "status": "completed"
    },
    "tags": []
   },
   "source": [
    "## 1.\n",
    "\n",
    "What is the median of the `points` column in the `reviews` DataFrame?"
   ]
  },
  {
   "cell_type": "code",
   "execution_count": 2,
   "id": "17731aea",
   "metadata": {
    "execution": {
     "iopub.execute_input": "2022-02-25T17:47:59.107666Z",
     "iopub.status.busy": "2022-02-25T17:47:59.106979Z",
     "iopub.status.idle": "2022-02-25T17:47:59.113833Z",
     "shell.execute_reply": "2022-02-25T17:47:59.114476Z",
     "shell.execute_reply.started": "2022-02-25T17:36:24.983425Z"
    },
    "papermill": {
     "duration": 0.036489,
     "end_time": "2022-02-25T17:47:59.114679",
     "exception": false,
     "start_time": "2022-02-25T17:47:59.078190",
     "status": "completed"
    },
    "tags": []
   },
   "outputs": [
    {
     "data": {
      "application/javascript": [
       "parent.postMessage({\"jupyterEvent\": \"custom.exercise_interaction\", \"data\": {\"outcomeType\": 1, \"valueTowardsCompletion\": 0.14285714285714285, \"interactionType\": 1, \"questionType\": 1, \"questionId\": \"1_MedianPoints\", \"learnToolsVersion\": \"0.3.4\", \"failureMessage\": \"\", \"exceptionClass\": \"\", \"trace\": \"\"}}, \"*\")"
      ],
      "text/plain": [
       "<IPython.core.display.Javascript object>"
      ]
     },
     "metadata": {},
     "output_type": "display_data"
    },
    {
     "data": {
      "text/markdown": [
       "<span style=\"color:#33cc33\">Correct</span>"
      ],
      "text/plain": [
       "Correct"
      ]
     },
     "metadata": {},
     "output_type": "display_data"
    }
   ],
   "source": [
    "median_points = reviews['points'].median()\n",
    "\n",
    "# Check your answer\n",
    "q1.check()"
   ]
  },
  {
   "cell_type": "code",
   "execution_count": 3,
   "id": "393520a0",
   "metadata": {
    "execution": {
     "iopub.execute_input": "2022-02-25T17:47:59.168028Z",
     "iopub.status.busy": "2022-02-25T17:47:59.167321Z",
     "iopub.status.idle": "2022-02-25T17:47:59.170422Z",
     "shell.execute_reply": "2022-02-25T17:47:59.171047Z"
    },
    "papermill": {
     "duration": 0.031572,
     "end_time": "2022-02-25T17:47:59.171232",
     "exception": false,
     "start_time": "2022-02-25T17:47:59.139660",
     "status": "completed"
    },
    "tags": []
   },
   "outputs": [],
   "source": [
    "#q1.hint()\n",
    "#q1.solution()"
   ]
  },
  {
   "cell_type": "markdown",
   "id": "8aec885f",
   "metadata": {
    "papermill": {
     "duration": 0.024263,
     "end_time": "2022-02-25T17:47:59.220264",
     "exception": false,
     "start_time": "2022-02-25T17:47:59.196001",
     "status": "completed"
    },
    "tags": []
   },
   "source": [
    "## 2. \n",
    "What countries are represented in the dataset? (Your answer should not include any duplicates.)"
   ]
  },
  {
   "cell_type": "code",
   "execution_count": 4,
   "id": "36a35c19",
   "metadata": {
    "execution": {
     "iopub.execute_input": "2022-02-25T17:47:59.273237Z",
     "iopub.status.busy": "2022-02-25T17:47:59.272536Z",
     "iopub.status.idle": "2022-02-25T17:47:59.291866Z",
     "shell.execute_reply": "2022-02-25T17:47:59.292405Z",
     "shell.execute_reply.started": "2022-02-25T17:37:00.682908Z"
    },
    "papermill": {
     "duration": 0.047587,
     "end_time": "2022-02-25T17:47:59.292726",
     "exception": false,
     "start_time": "2022-02-25T17:47:59.245139",
     "status": "completed"
    },
    "tags": []
   },
   "outputs": [
    {
     "data": {
      "application/javascript": [
       "parent.postMessage({\"jupyterEvent\": \"custom.exercise_interaction\", \"data\": {\"outcomeType\": 1, \"valueTowardsCompletion\": 0.14285714285714285, \"interactionType\": 1, \"questionType\": 2, \"questionId\": \"2_UniqueCountries\", \"learnToolsVersion\": \"0.3.4\", \"failureMessage\": \"\", \"exceptionClass\": \"\", \"trace\": \"\"}}, \"*\")"
      ],
      "text/plain": [
       "<IPython.core.display.Javascript object>"
      ]
     },
     "metadata": {},
     "output_type": "display_data"
    },
    {
     "data": {
      "text/markdown": [
       "<span style=\"color:#33cc33\">Correct</span>"
      ],
      "text/plain": [
       "Correct"
      ]
     },
     "metadata": {},
     "output_type": "display_data"
    }
   ],
   "source": [
    "countries = reviews['country'].unique()\n",
    "\n",
    "# Check your answer\n",
    "q2.check()"
   ]
  },
  {
   "cell_type": "code",
   "execution_count": 5,
   "id": "e0a67cc7",
   "metadata": {
    "execution": {
     "iopub.execute_input": "2022-02-25T17:47:59.350268Z",
     "iopub.status.busy": "2022-02-25T17:47:59.349498Z",
     "iopub.status.idle": "2022-02-25T17:47:59.351408Z",
     "shell.execute_reply": "2022-02-25T17:47:59.351981Z"
    },
    "papermill": {
     "duration": 0.033186,
     "end_time": "2022-02-25T17:47:59.352177",
     "exception": false,
     "start_time": "2022-02-25T17:47:59.318991",
     "status": "completed"
    },
    "tags": []
   },
   "outputs": [],
   "source": [
    "#q2.hint()\n",
    "#q2.solution()"
   ]
  },
  {
   "cell_type": "markdown",
   "id": "58421620",
   "metadata": {
    "papermill": {
     "duration": 0.025782,
     "end_time": "2022-02-25T17:47:59.405834",
     "exception": false,
     "start_time": "2022-02-25T17:47:59.380052",
     "status": "completed"
    },
    "tags": []
   },
   "source": [
    "## 3.\n",
    "How often does each country appear in the dataset? Create a Series `reviews_per_country` mapping countries to the count of reviews of wines from that country."
   ]
  },
  {
   "cell_type": "code",
   "execution_count": 6,
   "id": "4394648e",
   "metadata": {
    "execution": {
     "iopub.execute_input": "2022-02-25T17:47:59.485682Z",
     "iopub.status.busy": "2022-02-25T17:47:59.483258Z",
     "iopub.status.idle": "2022-02-25T17:47:59.490095Z",
     "shell.execute_reply": "2022-02-25T17:47:59.489571Z",
     "shell.execute_reply.started": "2022-02-25T17:39:28.143478Z"
    },
    "papermill": {
     "duration": 0.057411,
     "end_time": "2022-02-25T17:47:59.490259",
     "exception": false,
     "start_time": "2022-02-25T17:47:59.432848",
     "status": "completed"
    },
    "tags": []
   },
   "outputs": [
    {
     "data": {
      "application/javascript": [
       "parent.postMessage({\"jupyterEvent\": \"custom.exercise_interaction\", \"data\": {\"outcomeType\": 1, \"valueTowardsCompletion\": 0.14285714285714285, \"interactionType\": 1, \"questionType\": 1, \"questionId\": \"3_ReviewsPerCountry\", \"learnToolsVersion\": \"0.3.4\", \"failureMessage\": \"\", \"exceptionClass\": \"\", \"trace\": \"\"}}, \"*\")"
      ],
      "text/plain": [
       "<IPython.core.display.Javascript object>"
      ]
     },
     "metadata": {},
     "output_type": "display_data"
    },
    {
     "data": {
      "text/markdown": [
       "<span style=\"color:#33cc33\">Correct</span>"
      ],
      "text/plain": [
       "Correct"
      ]
     },
     "metadata": {},
     "output_type": "display_data"
    }
   ],
   "source": [
    "reviews_per_country = reviews.country.value_counts()\n",
    "\n",
    "# Check your answer\n",
    "q3.check()"
   ]
  },
  {
   "cell_type": "code",
   "execution_count": 7,
   "id": "21f946e8",
   "metadata": {
    "execution": {
     "iopub.execute_input": "2022-02-25T17:47:59.549599Z",
     "iopub.status.busy": "2022-02-25T17:47:59.548893Z",
     "iopub.status.idle": "2022-02-25T17:47:59.551640Z",
     "shell.execute_reply": "2022-02-25T17:47:59.552176Z"
    },
    "papermill": {
     "duration": 0.034467,
     "end_time": "2022-02-25T17:47:59.552358",
     "exception": false,
     "start_time": "2022-02-25T17:47:59.517891",
     "status": "completed"
    },
    "tags": []
   },
   "outputs": [],
   "source": [
    "#q3.hint()\n",
    "#q3.solution()"
   ]
  },
  {
   "cell_type": "markdown",
   "id": "ba191c01",
   "metadata": {
    "papermill": {
     "duration": 0.029449,
     "end_time": "2022-02-25T17:47:59.609804",
     "exception": false,
     "start_time": "2022-02-25T17:47:59.580355",
     "status": "completed"
    },
    "tags": []
   },
   "source": [
    "## 4.\n",
    "Create variable `centered_price` containing a version of the `price` column with the mean price subtracted.\n",
    "\n",
    "(Note: this 'centering' transformation is a common preprocessing step before applying various machine learning algorithms.) "
   ]
  },
  {
   "cell_type": "code",
   "execution_count": 8,
   "id": "df18e509",
   "metadata": {
    "execution": {
     "iopub.execute_input": "2022-02-25T17:47:59.668956Z",
     "iopub.status.busy": "2022-02-25T17:47:59.668092Z",
     "iopub.status.idle": "2022-02-25T17:47:59.734002Z",
     "shell.execute_reply": "2022-02-25T17:47:59.733375Z",
     "shell.execute_reply.started": "2022-02-25T17:40:44.482247Z"
    },
    "papermill": {
     "duration": 0.096408,
     "end_time": "2022-02-25T17:47:59.734158",
     "exception": false,
     "start_time": "2022-02-25T17:47:59.637750",
     "status": "completed"
    },
    "tags": []
   },
   "outputs": [
    {
     "data": {
      "application/javascript": [
       "parent.postMessage({\"jupyterEvent\": \"custom.exercise_interaction\", \"data\": {\"outcomeType\": 1, \"valueTowardsCompletion\": 0.14285714285714285, \"interactionType\": 1, \"questionType\": 1, \"questionId\": \"4_CenteredPrice\", \"learnToolsVersion\": \"0.3.4\", \"failureMessage\": \"\", \"exceptionClass\": \"\", \"trace\": \"\"}}, \"*\")"
      ],
      "text/plain": [
       "<IPython.core.display.Javascript object>"
      ]
     },
     "metadata": {},
     "output_type": "display_data"
    },
    {
     "data": {
      "text/markdown": [
       "<span style=\"color:#33cc33\">Correct</span>"
      ],
      "text/plain": [
       "Correct"
      ]
     },
     "metadata": {},
     "output_type": "display_data"
    }
   ],
   "source": [
    "price_mean = reviews.price.mean()\n",
    "centered_price = reviews.price.map(lambda p: p - price_mean)\n",
    "\n",
    "# Check your answer\n",
    "q4.check()"
   ]
  },
  {
   "cell_type": "code",
   "execution_count": 9,
   "id": "566210a0",
   "metadata": {
    "execution": {
     "iopub.execute_input": "2022-02-25T17:47:59.795879Z",
     "iopub.status.busy": "2022-02-25T17:47:59.795074Z",
     "iopub.status.idle": "2022-02-25T17:47:59.798242Z",
     "shell.execute_reply": "2022-02-25T17:47:59.798824Z"
    },
    "papermill": {
     "duration": 0.035758,
     "end_time": "2022-02-25T17:47:59.799008",
     "exception": false,
     "start_time": "2022-02-25T17:47:59.763250",
     "status": "completed"
    },
    "tags": []
   },
   "outputs": [],
   "source": [
    "#q4.hint()\n",
    "#q4.solution()"
   ]
  },
  {
   "cell_type": "markdown",
   "id": "27d3deec",
   "metadata": {
    "papermill": {
     "duration": 0.02968,
     "end_time": "2022-02-25T17:47:59.859080",
     "exception": false,
     "start_time": "2022-02-25T17:47:59.829400",
     "status": "completed"
    },
    "tags": []
   },
   "source": [
    "## 5.\n",
    "I'm an economical wine buyer. Which wine is the \"best bargain\"? Create a variable `bargain_wine` with the title of the wine with the highest points-to-price ratio in the dataset."
   ]
  },
  {
   "cell_type": "code",
   "execution_count": 10,
   "id": "bcc20016",
   "metadata": {
    "execution": {
     "iopub.execute_input": "2022-02-25T17:47:59.920901Z",
     "iopub.status.busy": "2022-02-25T17:47:59.920234Z",
     "iopub.status.idle": "2022-02-25T17:47:59.934008Z",
     "shell.execute_reply": "2022-02-25T17:47:59.934552Z",
     "shell.execute_reply.started": "2022-02-25T17:43:07.218748Z"
    },
    "papermill": {
     "duration": 0.046268,
     "end_time": "2022-02-25T17:47:59.934755",
     "exception": false,
     "start_time": "2022-02-25T17:47:59.888487",
     "status": "completed"
    },
    "tags": []
   },
   "outputs": [
    {
     "data": {
      "application/javascript": [
       "parent.postMessage({\"jupyterEvent\": \"custom.exercise_interaction\", \"data\": {\"outcomeType\": 1, \"valueTowardsCompletion\": 0.14285714285714285, \"interactionType\": 1, \"questionType\": 2, \"questionId\": \"5_BargainWine\", \"learnToolsVersion\": \"0.3.4\", \"failureMessage\": \"\", \"exceptionClass\": \"\", \"trace\": \"\"}}, \"*\")"
      ],
      "text/plain": [
       "<IPython.core.display.Javascript object>"
      ]
     },
     "metadata": {},
     "output_type": "display_data"
    },
    {
     "data": {
      "text/markdown": [
       "<span style=\"color:#33cc33\">Correct</span>"
      ],
      "text/plain": [
       "Correct"
      ]
     },
     "metadata": {},
     "output_type": "display_data"
    },
    {
     "data": {
      "text/plain": [
       "'Bandit NV Merlot (California)'"
      ]
     },
     "execution_count": 10,
     "metadata": {},
     "output_type": "execute_result"
    }
   ],
   "source": [
    "bargain_idx = (reviews.points / reviews.price).idxmax()\n",
    "bargain_wine = bargain_wine = reviews.loc[bargain_idx, 'title']\n",
    "\n",
    "# Check your answer\n",
    "q5.check()\n",
    "bargain_wine"
   ]
  },
  {
   "cell_type": "code",
   "execution_count": 11,
   "id": "321284db",
   "metadata": {
    "execution": {
     "iopub.execute_input": "2022-02-25T17:48:00.000502Z",
     "iopub.status.busy": "2022-02-25T17:47:59.999802Z",
     "iopub.status.idle": "2022-02-25T17:48:00.002499Z",
     "shell.execute_reply": "2022-02-25T17:48:00.003220Z",
     "shell.execute_reply.started": "2022-02-25T17:42:39.212575Z"
    },
    "papermill": {
     "duration": 0.037477,
     "end_time": "2022-02-25T17:48:00.003411",
     "exception": false,
     "start_time": "2022-02-25T17:47:59.965934",
     "status": "completed"
    },
    "tags": []
   },
   "outputs": [],
   "source": [
    "#q5.hint()\n",
    "#q5.solution()"
   ]
  },
  {
   "cell_type": "markdown",
   "id": "8d7bfe8b",
   "metadata": {
    "papermill": {
     "duration": 0.030669,
     "end_time": "2022-02-25T17:48:00.065026",
     "exception": false,
     "start_time": "2022-02-25T17:48:00.034357",
     "status": "completed"
    },
    "tags": []
   },
   "source": [
    "## 6.\n",
    "There are only so many words you can use when describing a bottle of wine. Is a wine more likely to be \"tropical\" or \"fruity\"? Create a Series `descriptor_counts` counting how many times each of these two words appears in the `description` column in the dataset. (For simplicity, let's ignore the capitalized versions of these words.)"
   ]
  },
  {
   "cell_type": "code",
   "execution_count": 12,
   "id": "a8f4ff2d",
   "metadata": {
    "execution": {
     "iopub.execute_input": "2022-02-25T17:48:00.129945Z",
     "iopub.status.busy": "2022-02-25T17:48:00.129243Z",
     "iopub.status.idle": "2022-02-25T17:48:00.283499Z",
     "shell.execute_reply": "2022-02-25T17:48:00.284122Z",
     "shell.execute_reply.started": "2022-02-25T17:45:29.549470Z"
    },
    "papermill": {
     "duration": 0.188402,
     "end_time": "2022-02-25T17:48:00.284308",
     "exception": false,
     "start_time": "2022-02-25T17:48:00.095906",
     "status": "completed"
    },
    "tags": []
   },
   "outputs": [
    {
     "data": {
      "application/javascript": [
       "parent.postMessage({\"jupyterEvent\": \"custom.exercise_interaction\", \"data\": {\"outcomeType\": 1, \"valueTowardsCompletion\": 0.14285714285714285, \"interactionType\": 1, \"questionType\": 1, \"questionId\": \"6_DescriptorCounts\", \"learnToolsVersion\": \"0.3.4\", \"failureMessage\": \"\", \"exceptionClass\": \"\", \"trace\": \"\"}}, \"*\")"
      ],
      "text/plain": [
       "<IPython.core.display.Javascript object>"
      ]
     },
     "metadata": {},
     "output_type": "display_data"
    },
    {
     "data": {
      "text/markdown": [
       "<span style=\"color:#33cc33\">Correct</span>"
      ],
      "text/plain": [
       "Correct"
      ]
     },
     "metadata": {},
     "output_type": "display_data"
    }
   ],
   "source": [
    "n_trop = reviews.description.map(lambda desc: \"tropical\" in desc).sum()\n",
    "n_fruity = reviews.description.map(lambda desc: \"fruity\" in desc).sum()\n",
    "descriptor_counts = pd.Series([n_trop, n_fruity], index=['tropical', 'fruity'])\n",
    "\n",
    "# Check your answer\n",
    "q6.check()"
   ]
  },
  {
   "cell_type": "code",
   "execution_count": 13,
   "id": "98a5df82",
   "metadata": {
    "execution": {
     "iopub.execute_input": "2022-02-25T17:48:00.352101Z",
     "iopub.status.busy": "2022-02-25T17:48:00.351423Z",
     "iopub.status.idle": "2022-02-25T17:48:00.357607Z",
     "shell.execute_reply": "2022-02-25T17:48:00.358181Z",
     "shell.execute_reply.started": "2022-02-25T17:45:08.268686Z"
    },
    "papermill": {
     "duration": 0.042227,
     "end_time": "2022-02-25T17:48:00.358354",
     "exception": false,
     "start_time": "2022-02-25T17:48:00.316127",
     "status": "completed"
    },
    "tags": []
   },
   "outputs": [
    {
     "data": {
      "application/javascript": [
       "parent.postMessage({\"jupyterEvent\": \"custom.exercise_interaction\", \"data\": {\"interactionType\": 3, \"questionType\": 1, \"questionId\": \"6_DescriptorCounts\", \"learnToolsVersion\": \"0.3.4\", \"valueTowardsCompletion\": 0.0, \"failureMessage\": \"\", \"exceptionClass\": \"\", \"trace\": \"\", \"outcomeType\": 4}}, \"*\")"
      ],
      "text/plain": [
       "<IPython.core.display.Javascript object>"
      ]
     },
     "metadata": {},
     "output_type": "display_data"
    },
    {
     "data": {
      "text/markdown": [
       "<span style=\"color:#33cc99\">Solution:</span> \n",
       "```python\n",
       "n_trop = reviews.description.map(lambda desc: \"tropical\" in desc).sum()\n",
       "n_fruity = reviews.description.map(lambda desc: \"fruity\" in desc).sum()\n",
       "descriptor_counts = pd.Series([n_trop, n_fruity], index=['tropical', 'fruity'])\n",
       "```"
      ],
      "text/plain": [
       "Solution: \n",
       "```python\n",
       "n_trop = reviews.description.map(lambda desc: \"tropical\" in desc).sum()\n",
       "n_fruity = reviews.description.map(lambda desc: \"fruity\" in desc).sum()\n",
       "descriptor_counts = pd.Series([n_trop, n_fruity], index=['tropical', 'fruity'])\n",
       "```"
      ]
     },
     "metadata": {},
     "output_type": "display_data"
    }
   ],
   "source": [
    "#q6.hint()\n",
    "q6.solution()"
   ]
  },
  {
   "cell_type": "markdown",
   "id": "819487a2",
   "metadata": {
    "papermill": {
     "duration": 0.03326,
     "end_time": "2022-02-25T17:48:00.425593",
     "exception": false,
     "start_time": "2022-02-25T17:48:00.392333",
     "status": "completed"
    },
    "tags": []
   },
   "source": [
    "## 7.\n",
    "We'd like to host these wine reviews on our website, but a rating system ranging from 80 to 100 points is too hard to understand - we'd like to translate them into simple star ratings. A score of 95 or higher counts as 3 stars, a score of at least 85 but less than 95 is 2 stars. Any other score is 1 star.\n",
    "\n",
    "Also, the Canadian Vintners Association bought a lot of ads on the site, so any wines from Canada should automatically get 3 stars, regardless of points.\n",
    "\n",
    "Create a series `star_ratings` with the number of stars corresponding to each review in the dataset."
   ]
  },
  {
   "cell_type": "code",
   "execution_count": 14,
   "id": "acecb3a0",
   "metadata": {
    "execution": {
     "iopub.execute_input": "2022-02-25T17:48:00.496981Z",
     "iopub.status.busy": "2022-02-25T17:48:00.496096Z",
     "iopub.status.idle": "2022-02-25T17:48:05.490883Z",
     "shell.execute_reply": "2022-02-25T17:48:05.490217Z",
     "shell.execute_reply.started": "2022-02-25T17:47:16.179622Z"
    },
    "papermill": {
     "duration": 5.031623,
     "end_time": "2022-02-25T17:48:05.491026",
     "exception": false,
     "start_time": "2022-02-25T17:48:00.459403",
     "status": "completed"
    },
    "tags": []
   },
   "outputs": [
    {
     "data": {
      "application/javascript": [
       "parent.postMessage({\"jupyterEvent\": \"custom.exercise_interaction\", \"data\": {\"outcomeType\": 1, \"valueTowardsCompletion\": 0.14285714285714285, \"interactionType\": 1, \"questionType\": 1, \"questionId\": \"7_StarRatings\", \"learnToolsVersion\": \"0.3.4\", \"failureMessage\": \"\", \"exceptionClass\": \"\", \"trace\": \"\"}}, \"*\")"
      ],
      "text/plain": [
       "<IPython.core.display.Javascript object>"
      ]
     },
     "metadata": {},
     "output_type": "display_data"
    },
    {
     "data": {
      "text/markdown": [
       "<span style=\"color:#33cc33\">Correct</span>"
      ],
      "text/plain": [
       "Correct"
      ]
     },
     "metadata": {},
     "output_type": "display_data"
    }
   ],
   "source": [
    "def stars(row):\n",
    "    if row.country == 'Canada':\n",
    "        return 3\n",
    "    elif row.points >= 95:\n",
    "        return 3\n",
    "    elif row.points >= 85:\n",
    "        return 2\n",
    "    else:\n",
    "        return 1\n",
    "\n",
    "star_ratings = reviews.apply(stars, axis='columns')\n",
    "\n",
    "# Check your answer\n",
    "q7.check()"
   ]
  },
  {
   "cell_type": "code",
   "execution_count": 15,
   "id": "3fffa57f",
   "metadata": {
    "execution": {
     "iopub.execute_input": "2022-02-25T17:48:05.564217Z",
     "iopub.status.busy": "2022-02-25T17:48:05.563460Z",
     "iopub.status.idle": "2022-02-25T17:48:05.568690Z",
     "shell.execute_reply": "2022-02-25T17:48:05.569295Z",
     "shell.execute_reply.started": "2022-02-25T17:46:33.709199Z"
    },
    "papermill": {
     "duration": 0.043299,
     "end_time": "2022-02-25T17:48:05.569461",
     "exception": false,
     "start_time": "2022-02-25T17:48:05.526162",
     "status": "completed"
    },
    "tags": []
   },
   "outputs": [
    {
     "data": {
      "application/javascript": [
       "parent.postMessage({\"jupyterEvent\": \"custom.exercise_interaction\", \"data\": {\"interactionType\": 3, \"questionType\": 1, \"questionId\": \"7_StarRatings\", \"learnToolsVersion\": \"0.3.4\", \"valueTowardsCompletion\": 0.0, \"failureMessage\": \"\", \"exceptionClass\": \"\", \"trace\": \"\", \"outcomeType\": 4}}, \"*\")"
      ],
      "text/plain": [
       "<IPython.core.display.Javascript object>"
      ]
     },
     "metadata": {},
     "output_type": "display_data"
    },
    {
     "data": {
      "text/markdown": [
       "<span style=\"color:#33cc99\">Solution:</span> \n",
       "```python\n",
       "def stars(row):\n",
       "    if row.country == 'Canada':\n",
       "        return 3\n",
       "    elif row.points >= 95:\n",
       "        return 3\n",
       "    elif row.points >= 85:\n",
       "        return 2\n",
       "    else:\n",
       "        return 1\n",
       "    \n",
       "star_ratings = reviews.apply(stars, axis='columns')\n",
       "```"
      ],
      "text/plain": [
       "Solution: \n",
       "```python\n",
       "def stars(row):\n",
       "    if row.country == 'Canada':\n",
       "        return 3\n",
       "    elif row.points >= 95:\n",
       "        return 3\n",
       "    elif row.points >= 85:\n",
       "        return 2\n",
       "    else:\n",
       "        return 1\n",
       "    \n",
       "star_ratings = reviews.apply(stars, axis='columns')\n",
       "```"
      ]
     },
     "metadata": {},
     "output_type": "display_data"
    }
   ],
   "source": [
    "#q7.hint()\n",
    "q7.solution()"
   ]
  },
  {
   "cell_type": "markdown",
   "id": "30b2fef1",
   "metadata": {
    "papermill": {
     "duration": 0.037085,
     "end_time": "2022-02-25T17:48:05.643508",
     "exception": false,
     "start_time": "2022-02-25T17:48:05.606423",
     "status": "completed"
    },
    "tags": []
   },
   "source": [
    "# Keep going\n",
    "Continue to **[grouping and sorting](https://www.kaggle.com/residentmario/grouping-and-sorting)**."
   ]
  },
  {
   "cell_type": "markdown",
   "id": "6e31ee4e",
   "metadata": {
    "papermill": {
     "duration": 0.035593,
     "end_time": "2022-02-25T17:48:05.715009",
     "exception": false,
     "start_time": "2022-02-25T17:48:05.679416",
     "status": "completed"
    },
    "tags": []
   },
   "source": [
    "---\n",
    "\n",
    "\n",
    "\n",
    "\n",
    "*Have questions or comments? Visit the [course discussion forum](https://www.kaggle.com/learn/pandas/discussion) to chat with other learners.*"
   ]
  }
 ],
 "metadata": {
  "kernelspec": {
   "display_name": "Python 3",
   "language": "python",
   "name": "python3"
  },
  "language_info": {
   "codemirror_mode": {
    "name": "ipython",
    "version": 3
   },
   "file_extension": ".py",
   "mimetype": "text/x-python",
   "name": "python",
   "nbconvert_exporter": "python",
   "pygments_lexer": "ipython3",
   "version": "3.7.12"
  },
  "papermill": {
   "default_parameters": {},
   "duration": 25.892607,
   "end_time": "2022-02-25T17:48:06.463731",
   "environment_variables": {},
   "exception": null,
   "input_path": "__notebook__.ipynb",
   "output_path": "__notebook__.ipynb",
   "parameters": {},
   "start_time": "2022-02-25T17:47:40.571124",
   "version": "2.3.3"
  }
 },
 "nbformat": 4,
 "nbformat_minor": 5
}
