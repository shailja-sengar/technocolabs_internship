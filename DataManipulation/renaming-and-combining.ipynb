{
 "cells": [
  {
   "cell_type": "markdown",
   "id": "bcc1f1df",
   "metadata": {
    "papermill": {
     "duration": 0.020699,
     "end_time": "2022-02-26T17:40:18.346454",
     "exception": false,
     "start_time": "2022-02-26T17:40:18.325755",
     "status": "completed"
    },
    "tags": []
   },
   "source": [
    "**This notebook is an exercise in the [Pandas](https://www.kaggle.com/learn/pandas) course.  You can reference the tutorial at [this link](https://www.kaggle.com/residentmario/renaming-and-combining).**\n",
    "\n",
    "---\n"
   ]
  },
  {
   "cell_type": "markdown",
   "id": "c997b04b",
   "metadata": {
    "papermill": {
     "duration": 0.018979,
     "end_time": "2022-02-26T17:40:18.385153",
     "exception": false,
     "start_time": "2022-02-26T17:40:18.366174",
     "status": "completed"
    },
    "tags": []
   },
   "source": [
    "# Introduction\n",
    "\n",
    "Run the following cell to load your data and some utility functions."
   ]
  },
  {
   "cell_type": "code",
   "execution_count": 1,
   "id": "b7978910",
   "metadata": {
    "execution": {
     "iopub.execute_input": "2022-02-26T17:40:18.435202Z",
     "iopub.status.busy": "2022-02-26T17:40:18.434495Z",
     "iopub.status.idle": "2022-02-26T17:40:22.564753Z",
     "shell.execute_reply": "2022-02-26T17:40:22.563856Z",
     "shell.execute_reply.started": "2022-02-26T17:28:50.530765Z"
    },
    "papermill": {
     "duration": 4.160474,
     "end_time": "2022-02-26T17:40:22.564960",
     "exception": false,
     "start_time": "2022-02-26T17:40:18.404486",
     "status": "completed"
    },
    "tags": []
   },
   "outputs": [
    {
     "name": "stdout",
     "output_type": "stream",
     "text": [
      "Setup complete.\n"
     ]
    }
   ],
   "source": [
    "import pandas as pd\n",
    "\n",
    "reviews = pd.read_csv(\"../input/wine-reviews/winemag-data-130k-v2.csv\", index_col=0)\n",
    "\n",
    "from learntools.core import binder; binder.bind(globals())\n",
    "from learntools.pandas.renaming_and_combining import *\n",
    "print(\"Setup complete.\")"
   ]
  },
  {
   "cell_type": "markdown",
   "id": "893bc93c",
   "metadata": {
    "papermill": {
     "duration": 0.01993,
     "end_time": "2022-02-26T17:40:22.606053",
     "exception": false,
     "start_time": "2022-02-26T17:40:22.586123",
     "status": "completed"
    },
    "tags": []
   },
   "source": [
    "# Exercises\n",
    "\n",
    "View the first several lines of your data by running the cell below:"
   ]
  },
  {
   "cell_type": "code",
   "execution_count": 2,
   "id": "0ca220a4",
   "metadata": {
    "execution": {
     "iopub.execute_input": "2022-02-26T17:40:22.655194Z",
     "iopub.status.busy": "2022-02-26T17:40:22.654345Z",
     "iopub.status.idle": "2022-02-26T17:40:22.677793Z",
     "shell.execute_reply": "2022-02-26T17:40:22.678321Z",
     "shell.execute_reply.started": "2022-02-26T17:33:47.512191Z"
    },
    "papermill": {
     "duration": 0.051795,
     "end_time": "2022-02-26T17:40:22.678512",
     "exception": false,
     "start_time": "2022-02-26T17:40:22.626717",
     "status": "completed"
    },
    "tags": []
   },
   "outputs": [
    {
     "data": {
      "text/html": [
       "<div>\n",
       "<style scoped>\n",
       "    .dataframe tbody tr th:only-of-type {\n",
       "        vertical-align: middle;\n",
       "    }\n",
       "\n",
       "    .dataframe tbody tr th {\n",
       "        vertical-align: top;\n",
       "    }\n",
       "\n",
       "    .dataframe thead th {\n",
       "        text-align: right;\n",
       "    }\n",
       "</style>\n",
       "<table border=\"1\" class=\"dataframe\">\n",
       "  <thead>\n",
       "    <tr style=\"text-align: right;\">\n",
       "      <th></th>\n",
       "      <th>country</th>\n",
       "      <th>description</th>\n",
       "      <th>designation</th>\n",
       "      <th>points</th>\n",
       "      <th>price</th>\n",
       "      <th>province</th>\n",
       "      <th>region_1</th>\n",
       "      <th>region_2</th>\n",
       "      <th>taster_name</th>\n",
       "      <th>taster_twitter_handle</th>\n",
       "      <th>title</th>\n",
       "      <th>variety</th>\n",
       "      <th>winery</th>\n",
       "    </tr>\n",
       "  </thead>\n",
       "  <tbody>\n",
       "    <tr>\n",
       "      <th>0</th>\n",
       "      <td>Italy</td>\n",
       "      <td>Aromas include tropical fruit, broom, brimston...</td>\n",
       "      <td>Vulkà Bianco</td>\n",
       "      <td>87</td>\n",
       "      <td>NaN</td>\n",
       "      <td>Sicily &amp; Sardinia</td>\n",
       "      <td>Etna</td>\n",
       "      <td>NaN</td>\n",
       "      <td>Kerin O’Keefe</td>\n",
       "      <td>@kerinokeefe</td>\n",
       "      <td>Nicosia 2013 Vulkà Bianco  (Etna)</td>\n",
       "      <td>White Blend</td>\n",
       "      <td>Nicosia</td>\n",
       "    </tr>\n",
       "    <tr>\n",
       "      <th>1</th>\n",
       "      <td>Portugal</td>\n",
       "      <td>This is ripe and fruity, a wine that is smooth...</td>\n",
       "      <td>Avidagos</td>\n",
       "      <td>87</td>\n",
       "      <td>15.0</td>\n",
       "      <td>Douro</td>\n",
       "      <td>NaN</td>\n",
       "      <td>NaN</td>\n",
       "      <td>Roger Voss</td>\n",
       "      <td>@vossroger</td>\n",
       "      <td>Quinta dos Avidagos 2011 Avidagos Red (Douro)</td>\n",
       "      <td>Portuguese Red</td>\n",
       "      <td>Quinta dos Avidagos</td>\n",
       "    </tr>\n",
       "    <tr>\n",
       "      <th>2</th>\n",
       "      <td>US</td>\n",
       "      <td>Tart and snappy, the flavors of lime flesh and...</td>\n",
       "      <td>NaN</td>\n",
       "      <td>87</td>\n",
       "      <td>14.0</td>\n",
       "      <td>Oregon</td>\n",
       "      <td>Willamette Valley</td>\n",
       "      <td>Willamette Valley</td>\n",
       "      <td>Paul Gregutt</td>\n",
       "      <td>@paulgwine</td>\n",
       "      <td>Rainstorm 2013 Pinot Gris (Willamette Valley)</td>\n",
       "      <td>Pinot Gris</td>\n",
       "      <td>Rainstorm</td>\n",
       "    </tr>\n",
       "    <tr>\n",
       "      <th>3</th>\n",
       "      <td>US</td>\n",
       "      <td>Pineapple rind, lemon pith and orange blossom ...</td>\n",
       "      <td>Reserve Late Harvest</td>\n",
       "      <td>87</td>\n",
       "      <td>13.0</td>\n",
       "      <td>Michigan</td>\n",
       "      <td>Lake Michigan Shore</td>\n",
       "      <td>NaN</td>\n",
       "      <td>Alexander Peartree</td>\n",
       "      <td>NaN</td>\n",
       "      <td>St. Julian 2013 Reserve Late Harvest Riesling ...</td>\n",
       "      <td>Riesling</td>\n",
       "      <td>St. Julian</td>\n",
       "    </tr>\n",
       "    <tr>\n",
       "      <th>4</th>\n",
       "      <td>US</td>\n",
       "      <td>Much like the regular bottling from 2012, this...</td>\n",
       "      <td>Vintner's Reserve Wild Child Block</td>\n",
       "      <td>87</td>\n",
       "      <td>65.0</td>\n",
       "      <td>Oregon</td>\n",
       "      <td>Willamette Valley</td>\n",
       "      <td>Willamette Valley</td>\n",
       "      <td>Paul Gregutt</td>\n",
       "      <td>@paulgwine</td>\n",
       "      <td>Sweet Cheeks 2012 Vintner's Reserve Wild Child...</td>\n",
       "      <td>Pinot Noir</td>\n",
       "      <td>Sweet Cheeks</td>\n",
       "    </tr>\n",
       "  </tbody>\n",
       "</table>\n",
       "</div>"
      ],
      "text/plain": [
       "    country                                        description  \\\n",
       "0     Italy  Aromas include tropical fruit, broom, brimston...   \n",
       "1  Portugal  This is ripe and fruity, a wine that is smooth...   \n",
       "2        US  Tart and snappy, the flavors of lime flesh and...   \n",
       "3        US  Pineapple rind, lemon pith and orange blossom ...   \n",
       "4        US  Much like the regular bottling from 2012, this...   \n",
       "\n",
       "                          designation  points  price           province  \\\n",
       "0                        Vulkà Bianco      87    NaN  Sicily & Sardinia   \n",
       "1                            Avidagos      87   15.0              Douro   \n",
       "2                                 NaN      87   14.0             Oregon   \n",
       "3                Reserve Late Harvest      87   13.0           Michigan   \n",
       "4  Vintner's Reserve Wild Child Block      87   65.0             Oregon   \n",
       "\n",
       "              region_1           region_2         taster_name  \\\n",
       "0                 Etna                NaN       Kerin O’Keefe   \n",
       "1                  NaN                NaN          Roger Voss   \n",
       "2    Willamette Valley  Willamette Valley        Paul Gregutt   \n",
       "3  Lake Michigan Shore                NaN  Alexander Peartree   \n",
       "4    Willamette Valley  Willamette Valley        Paul Gregutt   \n",
       "\n",
       "  taster_twitter_handle                                              title  \\\n",
       "0          @kerinokeefe                  Nicosia 2013 Vulkà Bianco  (Etna)   \n",
       "1            @vossroger      Quinta dos Avidagos 2011 Avidagos Red (Douro)   \n",
       "2           @paulgwine       Rainstorm 2013 Pinot Gris (Willamette Valley)   \n",
       "3                   NaN  St. Julian 2013 Reserve Late Harvest Riesling ...   \n",
       "4           @paulgwine   Sweet Cheeks 2012 Vintner's Reserve Wild Child...   \n",
       "\n",
       "          variety               winery  \n",
       "0     White Blend              Nicosia  \n",
       "1  Portuguese Red  Quinta dos Avidagos  \n",
       "2      Pinot Gris            Rainstorm  \n",
       "3        Riesling           St. Julian  \n",
       "4      Pinot Noir         Sweet Cheeks  "
      ]
     },
     "execution_count": 2,
     "metadata": {},
     "output_type": "execute_result"
    }
   ],
   "source": [
    "reviews.head()"
   ]
  },
  {
   "cell_type": "markdown",
   "id": "f2b32e41",
   "metadata": {
    "papermill": {
     "duration": 0.021167,
     "end_time": "2022-02-26T17:40:22.720757",
     "exception": false,
     "start_time": "2022-02-26T17:40:22.699590",
     "status": "completed"
    },
    "tags": []
   },
   "source": [
    "## 1.\n",
    "`region_1` and `region_2` are pretty uninformative names for locale columns in the dataset. Create a copy of `reviews` with these columns renamed to `region` and `locale`, respectively."
   ]
  },
  {
   "cell_type": "code",
   "execution_count": 3,
   "id": "b75858cf",
   "metadata": {
    "execution": {
     "iopub.execute_input": "2022-02-26T17:40:22.793087Z",
     "iopub.status.busy": "2022-02-26T17:40:22.767181Z",
     "iopub.status.idle": "2022-02-26T17:40:22.797964Z",
     "shell.execute_reply": "2022-02-26T17:40:22.798431Z",
     "shell.execute_reply.started": "2022-02-26T17:38:11.452701Z"
    },
    "papermill": {
     "duration": 0.05719,
     "end_time": "2022-02-26T17:40:22.798636",
     "exception": false,
     "start_time": "2022-02-26T17:40:22.741446",
     "status": "completed"
    },
    "tags": []
   },
   "outputs": [
    {
     "data": {
      "application/javascript": [
       "parent.postMessage({\"jupyterEvent\": \"custom.exercise_interaction\", \"data\": {\"outcomeType\": 1, \"valueTowardsCompletion\": 0.25, \"interactionType\": 1, \"questionType\": 1, \"questionId\": \"1_RenameCols\", \"learnToolsVersion\": \"0.3.4\", \"failureMessage\": \"\", \"exceptionClass\": \"\", \"trace\": \"\"}}, \"*\")"
      ],
      "text/plain": [
       "<IPython.core.display.Javascript object>"
      ]
     },
     "metadata": {},
     "output_type": "display_data"
    },
    {
     "data": {
      "text/markdown": [
       "<span style=\"color:#33cc33\">Correct</span>"
      ],
      "text/plain": [
       "Correct"
      ]
     },
     "metadata": {},
     "output_type": "display_data"
    }
   ],
   "source": [
    "# Your code here\n",
    "renamed = reviews.rename(columns=dict(region_1='region', region_2='locale'))\n",
    "# Check your answer\n",
    "q1.check()"
   ]
  },
  {
   "cell_type": "code",
   "execution_count": 4,
   "id": "27fbab68",
   "metadata": {
    "execution": {
     "iopub.execute_input": "2022-02-26T17:40:22.848419Z",
     "iopub.status.busy": "2022-02-26T17:40:22.847527Z",
     "iopub.status.idle": "2022-02-26T17:40:22.849988Z",
     "shell.execute_reply": "2022-02-26T17:40:22.849364Z",
     "shell.execute_reply.started": "2022-02-26T17:38:18.461257Z"
    },
    "papermill": {
     "duration": 0.029443,
     "end_time": "2022-02-26T17:40:22.850131",
     "exception": false,
     "start_time": "2022-02-26T17:40:22.820688",
     "status": "completed"
    },
    "tags": []
   },
   "outputs": [],
   "source": [
    "#q1.hint()\n",
    "#q1.solution()"
   ]
  },
  {
   "cell_type": "markdown",
   "id": "876afb3e",
   "metadata": {
    "papermill": {
     "duration": 0.021489,
     "end_time": "2022-02-26T17:40:22.893847",
     "exception": false,
     "start_time": "2022-02-26T17:40:22.872358",
     "status": "completed"
    },
    "tags": []
   },
   "source": [
    "## 2.\n",
    "Set the index name in the dataset to `wines`."
   ]
  },
  {
   "cell_type": "code",
   "execution_count": 5,
   "id": "a5f2cae7",
   "metadata": {
    "execution": {
     "iopub.execute_input": "2022-02-26T17:40:22.993787Z",
     "iopub.status.busy": "2022-02-26T17:40:22.943150Z",
     "iopub.status.idle": "2022-02-26T17:40:22.999926Z",
     "shell.execute_reply": "2022-02-26T17:40:22.999327Z",
     "shell.execute_reply.started": "2022-02-26T17:38:46.111471Z"
    },
    "papermill": {
     "duration": 0.084265,
     "end_time": "2022-02-26T17:40:23.000078",
     "exception": false,
     "start_time": "2022-02-26T17:40:22.915813",
     "status": "completed"
    },
    "tags": []
   },
   "outputs": [
    {
     "data": {
      "application/javascript": [
       "parent.postMessage({\"jupyterEvent\": \"custom.exercise_interaction\", \"data\": {\"outcomeType\": 1, \"valueTowardsCompletion\": 0.25, \"interactionType\": 1, \"questionType\": 1, \"questionId\": \"2_RenameIndex\", \"learnToolsVersion\": \"0.3.4\", \"failureMessage\": \"\", \"exceptionClass\": \"\", \"trace\": \"\"}}, \"*\")"
      ],
      "text/plain": [
       "<IPython.core.display.Javascript object>"
      ]
     },
     "metadata": {},
     "output_type": "display_data"
    },
    {
     "data": {
      "text/markdown": [
       "<span style=\"color:#33cc33\">Correct</span>"
      ],
      "text/plain": [
       "Correct"
      ]
     },
     "metadata": {},
     "output_type": "display_data"
    }
   ],
   "source": [
    "reindexed = reviews.rename_axis('wines', axis='rows')\n",
    "\n",
    "# Check your answer\n",
    "q2.check()"
   ]
  },
  {
   "cell_type": "code",
   "execution_count": 6,
   "id": "1629780a",
   "metadata": {
    "execution": {
     "iopub.execute_input": "2022-02-26T17:40:23.053053Z",
     "iopub.status.busy": "2022-02-26T17:40:23.052332Z",
     "iopub.status.idle": "2022-02-26T17:40:23.054762Z",
     "shell.execute_reply": "2022-02-26T17:40:23.055213Z",
     "shell.execute_reply.started": "2022-02-26T17:38:52.720468Z"
    },
    "papermill": {
     "duration": 0.031891,
     "end_time": "2022-02-26T17:40:23.055402",
     "exception": false,
     "start_time": "2022-02-26T17:40:23.023511",
     "status": "completed"
    },
    "tags": []
   },
   "outputs": [],
   "source": [
    "#q2.hint()\n",
    "#q2.solution()"
   ]
  },
  {
   "cell_type": "markdown",
   "id": "8a70d6f7",
   "metadata": {
    "papermill": {
     "duration": 0.02249,
     "end_time": "2022-02-26T17:40:23.101094",
     "exception": false,
     "start_time": "2022-02-26T17:40:23.078604",
     "status": "completed"
    },
    "tags": []
   },
   "source": [
    "## 3.\n",
    "The [Things on Reddit](https://www.kaggle.com/residentmario/things-on-reddit/data) dataset includes product links from a selection of top-ranked forums (\"subreddits\") on reddit.com. Run the cell below to load a dataframe of products mentioned on the */r/gaming* subreddit and another dataframe for products mentioned on the *r//movies* subreddit."
   ]
  },
  {
   "cell_type": "code",
   "execution_count": 7,
   "id": "6b0427a0",
   "metadata": {
    "execution": {
     "iopub.execute_input": "2022-02-26T17:40:23.152955Z",
     "iopub.status.busy": "2022-02-26T17:40:23.152227Z",
     "iopub.status.idle": "2022-02-26T17:40:23.166712Z",
     "shell.execute_reply": "2022-02-26T17:40:23.166106Z",
     "shell.execute_reply.started": "2022-02-26T17:38:59.511535Z"
    },
    "papermill": {
     "duration": 0.042815,
     "end_time": "2022-02-26T17:40:23.166886",
     "exception": false,
     "start_time": "2022-02-26T17:40:23.124071",
     "status": "completed"
    },
    "tags": []
   },
   "outputs": [],
   "source": [
    "gaming_products = pd.read_csv(\"../input/things-on-reddit/top-things/top-things/reddits/g/gaming.csv\")\n",
    "gaming_products['subreddit'] = \"r/gaming\"\n",
    "movie_products = pd.read_csv(\"../input/things-on-reddit/top-things/top-things/reddits/m/movies.csv\")\n",
    "movie_products['subreddit'] = \"r/movies\""
   ]
  },
  {
   "cell_type": "markdown",
   "id": "55068c0a",
   "metadata": {
    "papermill": {
     "duration": 0.023691,
     "end_time": "2022-02-26T17:40:23.213817",
     "exception": false,
     "start_time": "2022-02-26T17:40:23.190126",
     "status": "completed"
    },
    "tags": []
   },
   "source": [
    "Create a `DataFrame` of products mentioned on *either* subreddit."
   ]
  },
  {
   "cell_type": "code",
   "execution_count": 8,
   "id": "347f5829",
   "metadata": {
    "execution": {
     "iopub.execute_input": "2022-02-26T17:40:23.279308Z",
     "iopub.status.busy": "2022-02-26T17:40:23.272302Z",
     "iopub.status.idle": "2022-02-26T17:40:23.284979Z",
     "shell.execute_reply": "2022-02-26T17:40:23.285440Z",
     "shell.execute_reply.started": "2022-02-26T17:39:28.162622Z"
    },
    "papermill": {
     "duration": 0.044738,
     "end_time": "2022-02-26T17:40:23.285648",
     "exception": false,
     "start_time": "2022-02-26T17:40:23.240910",
     "status": "completed"
    },
    "tags": []
   },
   "outputs": [
    {
     "data": {
      "application/javascript": [
       "parent.postMessage({\"jupyterEvent\": \"custom.exercise_interaction\", \"data\": {\"outcomeType\": 1, \"valueTowardsCompletion\": 0.25, \"interactionType\": 1, \"questionType\": 2, \"questionId\": \"3_ConcatReddit\", \"learnToolsVersion\": \"0.3.4\", \"failureMessage\": \"\", \"exceptionClass\": \"\", \"trace\": \"\"}}, \"*\")"
      ],
      "text/plain": [
       "<IPython.core.display.Javascript object>"
      ]
     },
     "metadata": {},
     "output_type": "display_data"
    },
    {
     "data": {
      "text/markdown": [
       "<span style=\"color:#33cc33\">Correct</span>"
      ],
      "text/plain": [
       "Correct"
      ]
     },
     "metadata": {},
     "output_type": "display_data"
    }
   ],
   "source": [
    "combined_products = pd.concat([gaming_products, movie_products])\n",
    "\n",
    "# Check your answer\n",
    "q3.check()"
   ]
  },
  {
   "cell_type": "code",
   "execution_count": 9,
   "id": "777a94b1",
   "metadata": {
    "execution": {
     "iopub.execute_input": "2022-02-26T17:40:23.341384Z",
     "iopub.status.busy": "2022-02-26T17:40:23.340481Z",
     "iopub.status.idle": "2022-02-26T17:40:23.343799Z",
     "shell.execute_reply": "2022-02-26T17:40:23.343235Z",
     "shell.execute_reply.started": "2022-02-26T17:39:34.432380Z"
    },
    "papermill": {
     "duration": 0.03303,
     "end_time": "2022-02-26T17:40:23.343984",
     "exception": false,
     "start_time": "2022-02-26T17:40:23.310954",
     "status": "completed"
    },
    "tags": []
   },
   "outputs": [],
   "source": [
    "#q3.hint()\n",
    "#q3.solution()"
   ]
  },
  {
   "cell_type": "markdown",
   "id": "f34b0e9c",
   "metadata": {
    "papermill": {
     "duration": 0.025536,
     "end_time": "2022-02-26T17:40:23.395131",
     "exception": false,
     "start_time": "2022-02-26T17:40:23.369595",
     "status": "completed"
    },
    "tags": []
   },
   "source": [
    "## 4.\n",
    "The [Powerlifting Database](https://www.kaggle.com/open-powerlifting/powerlifting-database) dataset on Kaggle includes one CSV table for powerlifting meets and a separate one for powerlifting competitors. Run the cell below to load these datasets into dataframes:"
   ]
  },
  {
   "cell_type": "code",
   "execution_count": 10,
   "id": "f522ab4a",
   "metadata": {
    "execution": {
     "iopub.execute_input": "2022-02-26T17:40:23.454940Z",
     "iopub.status.busy": "2022-02-26T17:40:23.454223Z",
     "iopub.status.idle": "2022-02-26T17:40:24.448274Z",
     "shell.execute_reply": "2022-02-26T17:40:24.447659Z",
     "shell.execute_reply.started": "2022-02-26T17:39:41.221717Z"
    },
    "papermill": {
     "duration": 1.026163,
     "end_time": "2022-02-26T17:40:24.448458",
     "exception": false,
     "start_time": "2022-02-26T17:40:23.422295",
     "status": "completed"
    },
    "tags": []
   },
   "outputs": [],
   "source": [
    "powerlifting_meets = pd.read_csv(\"../input/powerlifting-database/meets.csv\")\n",
    "powerlifting_competitors = pd.read_csv(\"../input/powerlifting-database/openpowerlifting.csv\")"
   ]
  },
  {
   "cell_type": "markdown",
   "id": "cc6ec06d",
   "metadata": {
    "papermill": {
     "duration": 0.02371,
     "end_time": "2022-02-26T17:40:24.497465",
     "exception": false,
     "start_time": "2022-02-26T17:40:24.473755",
     "status": "completed"
    },
    "tags": []
   },
   "source": [
    "Both tables include references to a `MeetID`, a unique key for each meet (competition) included in the database. Using this, generate a dataset combining the two tables into one."
   ]
  },
  {
   "cell_type": "code",
   "execution_count": 11,
   "id": "d1283f29",
   "metadata": {
    "execution": {
     "iopub.execute_input": "2022-02-26T17:40:24.550022Z",
     "iopub.status.busy": "2022-02-26T17:40:24.549287Z",
     "iopub.status.idle": "2022-02-26T17:40:24.555486Z",
     "shell.execute_reply": "2022-02-26T17:40:24.556063Z"
    },
    "papermill": {
     "duration": 0.034691,
     "end_time": "2022-02-26T17:40:24.556247",
     "exception": false,
     "start_time": "2022-02-26T17:40:24.521556",
     "status": "completed"
    },
    "tags": []
   },
   "outputs": [
    {
     "data": {
      "application/javascript": [
       "parent.postMessage({\"jupyterEvent\": \"custom.exercise_interaction\", \"data\": {\"outcomeType\": 4, \"interactionType\": 1, \"questionType\": 2, \"questionId\": \"4_JoinLifting\", \"learnToolsVersion\": \"0.3.4\", \"valueTowardsCompletion\": 0.0, \"failureMessage\": \"\", \"exceptionClass\": \"\", \"trace\": \"\"}}, \"*\")"
      ],
      "text/plain": [
       "<IPython.core.display.Javascript object>"
      ]
     },
     "metadata": {},
     "output_type": "display_data"
    },
    {
     "data": {
      "text/markdown": [
       "<span style=\"color:#ccaa33\">Check:</span> When you've updated the starter code, `check()` will tell you whether your code is correct. You need to update the code that creates variable `powerlifting_combined`"
      ],
      "text/plain": [
       "Check: When you've updated the starter code, `check()` will tell you whether your code is correct. You need to update the code that creates variable `powerlifting_combined`"
      ]
     },
     "metadata": {},
     "output_type": "display_data"
    }
   ],
   "source": [
    "powerlifting_combined = ____\n",
    "\n",
    "# Check your answer\n",
    "q4.check()"
   ]
  },
  {
   "cell_type": "code",
   "execution_count": 12,
   "id": "7fd3f4b1",
   "metadata": {
    "execution": {
     "iopub.execute_input": "2022-02-26T17:40:24.611087Z",
     "iopub.status.busy": "2022-02-26T17:40:24.610396Z",
     "iopub.status.idle": "2022-02-26T17:40:24.616184Z",
     "shell.execute_reply": "2022-02-26T17:40:24.616782Z",
     "shell.execute_reply.started": "2022-02-26T17:39:49.951422Z"
    },
    "papermill": {
     "duration": 0.035042,
     "end_time": "2022-02-26T17:40:24.616972",
     "exception": false,
     "start_time": "2022-02-26T17:40:24.581930",
     "status": "completed"
    },
    "tags": []
   },
   "outputs": [
    {
     "data": {
      "application/javascript": [
       "parent.postMessage({\"jupyterEvent\": \"custom.exercise_interaction\", \"data\": {\"interactionType\": 3, \"questionType\": 2, \"questionId\": \"4_JoinLifting\", \"learnToolsVersion\": \"0.3.4\", \"valueTowardsCompletion\": 0.0, \"failureMessage\": \"\", \"exceptionClass\": \"\", \"trace\": \"\", \"outcomeType\": 4}}, \"*\")"
      ],
      "text/plain": [
       "<IPython.core.display.Javascript object>"
      ]
     },
     "metadata": {},
     "output_type": "display_data"
    },
    {
     "data": {
      "text/markdown": [
       "<span style=\"color:#33cc99\">Solution:</span> \n",
       "```python\n",
       "powerlifting_combined = powerlifting_meets.set_index(\"MeetID\").join(powerlifting_competitors.set_index(\"MeetID\"))\n",
       "```"
      ],
      "text/plain": [
       "Solution: \n",
       "```python\n",
       "powerlifting_combined = powerlifting_meets.set_index(\"MeetID\").join(powerlifting_competitors.set_index(\"MeetID\"))\n",
       "```"
      ]
     },
     "metadata": {},
     "output_type": "display_data"
    }
   ],
   "source": [
    "#q4.hint()\n",
    "q4.solution()"
   ]
  },
  {
   "cell_type": "markdown",
   "id": "837b9347",
   "metadata": {
    "papermill": {
     "duration": 0.026473,
     "end_time": "2022-02-26T17:40:24.670349",
     "exception": false,
     "start_time": "2022-02-26T17:40:24.643876",
     "status": "completed"
    },
    "tags": []
   },
   "source": [
    "# Congratulations!\n",
    "\n",
    "You've finished the Pandas micro-course.  Many data scientists feel efficiency with Pandas is the most useful and practical skill they have, because it allows you to progress quickly in any project you have.\n",
    "\n",
    "If you'd like to apply your new skills to examining geospatial data, you're encouraged to check out our **[Geospatial Analysis](https://www.kaggle.com/learn/geospatial-analysis)** micro-course.\n",
    "\n",
    "You can also take advantage of your Pandas skills by entering a **[Kaggle Competition](https://www.kaggle.com/competitions)** or by answering a question you find interesting using **[Kaggle Datasets](https://www.kaggle.com/datasets)**."
   ]
  },
  {
   "cell_type": "markdown",
   "id": "240ed612",
   "metadata": {
    "papermill": {
     "duration": 0.026528,
     "end_time": "2022-02-26T17:40:24.723838",
     "exception": false,
     "start_time": "2022-02-26T17:40:24.697310",
     "status": "completed"
    },
    "tags": []
   },
   "source": [
    "---\n",
    "\n",
    "\n",
    "\n",
    "\n",
    "*Have questions or comments? Visit the [course discussion forum](https://www.kaggle.com/learn/pandas/discussion) to chat with other learners.*"
   ]
  }
 ],
 "metadata": {
  "kernelspec": {
   "display_name": "Python 3",
   "language": "python",
   "name": "python3"
  },
  "language_info": {
   "codemirror_mode": {
    "name": "ipython",
    "version": 3
   },
   "file_extension": ".py",
   "mimetype": "text/x-python",
   "name": "python",
   "nbconvert_exporter": "python",
   "pygments_lexer": "ipython3",
   "version": "3.7.12"
  },
  "papermill": {
   "default_parameters": {},
   "duration": 17.812018,
   "end_time": "2022-02-26T17:40:25.562552",
   "environment_variables": {},
   "exception": null,
   "input_path": "__notebook__.ipynb",
   "output_path": "__notebook__.ipynb",
   "parameters": {},
   "start_time": "2022-02-26T17:40:07.750534",
   "version": "2.3.3"
  }
 },
 "nbformat": 4,
 "nbformat_minor": 5
}
