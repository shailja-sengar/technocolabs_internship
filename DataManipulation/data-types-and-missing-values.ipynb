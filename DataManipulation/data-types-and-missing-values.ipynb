{
 "cells": [
  {
   "cell_type": "markdown",
   "id": "35c6725e",
   "metadata": {
    "papermill": {
     "duration": 0.016587,
     "end_time": "2022-02-26T17:26:22.753832",
     "exception": false,
     "start_time": "2022-02-26T17:26:22.737245",
     "status": "completed"
    },
    "tags": []
   },
   "source": [
    "**This notebook is an exercise in the [Pandas](https://www.kaggle.com/learn/pandas) course.  You can reference the tutorial at [this link](https://www.kaggle.com/residentmario/data-types-and-missing-values).**\n",
    "\n",
    "---\n"
   ]
  },
  {
   "cell_type": "markdown",
   "id": "8bf67e9d",
   "metadata": {
    "papermill": {
     "duration": 0.015568,
     "end_time": "2022-02-26T17:26:22.785256",
     "exception": false,
     "start_time": "2022-02-26T17:26:22.769688",
     "status": "completed"
    },
    "tags": []
   },
   "source": [
    "# Introduction\n",
    "\n",
    "Run the following cell to load your data and some utility functions."
   ]
  },
  {
   "cell_type": "code",
   "execution_count": 1,
   "id": "6670323b",
   "metadata": {
    "execution": {
     "iopub.execute_input": "2022-02-26T17:26:22.822930Z",
     "iopub.status.busy": "2022-02-26T17:26:22.821007Z",
     "iopub.status.idle": "2022-02-26T17:26:25.906309Z",
     "shell.execute_reply": "2022-02-26T17:26:25.907160Z",
     "shell.execute_reply.started": "2022-02-26T17:22:19.048696Z"
    },
    "papermill": {
     "duration": 3.107137,
     "end_time": "2022-02-26T17:26:25.907565",
     "exception": false,
     "start_time": "2022-02-26T17:26:22.800428",
     "status": "completed"
    },
    "tags": []
   },
   "outputs": [
    {
     "name": "stdout",
     "output_type": "stream",
     "text": [
      "Setup complete.\n"
     ]
    }
   ],
   "source": [
    "import pandas as pd\n",
    "\n",
    "reviews = pd.read_csv(\"../input/wine-reviews/winemag-data-130k-v2.csv\", index_col=0)\n",
    "\n",
    "from learntools.core import binder; binder.bind(globals())\n",
    "from learntools.pandas.data_types_and_missing_data import *\n",
    "print(\"Setup complete.\")"
   ]
  },
  {
   "cell_type": "markdown",
   "id": "0d4e1fe0",
   "metadata": {
    "papermill": {
     "duration": 0.015449,
     "end_time": "2022-02-26T17:26:25.940366",
     "exception": false,
     "start_time": "2022-02-26T17:26:25.924917",
     "status": "completed"
    },
    "tags": []
   },
   "source": [
    "# Exercises"
   ]
  },
  {
   "cell_type": "markdown",
   "id": "58392fe2",
   "metadata": {
    "papermill": {
     "duration": 0.015427,
     "end_time": "2022-02-26T17:26:25.971616",
     "exception": false,
     "start_time": "2022-02-26T17:26:25.956189",
     "status": "completed"
    },
    "tags": []
   },
   "source": [
    "## 1. \n",
    "What is the data type of the `points` column in the dataset?"
   ]
  },
  {
   "cell_type": "code",
   "execution_count": 2,
   "id": "9ff1ee8d",
   "metadata": {
    "execution": {
     "iopub.execute_input": "2022-02-26T17:26:26.009042Z",
     "iopub.status.busy": "2022-02-26T17:26:26.008024Z",
     "iopub.status.idle": "2022-02-26T17:26:26.019723Z",
     "shell.execute_reply": "2022-02-26T17:26:26.020235Z",
     "shell.execute_reply.started": "2022-02-26T17:23:30.618938Z"
    },
    "papermill": {
     "duration": 0.031984,
     "end_time": "2022-02-26T17:26:26.020417",
     "exception": false,
     "start_time": "2022-02-26T17:26:25.988433",
     "status": "completed"
    },
    "tags": []
   },
   "outputs": [
    {
     "data": {
      "application/javascript": [
       "parent.postMessage({\"jupyterEvent\": \"custom.exercise_interaction\", \"data\": {\"outcomeType\": 1, \"valueTowardsCompletion\": 0.25, \"interactionType\": 1, \"questionType\": 1, \"questionId\": \"1_PointsDtype\", \"learnToolsVersion\": \"0.3.4\", \"failureMessage\": \"\", \"exceptionClass\": \"\", \"trace\": \"\"}}, \"*\")"
      ],
      "text/plain": [
       "<IPython.core.display.Javascript object>"
      ]
     },
     "metadata": {},
     "output_type": "display_data"
    },
    {
     "data": {
      "text/markdown": [
       "<span style=\"color:#33cc33\">Correct</span>"
      ],
      "text/plain": [
       "Correct"
      ]
     },
     "metadata": {},
     "output_type": "display_data"
    }
   ],
   "source": [
    "# Your code here\n",
    "dtype = reviews.points.dtype\n",
    "\n",
    "# Check your answer\n",
    "q1.check()"
   ]
  },
  {
   "cell_type": "code",
   "execution_count": 3,
   "id": "da1843c9",
   "metadata": {
    "execution": {
     "iopub.execute_input": "2022-02-26T17:26:26.058877Z",
     "iopub.status.busy": "2022-02-26T17:26:26.057816Z",
     "iopub.status.idle": "2022-02-26T17:26:26.061189Z",
     "shell.execute_reply": "2022-02-26T17:26:26.061750Z"
    },
    "papermill": {
     "duration": 0.024605,
     "end_time": "2022-02-26T17:26:26.061921",
     "exception": false,
     "start_time": "2022-02-26T17:26:26.037316",
     "status": "completed"
    },
    "tags": []
   },
   "outputs": [],
   "source": [
    "#q1.hint()\n",
    "#q1.solution()"
   ]
  },
  {
   "cell_type": "markdown",
   "id": "b5f18e20",
   "metadata": {
    "papermill": {
     "duration": 0.016735,
     "end_time": "2022-02-26T17:26:26.095742",
     "exception": false,
     "start_time": "2022-02-26T17:26:26.079007",
     "status": "completed"
    },
    "tags": []
   },
   "source": [
    "## 2. \n",
    "Create a Series from entries in the `points` column, but convert the entries to strings. Hint: strings are `str` in native Python."
   ]
  },
  {
   "cell_type": "code",
   "execution_count": 4,
   "id": "900ae7c2",
   "metadata": {
    "execution": {
     "iopub.execute_input": "2022-02-26T17:26:26.133404Z",
     "iopub.status.busy": "2022-02-26T17:26:26.132443Z",
     "iopub.status.idle": "2022-02-26T17:26:26.277663Z",
     "shell.execute_reply": "2022-02-26T17:26:26.278223Z",
     "shell.execute_reply.started": "2022-02-26T17:24:25.339476Z"
    },
    "papermill": {
     "duration": 0.165633,
     "end_time": "2022-02-26T17:26:26.278406",
     "exception": false,
     "start_time": "2022-02-26T17:26:26.112773",
     "status": "completed"
    },
    "tags": []
   },
   "outputs": [
    {
     "data": {
      "application/javascript": [
       "parent.postMessage({\"jupyterEvent\": \"custom.exercise_interaction\", \"data\": {\"outcomeType\": 1, \"valueTowardsCompletion\": 0.25, \"interactionType\": 1, \"questionType\": 1, \"questionId\": \"2_StrPoints\", \"learnToolsVersion\": \"0.3.4\", \"failureMessage\": \"\", \"exceptionClass\": \"\", \"trace\": \"\"}}, \"*\")"
      ],
      "text/plain": [
       "<IPython.core.display.Javascript object>"
      ]
     },
     "metadata": {},
     "output_type": "display_data"
    },
    {
     "data": {
      "text/markdown": [
       "<span style=\"color:#33cc33\">Correct</span>"
      ],
      "text/plain": [
       "Correct"
      ]
     },
     "metadata": {},
     "output_type": "display_data"
    }
   ],
   "source": [
    "point_strings = reviews.points.astype(str)\n",
    "\n",
    "# Check your answer\n",
    "q2.check()"
   ]
  },
  {
   "cell_type": "code",
   "execution_count": 5,
   "id": "f90317b5",
   "metadata": {
    "execution": {
     "iopub.execute_input": "2022-02-26T17:26:26.318275Z",
     "iopub.status.busy": "2022-02-26T17:26:26.317351Z",
     "iopub.status.idle": "2022-02-26T17:26:26.320910Z",
     "shell.execute_reply": "2022-02-26T17:26:26.321495Z",
     "shell.execute_reply.started": "2022-02-26T17:24:34.564276Z"
    },
    "papermill": {
     "duration": 0.025305,
     "end_time": "2022-02-26T17:26:26.321661",
     "exception": false,
     "start_time": "2022-02-26T17:26:26.296356",
     "status": "completed"
    },
    "tags": []
   },
   "outputs": [],
   "source": [
    "#q2.hint()\n",
    "#q2.solution()"
   ]
  },
  {
   "cell_type": "markdown",
   "id": "f4e7fcfd",
   "metadata": {
    "papermill": {
     "duration": 0.017836,
     "end_time": "2022-02-26T17:26:26.357887",
     "exception": false,
     "start_time": "2022-02-26T17:26:26.340051",
     "status": "completed"
    },
    "tags": []
   },
   "source": [
    "## 3.\n",
    "Sometimes the price column is null. How many reviews in the dataset are missing a price?"
   ]
  },
  {
   "cell_type": "code",
   "execution_count": 6,
   "id": "e271f9c0",
   "metadata": {
    "execution": {
     "iopub.execute_input": "2022-02-26T17:26:26.398643Z",
     "iopub.status.busy": "2022-02-26T17:26:26.397629Z",
     "iopub.status.idle": "2022-02-26T17:26:26.406924Z",
     "shell.execute_reply": "2022-02-26T17:26:26.406287Z",
     "shell.execute_reply.started": "2022-02-26T17:25:27.999402Z"
    },
    "papermill": {
     "duration": 0.030985,
     "end_time": "2022-02-26T17:26:26.407077",
     "exception": false,
     "start_time": "2022-02-26T17:26:26.376092",
     "status": "completed"
    },
    "tags": []
   },
   "outputs": [
    {
     "data": {
      "application/javascript": [
       "parent.postMessage({\"jupyterEvent\": \"custom.exercise_interaction\", \"data\": {\"outcomeType\": 1, \"valueTowardsCompletion\": 0.25, \"interactionType\": 1, \"questionType\": 1, \"questionId\": \"3_CountMissingPrices\", \"learnToolsVersion\": \"0.3.4\", \"failureMessage\": \"\", \"exceptionClass\": \"\", \"trace\": \"\"}}, \"*\")"
      ],
      "text/plain": [
       "<IPython.core.display.Javascript object>"
      ]
     },
     "metadata": {},
     "output_type": "display_data"
    },
    {
     "data": {
      "text/markdown": [
       "<span style=\"color:#33cc33\">Correct</span>"
      ],
      "text/plain": [
       "Correct"
      ]
     },
     "metadata": {},
     "output_type": "display_data"
    }
   ],
   "source": [
    "n_missing_prices = pd.isnull(reviews.price).sum()\n",
    "\n",
    "# Check your answer\n",
    "q3.check()"
   ]
  },
  {
   "cell_type": "code",
   "execution_count": 7,
   "id": "595e1294",
   "metadata": {
    "execution": {
     "iopub.execute_input": "2022-02-26T17:26:26.451430Z",
     "iopub.status.busy": "2022-02-26T17:26:26.450760Z",
     "iopub.status.idle": "2022-02-26T17:26:26.452598Z",
     "shell.execute_reply": "2022-02-26T17:26:26.453074Z",
     "shell.execute_reply.started": "2022-02-26T17:25:34.889280Z"
    },
    "papermill": {
     "duration": 0.026199,
     "end_time": "2022-02-26T17:26:26.453249",
     "exception": false,
     "start_time": "2022-02-26T17:26:26.427050",
     "status": "completed"
    },
    "tags": []
   },
   "outputs": [],
   "source": [
    "#q3.hint()\n",
    "#q3.solution()"
   ]
  },
  {
   "cell_type": "markdown",
   "id": "f32509dd",
   "metadata": {
    "papermill": {
     "duration": 0.020024,
     "end_time": "2022-02-26T17:26:26.495176",
     "exception": false,
     "start_time": "2022-02-26T17:26:26.475152",
     "status": "completed"
    },
    "tags": []
   },
   "source": [
    "## 4.\n",
    "What are the most common wine-producing regions? Create a Series counting the number of times each value occurs in the `region_1` field. This field is often missing data, so replace missing values with `Unknown`. Sort in descending order.  Your output should look something like this:\n",
    "\n",
    "```\n",
    "Unknown                    21247\n",
    "Napa Valley                 4480\n",
    "                           ...  \n",
    "Bardolino Superiore            1\n",
    "Primitivo del Tarantino        1\n",
    "Name: region_1, Length: 1230, dtype: int64\n",
    "```"
   ]
  },
  {
   "cell_type": "code",
   "execution_count": 8,
   "id": "ed394141",
   "metadata": {
    "execution": {
     "iopub.execute_input": "2022-02-26T17:26:26.551610Z",
     "iopub.status.busy": "2022-02-26T17:26:26.550897Z",
     "iopub.status.idle": "2022-02-26T17:26:26.613104Z",
     "shell.execute_reply": "2022-02-26T17:26:26.612458Z",
     "shell.execute_reply.started": "2022-02-26T17:25:57.613825Z"
    },
    "papermill": {
     "duration": 0.098842,
     "end_time": "2022-02-26T17:26:26.613248",
     "exception": false,
     "start_time": "2022-02-26T17:26:26.514406",
     "status": "completed"
    },
    "tags": []
   },
   "outputs": [
    {
     "data": {
      "application/javascript": [
       "parent.postMessage({\"jupyterEvent\": \"custom.exercise_interaction\", \"data\": {\"outcomeType\": 1, \"valueTowardsCompletion\": 0.25, \"interactionType\": 1, \"questionType\": 2, \"questionId\": \"4_ReviewsPerRegion\", \"learnToolsVersion\": \"0.3.4\", \"failureMessage\": \"\", \"exceptionClass\": \"\", \"trace\": \"\"}}, \"*\")"
      ],
      "text/plain": [
       "<IPython.core.display.Javascript object>"
      ]
     },
     "metadata": {},
     "output_type": "display_data"
    },
    {
     "data": {
      "text/markdown": [
       "<span style=\"color:#33cc33\">Correct</span>"
      ],
      "text/plain": [
       "Correct"
      ]
     },
     "metadata": {},
     "output_type": "display_data"
    }
   ],
   "source": [
    "reviews_per_region = reviews.region_1.fillna('Unknown').value_counts().sort_values(ascending=False)\n",
    "\n",
    "# Check your answer\n",
    "q4.check()"
   ]
  },
  {
   "cell_type": "code",
   "execution_count": 9,
   "id": "1c257f1f",
   "metadata": {
    "execution": {
     "iopub.execute_input": "2022-02-26T17:26:26.661320Z",
     "iopub.status.busy": "2022-02-26T17:26:26.660600Z",
     "iopub.status.idle": "2022-02-26T17:26:26.664874Z",
     "shell.execute_reply": "2022-02-26T17:26:26.665491Z",
     "shell.execute_reply.started": "2022-02-26T17:25:41.809021Z"
    },
    "papermill": {
     "duration": 0.030744,
     "end_time": "2022-02-26T17:26:26.665660",
     "exception": false,
     "start_time": "2022-02-26T17:26:26.634916",
     "status": "completed"
    },
    "tags": []
   },
   "outputs": [
    {
     "data": {
      "application/javascript": [
       "parent.postMessage({\"jupyterEvent\": \"custom.exercise_interaction\", \"data\": {\"interactionType\": 3, \"questionType\": 2, \"questionId\": \"4_ReviewsPerRegion\", \"learnToolsVersion\": \"0.3.4\", \"valueTowardsCompletion\": 0.0, \"failureMessage\": \"\", \"exceptionClass\": \"\", \"trace\": \"\", \"outcomeType\": 4}}, \"*\")"
      ],
      "text/plain": [
       "<IPython.core.display.Javascript object>"
      ]
     },
     "metadata": {},
     "output_type": "display_data"
    },
    {
     "data": {
      "text/markdown": [
       "<span style=\"color:#33cc99\">Solution:</span> \n",
       "```python\n",
       "reviews_per_region = reviews.region_1.fillna('Unknown').value_counts().sort_values(ascending=False)\n",
       "```"
      ],
      "text/plain": [
       "Solution: \n",
       "```python\n",
       "reviews_per_region = reviews.region_1.fillna('Unknown').value_counts().sort_values(ascending=False)\n",
       "```"
      ]
     },
     "metadata": {},
     "output_type": "display_data"
    }
   ],
   "source": [
    "#q4.hint()\n",
    "q4.solution()"
   ]
  },
  {
   "cell_type": "markdown",
   "id": "de1c14a1",
   "metadata": {
    "papermill": {
     "duration": 0.021805,
     "end_time": "2022-02-26T17:26:26.709408",
     "exception": false,
     "start_time": "2022-02-26T17:26:26.687603",
     "status": "completed"
    },
    "tags": []
   },
   "source": [
    "# Keep going\n",
    "\n",
    "Move on to **[renaming and combining](https://www.kaggle.com/residentmario/renaming-and-combining)**."
   ]
  },
  {
   "cell_type": "markdown",
   "id": "da96dc6f",
   "metadata": {
    "papermill": {
     "duration": 0.021934,
     "end_time": "2022-02-26T17:26:26.754761",
     "exception": false,
     "start_time": "2022-02-26T17:26:26.732827",
     "status": "completed"
    },
    "tags": []
   },
   "source": [
    "---\n",
    "\n",
    "\n",
    "\n",
    "\n",
    "*Have questions or comments? Visit the [course discussion forum](https://www.kaggle.com/learn/pandas/discussion) to chat with other learners.*"
   ]
  }
 ],
 "metadata": {
  "kernelspec": {
   "display_name": "Python 3",
   "language": "python",
   "name": "python3"
  },
  "language_info": {
   "codemirror_mode": {
    "name": "ipython",
    "version": 3
   },
   "file_extension": ".py",
   "mimetype": "text/x-python",
   "name": "python",
   "nbconvert_exporter": "python",
   "pygments_lexer": "ipython3",
   "version": "3.7.12"
  },
  "papermill": {
   "default_parameters": {},
   "duration": 15.254724,
   "end_time": "2022-02-26T17:26:27.489241",
   "environment_variables": {},
   "exception": null,
   "input_path": "__notebook__.ipynb",
   "output_path": "__notebook__.ipynb",
   "parameters": {},
   "start_time": "2022-02-26T17:26:12.234517",
   "version": "2.3.3"
  }
 },
 "nbformat": 4,
 "nbformat_minor": 5
}
