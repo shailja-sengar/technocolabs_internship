{
 "cells": [
  {
   "cell_type": "markdown",
   "id": "ad649fdb",
   "metadata": {
    "papermill": {
     "duration": 0.024053,
     "end_time": "2022-02-25T17:58:09.271776",
     "exception": false,
     "start_time": "2022-02-25T17:58:09.247723",
     "status": "completed"
    },
    "tags": []
   },
   "source": [
    "**This notebook is an exercise in the [Pandas](https://www.kaggle.com/learn/pandas) course.  You can reference the tutorial at [this link](https://www.kaggle.com/residentmario/grouping-and-sorting).**\n",
    "\n",
    "---\n"
   ]
  },
  {
   "cell_type": "markdown",
   "id": "d8e120a7",
   "metadata": {
    "papermill": {
     "duration": 0.021656,
     "end_time": "2022-02-25T17:58:09.317507",
     "exception": false,
     "start_time": "2022-02-25T17:58:09.295851",
     "status": "completed"
    },
    "tags": []
   },
   "source": [
    "# Introduction\n",
    "\n",
    "In these exercises we'll apply groupwise analysis to our dataset.\n",
    "\n",
    "Run the code cell below to load the data before running the exercises."
   ]
  },
  {
   "cell_type": "code",
   "execution_count": 1,
   "id": "051b72f5",
   "metadata": {
    "execution": {
     "iopub.execute_input": "2022-02-25T17:58:09.367691Z",
     "iopub.status.busy": "2022-02-25T17:58:09.365846Z",
     "iopub.status.idle": "2022-02-25T17:58:12.448916Z",
     "shell.execute_reply": "2022-02-25T17:58:12.447893Z",
     "shell.execute_reply.started": "2022-02-25T17:51:16.017477Z"
    },
    "papermill": {
     "duration": 3.109699,
     "end_time": "2022-02-25T17:58:12.449164",
     "exception": false,
     "start_time": "2022-02-25T17:58:09.339465",
     "status": "completed"
    },
    "tags": []
   },
   "outputs": [
    {
     "name": "stdout",
     "output_type": "stream",
     "text": [
      "Setup complete.\n"
     ]
    }
   ],
   "source": [
    "import pandas as pd\n",
    "\n",
    "reviews = pd.read_csv(\"../input/wine-reviews/winemag-data-130k-v2.csv\", index_col=0)\n",
    "#pd.set_option(\"display.max_rows\", 5)\n",
    "\n",
    "from learntools.core import binder; binder.bind(globals())\n",
    "from learntools.pandas.grouping_and_sorting import *\n",
    "print(\"Setup complete.\")"
   ]
  },
  {
   "cell_type": "markdown",
   "id": "3802326c",
   "metadata": {
    "papermill": {
     "duration": 0.022358,
     "end_time": "2022-02-25T17:58:12.495746",
     "exception": false,
     "start_time": "2022-02-25T17:58:12.473388",
     "status": "completed"
    },
    "tags": []
   },
   "source": [
    "# Exercises"
   ]
  },
  {
   "cell_type": "markdown",
   "id": "3006cf7b",
   "metadata": {
    "papermill": {
     "duration": 0.022049,
     "end_time": "2022-02-25T17:58:12.540465",
     "exception": false,
     "start_time": "2022-02-25T17:58:12.518416",
     "status": "completed"
    },
    "tags": []
   },
   "source": [
    "## 1.\n",
    "Who are the most common wine reviewers in the dataset? Create a `Series` whose index is the `taster_twitter_handle` category from the dataset, and whose values count how many reviews each person wrote."
   ]
  },
  {
   "cell_type": "code",
   "execution_count": 2,
   "id": "1166170a",
   "metadata": {
    "execution": {
     "iopub.execute_input": "2022-02-25T17:58:12.606076Z",
     "iopub.status.busy": "2022-02-25T17:58:12.605378Z",
     "iopub.status.idle": "2022-02-25T17:58:12.628478Z",
     "shell.execute_reply": "2022-02-25T17:58:12.628955Z",
     "shell.execute_reply.started": "2022-02-25T17:53:03.178416Z"
    },
    "papermill": {
     "duration": 0.066231,
     "end_time": "2022-02-25T17:58:12.629152",
     "exception": false,
     "start_time": "2022-02-25T17:58:12.562921",
     "status": "completed"
    },
    "tags": []
   },
   "outputs": [
    {
     "data": {
      "application/javascript": [
       "parent.postMessage({\"jupyterEvent\": \"custom.exercise_interaction\", \"data\": {\"outcomeType\": 1, \"valueTowardsCompletion\": 0.16666666666666666, \"interactionType\": 1, \"questionType\": 1, \"questionId\": \"1_ReviewsWritten\", \"learnToolsVersion\": \"0.3.4\", \"failureMessage\": \"\", \"exceptionClass\": \"\", \"trace\": \"\"}}, \"*\")"
      ],
      "text/plain": [
       "<IPython.core.display.Javascript object>"
      ]
     },
     "metadata": {},
     "output_type": "display_data"
    },
    {
     "data": {
      "text/markdown": [
       "<span style=\"color:#33cc33\">Correct:</span> \n",
       "\n",
       "\n",
       "```python\n",
       "reviews_written = reviews.groupby('taster_twitter_handle').size()\n",
       "```\n",
       "or\n",
       "```python\n",
       "reviews_written = reviews.groupby('taster_twitter_handle').taster_twitter_handle.count()\n",
       "```\n"
      ],
      "text/plain": [
       "Correct: \n",
       "\n",
       "\n",
       "```python\n",
       "reviews_written = reviews.groupby('taster_twitter_handle').size()\n",
       "```\n",
       "or\n",
       "```python\n",
       "reviews_written = reviews.groupby('taster_twitter_handle').taster_twitter_handle.count()\n",
       "```"
      ]
     },
     "metadata": {},
     "output_type": "display_data"
    }
   ],
   "source": [
    "# Your code here\n",
    "reviews_written =reviews.groupby('taster_twitter_handle').taster_twitter_handle.count()\n",
    "\n",
    "# Check your answer\n",
    "q1.check()"
   ]
  },
  {
   "cell_type": "code",
   "execution_count": 3,
   "id": "ed29e72d",
   "metadata": {
    "execution": {
     "iopub.execute_input": "2022-02-25T17:58:12.680921Z",
     "iopub.status.busy": "2022-02-25T17:58:12.680269Z",
     "iopub.status.idle": "2022-02-25T17:58:12.682324Z",
     "shell.execute_reply": "2022-02-25T17:58:12.682795Z"
    },
    "papermill": {
     "duration": 0.029937,
     "end_time": "2022-02-25T17:58:12.682967",
     "exception": false,
     "start_time": "2022-02-25T17:58:12.653030",
     "status": "completed"
    },
    "tags": []
   },
   "outputs": [],
   "source": [
    "#q1.hint()\n",
    "#q1.solution()"
   ]
  },
  {
   "cell_type": "markdown",
   "id": "f72c1b95",
   "metadata": {
    "papermill": {
     "duration": 0.023534,
     "end_time": "2022-02-25T17:58:12.730948",
     "exception": false,
     "start_time": "2022-02-25T17:58:12.707414",
     "status": "completed"
    },
    "tags": []
   },
   "source": [
    "## 2.\n",
    "What is the best wine I can buy for a given amount of money? Create a `Series` whose index is wine prices and whose values is the maximum number of points a wine costing that much was given in a review. Sort the values by price, ascending (so that `4.0` dollars is at the top and `3300.0` dollars is at the bottom)."
   ]
  },
  {
   "cell_type": "code",
   "execution_count": 4,
   "id": "04361eea",
   "metadata": {
    "execution": {
     "iopub.execute_input": "2022-02-25T17:58:12.784230Z",
     "iopub.status.busy": "2022-02-25T17:58:12.783538Z",
     "iopub.status.idle": "2022-02-25T17:58:12.793717Z",
     "shell.execute_reply": "2022-02-25T17:58:12.794231Z",
     "shell.execute_reply.started": "2022-02-25T17:54:26.977629Z"
    },
    "papermill": {
     "duration": 0.039587,
     "end_time": "2022-02-25T17:58:12.794403",
     "exception": false,
     "start_time": "2022-02-25T17:58:12.754816",
     "status": "completed"
    },
    "tags": []
   },
   "outputs": [
    {
     "data": {
      "application/javascript": [
       "parent.postMessage({\"jupyterEvent\": \"custom.exercise_interaction\", \"data\": {\"outcomeType\": 1, \"valueTowardsCompletion\": 0.16666666666666666, \"interactionType\": 1, \"questionType\": 1, \"questionId\": \"2_BestRatingPerPrice\", \"learnToolsVersion\": \"0.3.4\", \"failureMessage\": \"\", \"exceptionClass\": \"\", \"trace\": \"\"}}, \"*\")"
      ],
      "text/plain": [
       "<IPython.core.display.Javascript object>"
      ]
     },
     "metadata": {},
     "output_type": "display_data"
    },
    {
     "data": {
      "text/markdown": [
       "<span style=\"color:#33cc33\">Correct</span>"
      ],
      "text/plain": [
       "Correct"
      ]
     },
     "metadata": {},
     "output_type": "display_data"
    }
   ],
   "source": [
    "best_rating_per_price = reviews.groupby('price')['points'].max().sort_index()\n",
    "\n",
    "# Check your answer\n",
    "q2.check()"
   ]
  },
  {
   "cell_type": "code",
   "execution_count": 5,
   "id": "2dbd9e80",
   "metadata": {
    "execution": {
     "iopub.execute_input": "2022-02-25T17:58:12.849813Z",
     "iopub.status.busy": "2022-02-25T17:58:12.848908Z",
     "iopub.status.idle": "2022-02-25T17:58:12.851805Z",
     "shell.execute_reply": "2022-02-25T17:58:12.851181Z",
     "shell.execute_reply.started": "2022-02-25T17:54:32.378080Z"
    },
    "papermill": {
     "duration": 0.03245,
     "end_time": "2022-02-25T17:58:12.851943",
     "exception": false,
     "start_time": "2022-02-25T17:58:12.819493",
     "status": "completed"
    },
    "tags": []
   },
   "outputs": [],
   "source": [
    "#q2.hint()\n",
    "#q2.solution()"
   ]
  },
  {
   "cell_type": "markdown",
   "id": "b8b84280",
   "metadata": {
    "papermill": {
     "duration": 0.025819,
     "end_time": "2022-02-25T17:58:12.904596",
     "exception": false,
     "start_time": "2022-02-25T17:58:12.878777",
     "status": "completed"
    },
    "tags": []
   },
   "source": [
    "## 3.\n",
    "What are the minimum and maximum prices for each `variety` of wine? Create a `DataFrame` whose index is the `variety` category from the dataset and whose values are the `min` and `max` values thereof."
   ]
  },
  {
   "cell_type": "code",
   "execution_count": 6,
   "id": "f76c1dbe",
   "metadata": {
    "execution": {
     "iopub.execute_input": "2022-02-25T17:58:12.981309Z",
     "iopub.status.busy": "2022-02-25T17:58:12.975540Z",
     "iopub.status.idle": "2022-02-25T17:58:12.985246Z",
     "shell.execute_reply": "2022-02-25T17:58:12.985730Z",
     "shell.execute_reply.started": "2022-02-25T17:56:00.782430Z"
    },
    "papermill": {
     "duration": 0.056368,
     "end_time": "2022-02-25T17:58:12.985908",
     "exception": false,
     "start_time": "2022-02-25T17:58:12.929540",
     "status": "completed"
    },
    "tags": []
   },
   "outputs": [
    {
     "data": {
      "application/javascript": [
       "parent.postMessage({\"jupyterEvent\": \"custom.exercise_interaction\", \"data\": {\"outcomeType\": 1, \"valueTowardsCompletion\": 0.16666666666666666, \"interactionType\": 1, \"questionType\": 1, \"questionId\": \"3_PriceExtremes\", \"learnToolsVersion\": \"0.3.4\", \"failureMessage\": \"\", \"exceptionClass\": \"\", \"trace\": \"\"}}, \"*\")"
      ],
      "text/plain": [
       "<IPython.core.display.Javascript object>"
      ]
     },
     "metadata": {},
     "output_type": "display_data"
    },
    {
     "data": {
      "text/markdown": [
       "<span style=\"color:#33cc33\">Correct</span>"
      ],
      "text/plain": [
       "Correct"
      ]
     },
     "metadata": {},
     "output_type": "display_data"
    }
   ],
   "source": [
    "price_extremes = reviews.groupby('variety').price.agg([min, max])\n",
    "\n",
    "# Check your answer\n",
    "q3.check()"
   ]
  },
  {
   "cell_type": "code",
   "execution_count": 7,
   "id": "a710d32f",
   "metadata": {
    "execution": {
     "iopub.execute_input": "2022-02-25T17:58:13.041875Z",
     "iopub.status.busy": "2022-02-25T17:58:13.041221Z",
     "iopub.status.idle": "2022-02-25T17:58:13.043578Z",
     "shell.execute_reply": "2022-02-25T17:58:13.044187Z",
     "shell.execute_reply.started": "2022-02-25T17:56:04.877358Z"
    },
    "papermill": {
     "duration": 0.032375,
     "end_time": "2022-02-25T17:58:13.044365",
     "exception": false,
     "start_time": "2022-02-25T17:58:13.011990",
     "status": "completed"
    },
    "tags": []
   },
   "outputs": [],
   "source": [
    "#q3.hint()\n",
    "#q3.solution()"
   ]
  },
  {
   "cell_type": "markdown",
   "id": "74daa5d2",
   "metadata": {
    "papermill": {
     "duration": 0.025753,
     "end_time": "2022-02-25T17:58:13.096414",
     "exception": false,
     "start_time": "2022-02-25T17:58:13.070661",
     "status": "completed"
    },
    "tags": []
   },
   "source": [
    "## 4.\n",
    "What are the most expensive wine varieties? Create a variable `sorted_varieties` containing a copy of the dataframe from the previous question where varieties are sorted in descending order based on minimum price, then on maximum price (to break ties)."
   ]
  },
  {
   "cell_type": "code",
   "execution_count": 8,
   "id": "9342759e",
   "metadata": {
    "execution": {
     "iopub.execute_input": "2022-02-25T17:58:13.156210Z",
     "iopub.status.busy": "2022-02-25T17:58:13.155212Z",
     "iopub.status.idle": "2022-02-25T17:58:13.161293Z",
     "shell.execute_reply": "2022-02-25T17:58:13.161875Z",
     "shell.execute_reply.started": "2022-02-25T17:56:23.837753Z"
    },
    "papermill": {
     "duration": 0.038949,
     "end_time": "2022-02-25T17:58:13.162061",
     "exception": false,
     "start_time": "2022-02-25T17:58:13.123112",
     "status": "completed"
    },
    "tags": []
   },
   "outputs": [
    {
     "data": {
      "application/javascript": [
       "parent.postMessage({\"jupyterEvent\": \"custom.exercise_interaction\", \"data\": {\"outcomeType\": 1, \"valueTowardsCompletion\": 0.16666666666666666, \"interactionType\": 1, \"questionType\": 1, \"questionId\": \"4_SortedVarieties\", \"learnToolsVersion\": \"0.3.4\", \"failureMessage\": \"\", \"exceptionClass\": \"\", \"trace\": \"\"}}, \"*\")"
      ],
      "text/plain": [
       "<IPython.core.display.Javascript object>"
      ]
     },
     "metadata": {},
     "output_type": "display_data"
    },
    {
     "data": {
      "text/markdown": [
       "<span style=\"color:#33cc33\">Correct</span>"
      ],
      "text/plain": [
       "Correct"
      ]
     },
     "metadata": {},
     "output_type": "display_data"
    }
   ],
   "source": [
    "sorted_varieties = price_extremes.sort_values(by=['min', 'max'], ascending=False)\n",
    "\n",
    "# Check your answer\n",
    "q4.check()"
   ]
  },
  {
   "cell_type": "code",
   "execution_count": 9,
   "id": "989c60fb",
   "metadata": {
    "execution": {
     "iopub.execute_input": "2022-02-25T17:58:13.219976Z",
     "iopub.status.busy": "2022-02-25T17:58:13.219366Z",
     "iopub.status.idle": "2022-02-25T17:58:13.222215Z",
     "shell.execute_reply": "2022-02-25T17:58:13.222752Z",
     "shell.execute_reply.started": "2022-02-25T17:56:30.717644Z"
    },
    "papermill": {
     "duration": 0.033433,
     "end_time": "2022-02-25T17:58:13.222925",
     "exception": false,
     "start_time": "2022-02-25T17:58:13.189492",
     "status": "completed"
    },
    "tags": []
   },
   "outputs": [],
   "source": [
    "#q4.hint()\n",
    "#q4.solution()"
   ]
  },
  {
   "cell_type": "markdown",
   "id": "bf27701a",
   "metadata": {
    "papermill": {
     "duration": 0.027441,
     "end_time": "2022-02-25T17:58:13.278157",
     "exception": false,
     "start_time": "2022-02-25T17:58:13.250716",
     "status": "completed"
    },
    "tags": []
   },
   "source": [
    "## 5.\n",
    "Create a `Series` whose index is reviewers and whose values is the average review score given out by that reviewer. Hint: you will need the `taster_name` and `points` columns."
   ]
  },
  {
   "cell_type": "code",
   "execution_count": 10,
   "id": "ed86658f",
   "metadata": {
    "execution": {
     "iopub.execute_input": "2022-02-25T17:58:13.337162Z",
     "iopub.status.busy": "2022-02-25T17:58:13.336457Z",
     "iopub.status.idle": "2022-02-25T17:58:13.360444Z",
     "shell.execute_reply": "2022-02-25T17:58:13.360968Z",
     "shell.execute_reply.started": "2022-02-25T17:56:52.318352Z"
    },
    "papermill": {
     "duration": 0.055467,
     "end_time": "2022-02-25T17:58:13.361162",
     "exception": false,
     "start_time": "2022-02-25T17:58:13.305695",
     "status": "completed"
    },
    "tags": []
   },
   "outputs": [
    {
     "data": {
      "application/javascript": [
       "parent.postMessage({\"jupyterEvent\": \"custom.exercise_interaction\", \"data\": {\"outcomeType\": 1, \"valueTowardsCompletion\": 0.16666666666666666, \"interactionType\": 1, \"questionType\": 1, \"questionId\": \"5_ReviewerMeanRatings\", \"learnToolsVersion\": \"0.3.4\", \"failureMessage\": \"\", \"exceptionClass\": \"\", \"trace\": \"\"}}, \"*\")"
      ],
      "text/plain": [
       "<IPython.core.display.Javascript object>"
      ]
     },
     "metadata": {},
     "output_type": "display_data"
    },
    {
     "data": {
      "text/markdown": [
       "<span style=\"color:#33cc33\">Correct</span>"
      ],
      "text/plain": [
       "Correct"
      ]
     },
     "metadata": {},
     "output_type": "display_data"
    }
   ],
   "source": [
    "reviewer_mean_ratings = reviewer_mean_ratings = reviews.groupby('taster_name').points.mean()\n",
    "\n",
    "# Check your answer\n",
    "q5.check()"
   ]
  },
  {
   "cell_type": "code",
   "execution_count": 11,
   "id": "5cda4aeb",
   "metadata": {
    "execution": {
     "iopub.execute_input": "2022-02-25T17:58:13.423326Z",
     "iopub.status.busy": "2022-02-25T17:58:13.422644Z",
     "iopub.status.idle": "2022-02-25T17:58:13.425815Z",
     "shell.execute_reply": "2022-02-25T17:58:13.426343Z",
     "shell.execute_reply.started": "2022-02-25T17:57:02.678301Z"
    },
    "papermill": {
     "duration": 0.03592,
     "end_time": "2022-02-25T17:58:13.426531",
     "exception": false,
     "start_time": "2022-02-25T17:58:13.390611",
     "status": "completed"
    },
    "tags": []
   },
   "outputs": [],
   "source": [
    "#q5.hint()\n",
    "#q5.solution()"
   ]
  },
  {
   "cell_type": "markdown",
   "id": "2adcdaa2",
   "metadata": {
    "papermill": {
     "duration": 0.028343,
     "end_time": "2022-02-25T17:58:13.484382",
     "exception": false,
     "start_time": "2022-02-25T17:58:13.456039",
     "status": "completed"
    },
    "tags": []
   },
   "source": [
    "Are there significant differences in the average scores assigned by the various reviewers? Run the cell below to use the `describe()` method to see a summary of the range of values."
   ]
  },
  {
   "cell_type": "code",
   "execution_count": 12,
   "id": "8c76c2e2",
   "metadata": {
    "execution": {
     "iopub.execute_input": "2022-02-25T17:58:13.548981Z",
     "iopub.status.busy": "2022-02-25T17:58:13.548280Z",
     "iopub.status.idle": "2022-02-25T17:58:13.556580Z",
     "shell.execute_reply": "2022-02-25T17:58:13.557189Z",
     "shell.execute_reply.started": "2022-02-25T17:57:06.617505Z"
    },
    "papermill": {
     "duration": 0.043979,
     "end_time": "2022-02-25T17:58:13.557364",
     "exception": false,
     "start_time": "2022-02-25T17:58:13.513385",
     "status": "completed"
    },
    "tags": []
   },
   "outputs": [
    {
     "data": {
      "text/plain": [
       "count    19.000000\n",
       "mean     88.233026\n",
       "std       1.243610\n",
       "min      85.855422\n",
       "25%      87.323501\n",
       "50%      88.536235\n",
       "75%      88.975256\n",
       "max      90.562551\n",
       "Name: points, dtype: float64"
      ]
     },
     "execution_count": 12,
     "metadata": {},
     "output_type": "execute_result"
    }
   ],
   "source": [
    "reviewer_mean_ratings.describe()"
   ]
  },
  {
   "cell_type": "markdown",
   "id": "2bb8a38d",
   "metadata": {
    "papermill": {
     "duration": 0.028876,
     "end_time": "2022-02-25T17:58:13.615668",
     "exception": false,
     "start_time": "2022-02-25T17:58:13.586792",
     "status": "completed"
    },
    "tags": []
   },
   "source": [
    "## 6.\n",
    "What combination of countries and varieties are most common? Create a `Series` whose index is a `MultiIndex`of `{country, variety}` pairs. For example, a pinot noir produced in the US should map to `{\"US\", \"Pinot Noir\"}`. Sort the values in the `Series` in descending order based on wine count."
   ]
  },
  {
   "cell_type": "code",
   "execution_count": 13,
   "id": "e6e4539a",
   "metadata": {
    "execution": {
     "iopub.execute_input": "2022-02-25T17:58:13.678163Z",
     "iopub.status.busy": "2022-02-25T17:58:13.677467Z",
     "iopub.status.idle": "2022-02-25T17:58:13.723732Z",
     "shell.execute_reply": "2022-02-25T17:58:13.723033Z",
     "shell.execute_reply.started": "2022-02-25T17:57:38.643245Z"
    },
    "papermill": {
     "duration": 0.079043,
     "end_time": "2022-02-25T17:58:13.723890",
     "exception": false,
     "start_time": "2022-02-25T17:58:13.644847",
     "status": "completed"
    },
    "tags": []
   },
   "outputs": [
    {
     "data": {
      "application/javascript": [
       "parent.postMessage({\"jupyterEvent\": \"custom.exercise_interaction\", \"data\": {\"outcomeType\": 1, \"valueTowardsCompletion\": 0.16666666666666666, \"interactionType\": 1, \"questionType\": 1, \"questionId\": \"6_GroupbyCountryVariety\", \"learnToolsVersion\": \"0.3.4\", \"failureMessage\": \"\", \"exceptionClass\": \"\", \"trace\": \"\"}}, \"*\")"
      ],
      "text/plain": [
       "<IPython.core.display.Javascript object>"
      ]
     },
     "metadata": {},
     "output_type": "display_data"
    },
    {
     "data": {
      "text/markdown": [
       "<span style=\"color:#33cc33\">Correct</span>"
      ],
      "text/plain": [
       "Correct"
      ]
     },
     "metadata": {},
     "output_type": "display_data"
    }
   ],
   "source": [
    "country_variety_counts = reviews.groupby(['country', 'variety']).size().sort_values(ascending=False)\n",
    "\n",
    "# Check your answer\n",
    "q6.check()"
   ]
  },
  {
   "cell_type": "code",
   "execution_count": 14,
   "id": "c00c00d7",
   "metadata": {
    "execution": {
     "iopub.execute_input": "2022-02-25T17:58:13.804746Z",
     "iopub.status.busy": "2022-02-25T17:58:13.804024Z",
     "iopub.status.idle": "2022-02-25T17:58:13.805793Z",
     "shell.execute_reply": "2022-02-25T17:58:13.806401Z",
     "shell.execute_reply.started": "2022-02-25T17:57:43.692496Z"
    },
    "papermill": {
     "duration": 0.044695,
     "end_time": "2022-02-25T17:58:13.806583",
     "exception": false,
     "start_time": "2022-02-25T17:58:13.761888",
     "status": "completed"
    },
    "tags": []
   },
   "outputs": [],
   "source": [
    "#q6.hint()\n",
    "#q6.solution()"
   ]
  },
  {
   "cell_type": "markdown",
   "id": "4044d755",
   "metadata": {
    "papermill": {
     "duration": 0.03747,
     "end_time": "2022-02-25T17:58:13.881895",
     "exception": false,
     "start_time": "2022-02-25T17:58:13.844425",
     "status": "completed"
    },
    "tags": []
   },
   "source": [
    "# Keep going\n",
    "\n",
    "Move on to the [**data types and missing data**](https://www.kaggle.com/residentmario/data-types-and-missing-values)."
   ]
  },
  {
   "cell_type": "markdown",
   "id": "8dfe0030",
   "metadata": {
    "papermill": {
     "duration": 0.037958,
     "end_time": "2022-02-25T17:58:13.957567",
     "exception": false,
     "start_time": "2022-02-25T17:58:13.919609",
     "status": "completed"
    },
    "tags": []
   },
   "source": [
    "---\n",
    "\n",
    "\n",
    "\n",
    "\n",
    "*Have questions or comments? Visit the [course discussion forum](https://www.kaggle.com/learn/pandas/discussion) to chat with other learners.*"
   ]
  }
 ],
 "metadata": {
  "kernelspec": {
   "display_name": "Python 3",
   "language": "python",
   "name": "python3"
  },
  "language_info": {
   "codemirror_mode": {
    "name": "ipython",
    "version": 3
   },
   "file_extension": ".py",
   "mimetype": "text/x-python",
   "name": "python",
   "nbconvert_exporter": "python",
   "pygments_lexer": "ipython3",
   "version": "3.7.12"
  },
  "papermill": {
   "default_parameters": {},
   "duration": 15.654267,
   "end_time": "2022-02-25T17:58:14.706340",
   "environment_variables": {},
   "exception": null,
   "input_path": "__notebook__.ipynb",
   "output_path": "__notebook__.ipynb",
   "parameters": {},
   "start_time": "2022-02-25T17:57:59.052073",
   "version": "2.3.3"
  }
 },
 "nbformat": 4,
 "nbformat_minor": 5
}
