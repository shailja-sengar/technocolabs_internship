{
 "cells": [
  {
   "cell_type": "markdown",
   "id": "6b727189",
   "metadata": {
    "papermill": {
     "duration": 0.021059,
     "end_time": "2022-02-26T17:54:32.417460",
     "exception": false,
     "start_time": "2022-02-26T17:54:32.396401",
     "status": "completed"
    },
    "tags": []
   },
   "source": [
    "**This notebook is an exercise in the [Introduction to Machine Learning](https://www.kaggle.com/learn/intro-to-machine-learning) course.  You can reference the tutorial at [this link](https://www.kaggle.com/dansbecker/your-first-machine-learning-model).**\n",
    "\n",
    "---\n"
   ]
  },
  {
   "cell_type": "markdown",
   "id": "c32fb25c",
   "metadata": {
    "papermill": {
     "duration": 0.019556,
     "end_time": "2022-02-26T17:54:32.461235",
     "exception": false,
     "start_time": "2022-02-26T17:54:32.441679",
     "status": "completed"
    },
    "tags": []
   },
   "source": [
    "## Recap\n",
    "So far, you have loaded your data and reviewed it with the following code. Run this cell to set up your coding environment where the previous step left off."
   ]
  },
  {
   "cell_type": "code",
   "execution_count": 1,
   "id": "1f87ddb4",
   "metadata": {
    "execution": {
     "iopub.execute_input": "2022-02-26T17:54:32.519578Z",
     "iopub.status.busy": "2022-02-26T17:54:32.518542Z",
     "iopub.status.idle": "2022-02-26T17:54:33.807316Z",
     "shell.execute_reply": "2022-02-26T17:54:33.807933Z",
     "shell.execute_reply.started": "2022-02-26T17:53:30.659900Z"
    },
    "papermill": {
     "duration": 1.327442,
     "end_time": "2022-02-26T17:54:33.808282",
     "exception": false,
     "start_time": "2022-02-26T17:54:32.480840",
     "status": "completed"
    },
    "tags": []
   },
   "outputs": [
    {
     "name": "stdout",
     "output_type": "stream",
     "text": [
      "Setup Complete\n"
     ]
    }
   ],
   "source": [
    "# Code you have previously used to load data\n",
    "import pandas as pd\n",
    "\n",
    "# Path of the file to read\n",
    "iowa_file_path = '../input/home-data-for-ml-course/train.csv'\n",
    "\n",
    "home_data = pd.read_csv(iowa_file_path)\n",
    "\n",
    "# Set up code checking\n",
    "from learntools.core import binder\n",
    "binder.bind(globals())\n",
    "from learntools.machine_learning.ex3 import *\n",
    "\n",
    "print(\"Setup Complete\")"
   ]
  },
  {
   "cell_type": "markdown",
   "id": "29e24d65",
   "metadata": {
    "papermill": {
     "duration": 0.021358,
     "end_time": "2022-02-26T17:54:33.851333",
     "exception": false,
     "start_time": "2022-02-26T17:54:33.829975",
     "status": "completed"
    },
    "tags": []
   },
   "source": [
    "# Exercises\n",
    "\n",
    "## Step 1: Specify Prediction Target\n",
    "Select the target variable, which corresponds to the sales price. Save this to a new variable called `y`. You'll need to print a list of the columns to find the name of the column you need.\n"
   ]
  },
  {
   "cell_type": "code",
   "execution_count": 2,
   "id": "114f70c4",
   "metadata": {
    "execution": {
     "iopub.execute_input": "2022-02-26T17:54:33.899196Z",
     "iopub.status.busy": "2022-02-26T17:54:33.898383Z",
     "iopub.status.idle": "2022-02-26T17:54:33.901705Z",
     "shell.execute_reply": "2022-02-26T17:54:33.902317Z",
     "shell.execute_reply.started": "2022-02-26T17:53:36.190172Z"
    },
    "papermill": {
     "duration": 0.030143,
     "end_time": "2022-02-26T17:54:33.902485",
     "exception": false,
     "start_time": "2022-02-26T17:54:33.872342",
     "status": "completed"
    },
    "tags": []
   },
   "outputs": [
    {
     "name": "stdout",
     "output_type": "stream",
     "text": [
      "Index(['Id', 'MSSubClass', 'MSZoning', 'LotFrontage', 'LotArea', 'Street',\n",
      "       'Alley', 'LotShape', 'LandContour', 'Utilities', 'LotConfig',\n",
      "       'LandSlope', 'Neighborhood', 'Condition1', 'Condition2', 'BldgType',\n",
      "       'HouseStyle', 'OverallQual', 'OverallCond', 'YearBuilt', 'YearRemodAdd',\n",
      "       'RoofStyle', 'RoofMatl', 'Exterior1st', 'Exterior2nd', 'MasVnrType',\n",
      "       'MasVnrArea', 'ExterQual', 'ExterCond', 'Foundation', 'BsmtQual',\n",
      "       'BsmtCond', 'BsmtExposure', 'BsmtFinType1', 'BsmtFinSF1',\n",
      "       'BsmtFinType2', 'BsmtFinSF2', 'BsmtUnfSF', 'TotalBsmtSF', 'Heating',\n",
      "       'HeatingQC', 'CentralAir', 'Electrical', '1stFlrSF', '2ndFlrSF',\n",
      "       'LowQualFinSF', 'GrLivArea', 'BsmtFullBath', 'BsmtHalfBath', 'FullBath',\n",
      "       'HalfBath', 'BedroomAbvGr', 'KitchenAbvGr', 'KitchenQual',\n",
      "       'TotRmsAbvGrd', 'Functional', 'Fireplaces', 'FireplaceQu', 'GarageType',\n",
      "       'GarageYrBlt', 'GarageFinish', 'GarageCars', 'GarageArea', 'GarageQual',\n",
      "       'GarageCond', 'PavedDrive', 'WoodDeckSF', 'OpenPorchSF',\n",
      "       'EnclosedPorch', '3SsnPorch', 'ScreenPorch', 'PoolArea', 'PoolQC',\n",
      "       'Fence', 'MiscFeature', 'MiscVal', 'MoSold', 'YrSold', 'SaleType',\n",
      "       'SaleCondition', 'SalePrice'],\n",
      "      dtype='object')\n"
     ]
    }
   ],
   "source": [
    "# print the list of columns in the dataset to find the name of the prediction target\n",
    "print(home_data.columns)\n"
   ]
  },
  {
   "cell_type": "code",
   "execution_count": 3,
   "id": "5101f509",
   "metadata": {
    "execution": {
     "iopub.execute_input": "2022-02-26T17:54:33.955145Z",
     "iopub.status.busy": "2022-02-26T17:54:33.953879Z",
     "iopub.status.idle": "2022-02-26T17:54:33.967762Z",
     "shell.execute_reply": "2022-02-26T17:54:33.968786Z",
     "shell.execute_reply.started": "2022-02-26T17:53:41.150155Z"
    },
    "papermill": {
     "duration": 0.044766,
     "end_time": "2022-02-26T17:54:33.969097",
     "exception": false,
     "start_time": "2022-02-26T17:54:33.924331",
     "status": "completed"
    },
    "tags": []
   },
   "outputs": [
    {
     "data": {
      "application/javascript": [
       "parent.postMessage({\"jupyterEvent\": \"custom.exercise_interaction\", \"data\": {\"outcomeType\": 1, \"valueTowardsCompletion\": 0.25, \"interactionType\": 1, \"questionType\": 2, \"questionId\": \"1_SetTarget\", \"learnToolsVersion\": \"0.3.4\", \"failureMessage\": \"\", \"exceptionClass\": \"\", \"trace\": \"\"}}, \"*\")"
      ],
      "text/plain": [
       "<IPython.core.display.Javascript object>"
      ]
     },
     "metadata": {},
     "output_type": "display_data"
    },
    {
     "data": {
      "text/markdown": [
       "<span style=\"color:#33cc33\">Correct</span>"
      ],
      "text/plain": [
       "Correct"
      ]
     },
     "metadata": {},
     "output_type": "display_data"
    }
   ],
   "source": [
    "y = home_data.SalePrice\n",
    "\n",
    "# Check your answer\n",
    "step_1.check()"
   ]
  },
  {
   "cell_type": "code",
   "execution_count": 4,
   "id": "d465a592",
   "metadata": {
    "collapsed": true,
    "execution": {
     "iopub.execute_input": "2022-02-26T17:54:34.033811Z",
     "iopub.status.busy": "2022-02-26T17:54:34.033063Z",
     "iopub.status.idle": "2022-02-26T17:54:34.037168Z",
     "shell.execute_reply": "2022-02-26T17:54:34.037846Z"
    },
    "jupyter": {
     "outputs_hidden": true
    },
    "papermill": {
     "duration": 0.04144,
     "end_time": "2022-02-26T17:54:34.038038",
     "exception": false,
     "start_time": "2022-02-26T17:54:33.996598",
     "status": "completed"
    },
    "tags": []
   },
   "outputs": [],
   "source": [
    "# The lines below will show you a hint or the solution.\n",
    "# step_1.hint() \n",
    "# step_1.solution()"
   ]
  },
  {
   "cell_type": "markdown",
   "id": "f93ee555",
   "metadata": {
    "papermill": {
     "duration": 0.026356,
     "end_time": "2022-02-26T17:54:34.095073",
     "exception": false,
     "start_time": "2022-02-26T17:54:34.068717",
     "status": "completed"
    },
    "tags": []
   },
   "source": [
    "## Step 2: Create X\n",
    "Now you will create a DataFrame called `X` holding the predictive features.\n",
    "\n",
    "Since you want only some columns from the original data, you'll first create a list with the names of the columns you want in `X`.\n",
    "\n",
    "You'll use just the following columns in the list (you can copy and paste the whole list to save some typing, though you'll still need to add quotes):\n",
    "    * LotArea\n",
    "    * YearBuilt\n",
    "    * 1stFlrSF\n",
    "    * 2ndFlrSF\n",
    "    * FullBath\n",
    "    * BedroomAbvGr\n",
    "    * TotRmsAbvGrd\n",
    "\n",
    "After you've created that list of features, use it to create the DataFrame that you'll use to fit the model."
   ]
  },
  {
   "cell_type": "code",
   "execution_count": 5,
   "id": "8a189734",
   "metadata": {
    "execution": {
     "iopub.execute_input": "2022-02-26T17:54:34.147086Z",
     "iopub.status.busy": "2022-02-26T17:54:34.146198Z",
     "iopub.status.idle": "2022-02-26T17:54:34.158218Z",
     "shell.execute_reply": "2022-02-26T17:54:34.158761Z",
     "shell.execute_reply.started": "2022-02-26T17:53:47.650972Z"
    },
    "papermill": {
     "duration": 0.038881,
     "end_time": "2022-02-26T17:54:34.158965",
     "exception": false,
     "start_time": "2022-02-26T17:54:34.120084",
     "status": "completed"
    },
    "tags": []
   },
   "outputs": [
    {
     "data": {
      "application/javascript": [
       "parent.postMessage({\"jupyterEvent\": \"custom.exercise_interaction\", \"data\": {\"outcomeType\": 1, \"valueTowardsCompletion\": 0.25, \"interactionType\": 1, \"questionType\": 2, \"questionId\": \"2_SelectPredictionData\", \"learnToolsVersion\": \"0.3.4\", \"failureMessage\": \"\", \"exceptionClass\": \"\", \"trace\": \"\"}}, \"*\")"
      ],
      "text/plain": [
       "<IPython.core.display.Javascript object>"
      ]
     },
     "metadata": {},
     "output_type": "display_data"
    },
    {
     "data": {
      "text/markdown": [
       "<span style=\"color:#33cc33\">Correct</span>"
      ],
      "text/plain": [
       "Correct"
      ]
     },
     "metadata": {},
     "output_type": "display_data"
    }
   ],
   "source": [
    "# Create the list of features below\n",
    "feature_names = [\"LotArea\", \"YearBuilt\", \"1stFlrSF\",  \"2ndFlrSF\", \"FullBath\", \"BedroomAbvGr\", \"TotRmsAbvGrd\"]\n",
    "\n",
    "# Select data corresponding to features in feature_names\n",
    "X = home_data[feature_names]\n",
    "\n",
    "# Check your answer\n",
    "step_2.check()"
   ]
  },
  {
   "cell_type": "code",
   "execution_count": 6,
   "id": "0624ed90",
   "metadata": {
    "collapsed": true,
    "execution": {
     "iopub.execute_input": "2022-02-26T17:54:34.212087Z",
     "iopub.status.busy": "2022-02-26T17:54:34.211355Z",
     "iopub.status.idle": "2022-02-26T17:54:34.213105Z",
     "shell.execute_reply": "2022-02-26T17:54:34.213654Z"
    },
    "jupyter": {
     "outputs_hidden": true
    },
    "papermill": {
     "duration": 0.030988,
     "end_time": "2022-02-26T17:54:34.213834",
     "exception": false,
     "start_time": "2022-02-26T17:54:34.182846",
     "status": "completed"
    },
    "tags": []
   },
   "outputs": [],
   "source": [
    "# step_2.hint()\n",
    "# step_2.solution()"
   ]
  },
  {
   "cell_type": "markdown",
   "id": "ed42c664",
   "metadata": {
    "papermill": {
     "duration": 0.025355,
     "end_time": "2022-02-26T17:54:34.263545",
     "exception": false,
     "start_time": "2022-02-26T17:54:34.238190",
     "status": "completed"
    },
    "tags": []
   },
   "source": [
    "## Review Data\n",
    "Before building a model, take a quick look at **X** to verify it looks sensible"
   ]
  },
  {
   "cell_type": "code",
   "execution_count": 7,
   "id": "3b3a3a7b",
   "metadata": {
    "execution": {
     "iopub.execute_input": "2022-02-26T17:54:34.315077Z",
     "iopub.status.busy": "2022-02-26T17:54:34.314373Z",
     "iopub.status.idle": "2022-02-26T17:54:34.328588Z",
     "shell.execute_reply": "2022-02-26T17:54:34.329205Z",
     "shell.execute_reply.started": "2022-02-26T17:53:53.619648Z"
    },
    "papermill": {
     "duration": 0.041697,
     "end_time": "2022-02-26T17:54:34.329401",
     "exception": false,
     "start_time": "2022-02-26T17:54:34.287704",
     "status": "completed"
    },
    "tags": []
   },
   "outputs": [
    {
     "name": "stdout",
     "output_type": "stream",
     "text": [
      "      LotArea  YearBuilt  1stFlrSF  2ndFlrSF  FullBath  BedroomAbvGr  \\\n",
      "0        8450       2003       856       854         2             3   \n",
      "1        9600       1976      1262         0         2             3   \n",
      "2       11250       2001       920       866         2             3   \n",
      "3        9550       1915       961       756         1             3   \n",
      "4       14260       2000      1145      1053         2             4   \n",
      "...       ...        ...       ...       ...       ...           ...   \n",
      "1455     7917       1999       953       694         2             3   \n",
      "1456    13175       1978      2073         0         2             3   \n",
      "1457     9042       1941      1188      1152         2             4   \n",
      "1458     9717       1950      1078         0         1             2   \n",
      "1459     9937       1965      1256         0         1             3   \n",
      "\n",
      "      TotRmsAbvGrd  \n",
      "0                8  \n",
      "1                6  \n",
      "2                6  \n",
      "3                7  \n",
      "4                9  \n",
      "...            ...  \n",
      "1455             7  \n",
      "1456             7  \n",
      "1457             9  \n",
      "1458             5  \n",
      "1459             6  \n",
      "\n",
      "[1460 rows x 7 columns]\n",
      "   LotArea  YearBuilt  1stFlrSF  2ndFlrSF  FullBath  BedroomAbvGr  \\\n",
      "0     8450       2003       856       854         2             3   \n",
      "1     9600       1976      1262         0         2             3   \n",
      "2    11250       2001       920       866         2             3   \n",
      "3     9550       1915       961       756         1             3   \n",
      "4    14260       2000      1145      1053         2             4   \n",
      "\n",
      "   TotRmsAbvGrd  \n",
      "0             8  \n",
      "1             6  \n",
      "2             6  \n",
      "3             7  \n",
      "4             9  \n"
     ]
    }
   ],
   "source": [
    "# Review data\n",
    "# print description or statistics from X\n",
    "print(X)\n",
    "\n",
    "# print the top few lines\n",
    "print(X.head())"
   ]
  },
  {
   "cell_type": "markdown",
   "id": "05fc86a7",
   "metadata": {
    "papermill": {
     "duration": 0.024408,
     "end_time": "2022-02-26T17:54:34.379030",
     "exception": false,
     "start_time": "2022-02-26T17:54:34.354622",
     "status": "completed"
    },
    "tags": []
   },
   "source": [
    "## Step 3: Specify and Fit Model\n",
    "Create a `DecisionTreeRegressor` and save it iowa_model. Ensure you've done the relevant import from sklearn to run this command.\n",
    "\n",
    "Then fit the model you just created using the data in `X` and `y` that you saved above."
   ]
  },
  {
   "cell_type": "code",
   "execution_count": 8,
   "id": "2e6441b2",
   "metadata": {
    "execution": {
     "iopub.execute_input": "2022-02-26T17:54:34.431754Z",
     "iopub.status.busy": "2022-02-26T17:54:34.430982Z",
     "iopub.status.idle": "2022-02-26T17:54:34.450132Z",
     "shell.execute_reply": "2022-02-26T17:54:34.449556Z",
     "shell.execute_reply.started": "2022-02-26T17:53:58.019997Z"
    },
    "papermill": {
     "duration": 0.046522,
     "end_time": "2022-02-26T17:54:34.450280",
     "exception": false,
     "start_time": "2022-02-26T17:54:34.403758",
     "status": "completed"
    },
    "tags": []
   },
   "outputs": [
    {
     "data": {
      "application/javascript": [
       "parent.postMessage({\"jupyterEvent\": \"custom.exercise_interaction\", \"data\": {\"outcomeType\": 1, \"valueTowardsCompletion\": 0.25, \"interactionType\": 1, \"questionType\": 2, \"questionId\": \"3_CreateModel\", \"learnToolsVersion\": \"0.3.4\", \"failureMessage\": \"\", \"exceptionClass\": \"\", \"trace\": \"\"}}, \"*\")"
      ],
      "text/plain": [
       "<IPython.core.display.Javascript object>"
      ]
     },
     "metadata": {},
     "output_type": "display_data"
    },
    {
     "data": {
      "text/markdown": [
       "<span style=\"color:#33cc33\">Correct</span>"
      ],
      "text/plain": [
       "Correct"
      ]
     },
     "metadata": {},
     "output_type": "display_data"
    }
   ],
   "source": [
    "from sklearn.tree import DecisionTreeRegressor\n",
    "#specify the model. \n",
    "#For model reproducibility, set a numeric value for random_state when specifying the model\n",
    "iowa_model = DecisionTreeRegressor(random_state=1)\n",
    "\n",
    "# Fit the model\n",
    "iowa_model.fit(X,y)\n",
    "\n",
    "# Check your answer\n",
    "step_3.check()"
   ]
  },
  {
   "cell_type": "code",
   "execution_count": 9,
   "id": "a6a5ccd2",
   "metadata": {
    "collapsed": true,
    "execution": {
     "iopub.execute_input": "2022-02-26T17:54:34.506306Z",
     "iopub.status.busy": "2022-02-26T17:54:34.505606Z",
     "iopub.status.idle": "2022-02-26T17:54:34.509192Z",
     "shell.execute_reply": "2022-02-26T17:54:34.508610Z"
    },
    "jupyter": {
     "outputs_hidden": true
    },
    "papermill": {
     "duration": 0.033279,
     "end_time": "2022-02-26T17:54:34.509341",
     "exception": false,
     "start_time": "2022-02-26T17:54:34.476062",
     "status": "completed"
    },
    "tags": []
   },
   "outputs": [],
   "source": [
    "# step_3.hint()\n",
    "# step_3.solution()"
   ]
  },
  {
   "cell_type": "markdown",
   "id": "f68ef281",
   "metadata": {
    "papermill": {
     "duration": 0.026138,
     "end_time": "2022-02-26T17:54:34.561899",
     "exception": false,
     "start_time": "2022-02-26T17:54:34.535761",
     "status": "completed"
    },
    "tags": []
   },
   "source": [
    "## Step 4: Make Predictions\n",
    "Make predictions with the model's `predict` command using `X` as the data. Save the results to a variable called `predictions`."
   ]
  },
  {
   "cell_type": "code",
   "execution_count": 10,
   "id": "e7221e71",
   "metadata": {
    "execution": {
     "iopub.execute_input": "2022-02-26T17:54:34.621636Z",
     "iopub.status.busy": "2022-02-26T17:54:34.620911Z",
     "iopub.status.idle": "2022-02-26T17:54:34.634918Z",
     "shell.execute_reply": "2022-02-26T17:54:34.634164Z",
     "shell.execute_reply.started": "2022-02-26T17:54:03.270171Z"
    },
    "papermill": {
     "duration": 0.046847,
     "end_time": "2022-02-26T17:54:34.635085",
     "exception": false,
     "start_time": "2022-02-26T17:54:34.588238",
     "status": "completed"
    },
    "tags": []
   },
   "outputs": [
    {
     "name": "stdout",
     "output_type": "stream",
     "text": [
      "[208500. 181500. 223500. ... 266500. 142125. 147500.]\n"
     ]
    },
    {
     "data": {
      "application/javascript": [
       "parent.postMessage({\"jupyterEvent\": \"custom.exercise_interaction\", \"data\": {\"outcomeType\": 1, \"valueTowardsCompletion\": 0.25, \"interactionType\": 1, \"questionType\": 2, \"questionId\": \"4_MakePredictions\", \"learnToolsVersion\": \"0.3.4\", \"failureMessage\": \"\", \"exceptionClass\": \"\", \"trace\": \"\"}}, \"*\")"
      ],
      "text/plain": [
       "<IPython.core.display.Javascript object>"
      ]
     },
     "metadata": {},
     "output_type": "display_data"
    },
    {
     "data": {
      "text/markdown": [
       "<span style=\"color:#33cc33\">Correct</span>"
      ],
      "text/plain": [
       "Correct"
      ]
     },
     "metadata": {},
     "output_type": "display_data"
    }
   ],
   "source": [
    "predictions = iowa_model.predict(X)\n",
    "print(predictions)\n",
    "\n",
    "# Check your answer\n",
    "step_4.check()"
   ]
  },
  {
   "cell_type": "code",
   "execution_count": 11,
   "id": "acbe2f5b",
   "metadata": {
    "collapsed": true,
    "execution": {
     "iopub.execute_input": "2022-02-26T17:54:34.697386Z",
     "iopub.status.busy": "2022-02-26T17:54:34.696299Z",
     "iopub.status.idle": "2022-02-26T17:54:34.700142Z",
     "shell.execute_reply": "2022-02-26T17:54:34.700831Z"
    },
    "jupyter": {
     "outputs_hidden": true
    },
    "papermill": {
     "duration": 0.036505,
     "end_time": "2022-02-26T17:54:34.701054",
     "exception": false,
     "start_time": "2022-02-26T17:54:34.664549",
     "status": "completed"
    },
    "tags": []
   },
   "outputs": [],
   "source": [
    "# step_4.hint()\n",
    "# step_4.solution()"
   ]
  },
  {
   "cell_type": "markdown",
   "id": "7a660185",
   "metadata": {
    "papermill": {
     "duration": 0.028277,
     "end_time": "2022-02-26T17:54:34.758234",
     "exception": false,
     "start_time": "2022-02-26T17:54:34.729957",
     "status": "completed"
    },
    "tags": []
   },
   "source": [
    "## Think About Your Results\n",
    "\n",
    "Use the `head` method to compare the top few predictions to the actual home values (in `y`) for those same homes. Anything surprising?\n"
   ]
  },
  {
   "cell_type": "code",
   "execution_count": 12,
   "id": "1f638f87",
   "metadata": {
    "execution": {
     "iopub.execute_input": "2022-02-26T17:54:34.819047Z",
     "iopub.status.busy": "2022-02-26T17:54:34.817959Z",
     "iopub.status.idle": "2022-02-26T17:54:34.822229Z",
     "shell.execute_reply": "2022-02-26T17:54:34.822871Z"
    },
    "papermill": {
     "duration": 0.036247,
     "end_time": "2022-02-26T17:54:34.823054",
     "exception": false,
     "start_time": "2022-02-26T17:54:34.786807",
     "status": "completed"
    },
    "tags": []
   },
   "outputs": [],
   "source": [
    "# You can write code in this cell\n"
   ]
  },
  {
   "cell_type": "markdown",
   "id": "0d83d1e5",
   "metadata": {
    "papermill": {
     "duration": 0.02869,
     "end_time": "2022-02-26T17:54:34.880119",
     "exception": false,
     "start_time": "2022-02-26T17:54:34.851429",
     "status": "completed"
    },
    "tags": []
   },
   "source": [
    "It's natural to ask how accurate the model's predictions will be and how you can improve that. That will be you're next step.\n",
    "\n",
    "# Keep Going\n",
    "\n",
    "You are ready for **[Model Validation](https://www.kaggle.com/dansbecker/model-validation).**\n"
   ]
  },
  {
   "cell_type": "markdown",
   "id": "45d567ce",
   "metadata": {
    "papermill": {
     "duration": 0.02792,
     "end_time": "2022-02-26T17:54:34.936491",
     "exception": false,
     "start_time": "2022-02-26T17:54:34.908571",
     "status": "completed"
    },
    "tags": []
   },
   "source": [
    "---\n",
    "\n",
    "\n",
    "\n",
    "\n",
    "*Have questions or comments? Visit the [Learn Discussion forum](https://www.kaggle.com/learn-forum/161285) to chat with other Learners.*"
   ]
  }
 ],
 "metadata": {
  "kernelspec": {
   "display_name": "Python 3",
   "language": "python",
   "name": "python3"
  },
  "language_info": {
   "codemirror_mode": {
    "name": "ipython",
    "version": 3
   },
   "file_extension": ".py",
   "mimetype": "text/x-python",
   "name": "python",
   "nbconvert_exporter": "python",
   "pygments_lexer": "ipython3",
   "version": "3.7.12"
  },
  "papermill": {
   "default_parameters": {},
   "duration": 12.67398,
   "end_time": "2022-02-26T17:54:35.575374",
   "environment_variables": {},
   "exception": null,
   "input_path": "__notebook__.ipynb",
   "output_path": "__notebook__.ipynb",
   "parameters": {},
   "start_time": "2022-02-26T17:54:22.901394",
   "version": "2.3.3"
  }
 },
 "nbformat": 4,
 "nbformat_minor": 5
}
